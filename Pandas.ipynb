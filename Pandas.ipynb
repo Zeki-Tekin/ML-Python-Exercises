{
  "nbformat": 4,
  "nbformat_minor": 0,
  "metadata": {
    "colab": {
      "provenance": [],
      "collapsed_sections": []
    },
    "kernelspec": {
      "name": "python3",
      "display_name": "Python 3"
    },
    "language_info": {
      "name": "python"
    }
  },
  "cells": [
    {
      "cell_type": "code",
      "execution_count": null,
      "metadata": {
        "id": "ZRvfmkeTVkM6"
      },
      "outputs": [],
      "source": [
        "import pandas as pd\n",
        "import numpy as np"
      ]
    },
    {
      "cell_type": "markdown",
      "source": [
        "**1) Create a Series object and print it to the console.**"
      ],
      "metadata": {
        "id": "VdNl0uDmVyQx"
      }
    },
    {
      "cell_type": "code",
      "source": [
        "stocks = ['PLW', 'CDR', '11B', 'TEN']"
      ],
      "metadata": {
        "id": "1rGMhSmLVyga"
      },
      "execution_count": null,
      "outputs": []
    },
    {
      "cell_type": "code",
      "source": [
        "print(pd.Series(data=stocks))"
      ],
      "metadata": {
        "colab": {
          "base_uri": "https://localhost:8080/"
        },
        "id": "vTlfXfBiVyq6",
        "outputId": "c82f9548-d1b1-4988-807c-c123ba8733d1"
      },
      "execution_count": null,
      "outputs": [
        {
          "output_type": "stream",
          "name": "stdout",
          "text": [
            "0    PLW\n",
            "1    CDR\n",
            "2    11B\n",
            "3    TEN\n",
            "dtype: object\n"
          ]
        }
      ]
    },
    {
      "cell_type": "markdown",
      "source": [
        "**2) Create a Series object and assign it to the quotations variable. In response, print quotations variable to the console.**"
      ],
      "metadata": {
        "id": "MXjRnBzPXkTn"
      }
    },
    {
      "cell_type": "code",
      "source": [
        "stocks = {'PLW': 387.00, 'CDR': 339.5, 'TEN': 349.5, '11B': 391.0}"
      ],
      "metadata": {
        "id": "ch0oR_AwXkTp"
      },
      "execution_count": null,
      "outputs": []
    },
    {
      "cell_type": "code",
      "source": [
        "quotations=pd.Series(stocks)\n",
        "print(quotations)"
      ],
      "metadata": {
        "colab": {
          "base_uri": "https://localhost:8080/"
        },
        "id": "LZIC_kGsXkTq",
        "outputId": "67d9c3eb-f36c-4eb6-d125-0bc0d7093cbd"
      },
      "execution_count": null,
      "outputs": [
        {
          "output_type": "stream",
          "name": "stdout",
          "text": [
            "PLW    387.0\n",
            "CDR    339.5\n",
            "TEN    349.5\n",
            "11B    391.0\n",
            "dtype: float64\n"
          ]
        }
      ]
    },
    {
      "cell_type": "markdown",
      "source": [
        "**3) Convert quotations to the list and print it to the console.**"
      ],
      "metadata": {
        "id": "nYtRxyI1XkTq"
      }
    },
    {
      "cell_type": "code",
      "source": [
        "a=list(quotations)\n",
        "print(type(a))\n",
        "print(a)"
      ],
      "metadata": {
        "colab": {
          "base_uri": "https://localhost:8080/"
        },
        "id": "O8_R2PKoXkTq",
        "outputId": "1cba0a17-e606-4b1f-dfcc-4a62abbd5db7"
      },
      "execution_count": null,
      "outputs": [
        {
          "output_type": "stream",
          "name": "stdout",
          "text": [
            "<class 'list'>\n",
            "[387.0, 339.5, 349.5, 391.0]\n"
          ]
        }
      ]
    },
    {
      "cell_type": "code",
      "source": [
        "b=quotations.tolist()\n",
        "print(type(b))\n",
        "print(b)"
      ],
      "metadata": {
        "colab": {
          "base_uri": "https://localhost:8080/"
        },
        "id": "qQQ_mwxYXkTr",
        "outputId": "472574b5-02c4-4a8d-f511-f03380ac7fca"
      },
      "execution_count": null,
      "outputs": [
        {
          "output_type": "stream",
          "name": "stdout",
          "text": [
            "<class 'list'>\n",
            "[387.0, 339.5, 349.5, 391.0]\n"
          ]
        }
      ]
    },
    {
      "cell_type": "markdown",
      "source": [
        "**4) Convert the quotations to the DataFrame and set the column name to 'price'. In response, print this DataFrame to the console.**\n"
      ],
      "metadata": {
        "id": "eamzCpudXkTr"
      }
    },
    {
      "cell_type": "code",
      "source": [
        "print(pd.DataFrame(quotations))"
      ],
      "metadata": {
        "colab": {
          "base_uri": "https://localhost:8080/"
        },
        "id": "XZjF7wEmXkTr",
        "outputId": "4c2261dc-1161-44e0-c46a-fb0a0dea6cb7"
      },
      "execution_count": null,
      "outputs": [
        {
          "output_type": "stream",
          "name": "stdout",
          "text": [
            "         0\n",
            "PLW  387.0\n",
            "CDR  339.5\n",
            "TEN  349.5\n",
            "11B  391.0\n"
          ]
        }
      ]
    },
    {
      "cell_type": "code",
      "source": [
        "print(type(pd.DataFrame(quotations)))"
      ],
      "metadata": {
        "colab": {
          "base_uri": "https://localhost:8080/"
        },
        "id": "rLSJeDqXXkTr",
        "outputId": "2f2fc7e1-49d0-4de6-f676-59689681a409"
      },
      "execution_count": null,
      "outputs": [
        {
          "output_type": "stream",
          "name": "stdout",
          "text": [
            "<class 'pandas.core.frame.DataFrame'>\n"
          ]
        }
      ]
    },
    {
      "cell_type": "markdown",
      "source": [
        "**5) Using the numpy and pandas create the following Series:**\n",
        "\n",
        "101    10.0\n",
        "\n",
        "102    20.0\n",
        "\n",
        "103    30.0\n",
        "\n",
        "104    40.0\n",
        "\n",
        "105    50.0\n",
        "\n",
        "106    60.0\n",
        "\n",
        "107    70.0\n",
        "\n",
        "108    80.0\n",
        "\n",
        "109    90.0"
      ],
      "metadata": {
        "id": "4rtkrWjGXkTr"
      }
    },
    {
      "cell_type": "code",
      "source": [
        "s=pd.Series(data=np.arange(10,100,10),index=np.arange(101,110,1),dtype='float')"
      ],
      "metadata": {
        "id": "THT9XN3BXkTt"
      },
      "execution_count": null,
      "outputs": []
    },
    {
      "cell_type": "code",
      "source": [
        "print(s)"
      ],
      "metadata": {
        "colab": {
          "base_uri": "https://localhost:8080/"
        },
        "id": "v5hJuvnCXkTt",
        "outputId": "893e78b5-933a-416c-847a-8df81a8f37af"
      },
      "execution_count": null,
      "outputs": [
        {
          "output_type": "stream",
          "name": "stdout",
          "text": [
            "101    10.0\n",
            "102    20.0\n",
            "103    30.0\n",
            "104    40.0\n",
            "105    50.0\n",
            "106    60.0\n",
            "107    70.0\n",
            "108    80.0\n",
            "109    90.0\n",
            "dtype: float64\n"
          ]
        }
      ]
    },
    {
      "cell_type": "markdown",
      "source": [
        "**6) Convert its type to int and print this Series to the console.**"
      ],
      "metadata": {
        "id": "K3SK-wc-XkTt"
      }
    },
    {
      "cell_type": "code",
      "source": [
        "series = pd.Series(['001', '002', '003', '004'], list('abcd'))"
      ],
      "metadata": {
        "id": "jTNrytBfXkTt"
      },
      "execution_count": null,
      "outputs": []
    },
    {
      "cell_type": "code",
      "source": [
        "series=pd.to_numeric(series)\n",
        "print(series)"
      ],
      "metadata": {
        "colab": {
          "base_uri": "https://localhost:8080/"
        },
        "id": "x6SPSR-pXkTt",
        "outputId": "1860d584-8ac0-45fb-86ec-ec7610e6d425"
      },
      "execution_count": null,
      "outputs": [
        {
          "output_type": "stream",
          "name": "stdout",
          "text": [
            "a    1\n",
            "b    2\n",
            "c    3\n",
            "d    4\n",
            "dtype: int64\n"
          ]
        }
      ]
    },
    {
      "cell_type": "markdown",
      "source": [
        "**7) Add two elements to this Series:**\n",
        "\n",
        "key: 'BBT', value: 25.5\n",
        "\n",
        "key: 'F51', value: 19.2\n",
        "\n",
        "In response, print quotations Series to the console.\n"
      ],
      "metadata": {
        "id": "jOKpAmBkXkTt"
      }
    },
    {
      "cell_type": "code",
      "source": [
        "stocks = {'PLW': 387.00, 'CDR': 339.5, 'TEN': 349.5, '11B': 391.0}\n",
        "quotations = pd.Series(data=stocks)"
      ],
      "metadata": {
        "id": "N2kd2EdXXkTt"
      },
      "execution_count": null,
      "outputs": []
    },
    {
      "cell_type": "code",
      "source": [
        "quotations=quotations.append(pd.Series({'BBT': 25.5, 'F51': 19.2}))\n",
        "print(quotations)"
      ],
      "metadata": {
        "colab": {
          "base_uri": "https://localhost:8080/"
        },
        "id": "zMxcEFb1XkTt",
        "outputId": "4c1cb4cf-cdca-4653-a5a9-1da1cbe32f72"
      },
      "execution_count": null,
      "outputs": [
        {
          "output_type": "stream",
          "name": "stdout",
          "text": [
            "PLW    387.0\n",
            "CDR    339.5\n",
            "TEN    349.5\n",
            "11B    391.0\n",
            "BBT     25.5\n",
            "F51     19.2\n",
            "dtype: float64\n"
          ]
        }
      ]
    },
    {
      "cell_type": "markdown",
      "source": [
        "**8) Convert the following quotations Seriesto DataFrame. Reset the index and name the columns 'ticker' and 'price' respectively. In response, print this DataFrame to the console.***"
      ],
      "metadata": {
        "id": "782hTa1hXkTt"
      }
    },
    {
      "cell_type": "code",
      "source": [
        "stocks = {\n",
        "    'PLW': 387.00, \n",
        "    'CDR': 339.5, \n",
        "    'TEN': 349.5, \n",
        "    '11B': 391.0, \n",
        "    'BBT': 25.5, \n",
        "    'F51': 19.2\n",
        "}"
      ],
      "metadata": {
        "id": "vL_qBykBXkTu"
      },
      "execution_count": null,
      "outputs": []
    },
    {
      "cell_type": "code",
      "source": [
        "quotations = pd.Series(data=stocks)\n",
        "q_df=pd.DataFrame(quotations).reset_index()\n",
        "q_df.columns=['Ticker','Price']\n",
        "print(q_df)"
      ],
      "metadata": {
        "colab": {
          "base_uri": "https://localhost:8080/"
        },
        "id": "iKqWIj5lXkTu",
        "outputId": "0179dcb8-0fd4-484e-cf9a-afa5a8bb5719"
      },
      "execution_count": null,
      "outputs": [
        {
          "output_type": "stream",
          "name": "stdout",
          "text": [
            "  Ticker  Price\n",
            "0    PLW  387.0\n",
            "1    CDR  339.5\n",
            "2    TEN  349.5\n",
            "3    11B  391.0\n",
            "4    BBT   25.5\n",
            "5    F51   19.2\n"
          ]
        }
      ]
    },
    {
      "cell_type": "markdown",
      "source": [
        "**9) Create the following DataFrame object and assign it to the companies variable:**\n",
        "\n",
        "     company   price   ticker\n",
        "\n",
        "0     Amazon  2375.0  AMZN.US\n",
        "\n",
        "1  Microsoft   178.6  MSFT.US\n",
        "\n",
        "2   Facebook   179.2    FB.US"
      ],
      "metadata": {
        "id": "B3jOFQfPXkTu"
      }
    },
    {
      "cell_type": "code",
      "source": [
        "data_dict={'company':['Amazon',\"Microsoft\",\"Facebook\"],'price':[2375.0,178.6,179.2],'ticker':['AMZN.US','MSFT.US','FB.US']}\n",
        "companies=pd.DataFrame(data_dict)\n",
        "print(companies)"
      ],
      "metadata": {
        "colab": {
          "base_uri": "https://localhost:8080/"
        },
        "id": "I9sZyoHdXkTu",
        "outputId": "79a28831-030c-48f5-b6af-5f1357e21136"
      },
      "execution_count": null,
      "outputs": [
        {
          "output_type": "stream",
          "name": "stdout",
          "text": [
            "     company   price   ticker\n",
            "0     Amazon  2375.0  AMZN.US\n",
            "1  Microsoft   178.6  MSFT.US\n",
            "2   Facebook   179.2    FB.US\n"
          ]
        }
      ]
    },
    {
      "cell_type": "code",
      "source": [],
      "metadata": {
        "id": "wyShOkq7XkTu"
      },
      "execution_count": null,
      "outputs": []
    },
    {
      "cell_type": "markdown",
      "source": [
        "**10) Convert the first column of the companies DataFrame to index. In response, print companies DataFrame to the console.**"
      ],
      "metadata": {
        "id": "LxsHQWK1XkTu"
      }
    },
    {
      "cell_type": "code",
      "source": [
        "companies.set_index('company',inplace=True)\n",
        "print(companies)"
      ],
      "metadata": {
        "colab": {
          "base_uri": "https://localhost:8080/"
        },
        "id": "wlJNNrlhXkTu",
        "outputId": "030b51ab-c585-4981-f649-b56516847d60"
      },
      "execution_count": null,
      "outputs": [
        {
          "output_type": "stream",
          "name": "stdout",
          "text": [
            "            price   ticker\n",
            "company                   \n",
            "Amazon     2375.0  AMZN.US\n",
            "Microsoft   178.6  MSFT.US\n",
            "Facebook    179.2    FB.US\n"
          ]
        }
      ]
    },
    {
      "cell_type": "code",
      "source": [],
      "metadata": {
        "id": "5GUQRCRmXkTu"
      },
      "execution_count": null,
      "outputs": []
    },
    {
      "cell_type": "markdown",
      "source": [
        "**11) Create the DatetimeIndex object containing the yyyy-mm-dd format dates for all days from January 2020 and assign it to the date_range variable. In response, print this variable to the console.**\n",
        "\n",
        "              ['2020-01-01', '2020-01-02', '2020-01-03', '2020-01-04',\n",
        "               '2020-01-05', '2020-01-06', '2020-01-07', '2020-01-08',\n",
        "               '2020-01-09', '2020-01-10', '2020-01-11', '2020-01-12',\n",
        "               '2020-01-13', '2020-01-14', '2020-01-15', '2020-01-16',\n",
        "               '2020-01-17', '2020-01-18', '2020-01-19', '2020-01-20',\n",
        "               '2020-01-21', '2020-01-22', '2020-01-23', '2020-01-24',\n",
        "               '2020-01-25', '2020-01-26', '2020-01-27', '2020-01-28',\n",
        "               '2020-01-29', '2020-01-30', '2020-01-31']"
      ],
      "metadata": {
        "id": "58K1Ppo8XkTu"
      }
    },
    {
      "cell_type": "code",
      "source": [
        "df=pd.date_range('2020-01-01','2020-01-31')\n",
        "print(df)"
      ],
      "metadata": {
        "colab": {
          "base_uri": "https://localhost:8080/"
        },
        "id": "dEqGT443XkTu",
        "outputId": "b440ad67-43ad-4966-b047-9928e92ead31"
      },
      "execution_count": null,
      "outputs": [
        {
          "output_type": "stream",
          "name": "stdout",
          "text": [
            "DatetimeIndex(['2020-01-01', '2020-01-02', '2020-01-03', '2020-01-04',\n",
            "               '2020-01-05', '2020-01-06', '2020-01-07', '2020-01-08',\n",
            "               '2020-01-09', '2020-01-10', '2020-01-11', '2020-01-12',\n",
            "               '2020-01-13', '2020-01-14', '2020-01-15', '2020-01-16',\n",
            "               '2020-01-17', '2020-01-18', '2020-01-19', '2020-01-20',\n",
            "               '2020-01-21', '2020-01-22', '2020-01-23', '2020-01-24',\n",
            "               '2020-01-25', '2020-01-26', '2020-01-27', '2020-01-28',\n",
            "               '2020-01-29', '2020-01-30', '2020-01-31'],\n",
            "              dtype='datetime64[ns]', freq='D')\n"
          ]
        }
      ]
    },
    {
      "cell_type": "markdown",
      "source": [
        "**12) Create the DatetimeIndex object containing the dates in the yyyy-mm-dd format for all Mondays from 2020 and assign it to the date_range variable. Print this variable to the console.**"
      ],
      "metadata": {
        "id": "spsNhjOpXkTu"
      }
    },
    {
      "cell_type": "code",
      "source": [
        "dti=pd.date_range('2020-01-01','2020-12-31',freq='W-MON')\n",
        "print(dti)"
      ],
      "metadata": {
        "colab": {
          "base_uri": "https://localhost:8080/"
        },
        "id": "8ELQV58oXkTu",
        "outputId": "4fd9612b-46d6-4b23-e2d6-1b84dffeef4c"
      },
      "execution_count": null,
      "outputs": [
        {
          "output_type": "stream",
          "name": "stdout",
          "text": [
            "DatetimeIndex(['2020-01-06', '2020-01-13', '2020-01-20', '2020-01-27',\n",
            "               '2020-02-03', '2020-02-10', '2020-02-17', '2020-02-24',\n",
            "               '2020-03-02', '2020-03-09', '2020-03-16', '2020-03-23',\n",
            "               '2020-03-30', '2020-04-06', '2020-04-13', '2020-04-20',\n",
            "               '2020-04-27', '2020-05-04', '2020-05-11', '2020-05-18',\n",
            "               '2020-05-25', '2020-06-01', '2020-06-08', '2020-06-15',\n",
            "               '2020-06-22', '2020-06-29', '2020-07-06', '2020-07-13',\n",
            "               '2020-07-20', '2020-07-27', '2020-08-03', '2020-08-10',\n",
            "               '2020-08-17', '2020-08-24', '2020-08-31', '2020-09-07',\n",
            "               '2020-09-14', '2020-09-21', '2020-09-28', '2020-10-05',\n",
            "               '2020-10-12', '2020-10-19', '2020-10-26', '2020-11-02',\n",
            "               '2020-11-09', '2020-11-16', '2020-11-23', '2020-11-30',\n",
            "               '2020-12-07', '2020-12-14', '2020-12-21', '2020-12-28'],\n",
            "              dtype='datetime64[ns]', freq='W-MON')\n"
          ]
        }
      ]
    },
    {
      "cell_type": "code",
      "source": [],
      "metadata": {
        "id": "jlEeAE-XXkTu"
      },
      "execution_count": null,
      "outputs": []
    },
    {
      "cell_type": "markdown",
      "source": [
        "**13) Create the DatetimeIndex object containing the dates in the format yyyy-mm-dd hh: mm: ss for January 1, 2021 with a time interval of 1h and assign to the variable date_range. In response, print this variable to the console.**"
      ],
      "metadata": {
        "id": "xumYCYu6XkTu"
      }
    },
    {
      "cell_type": "code",
      "source": [
        "date_range=pd.date_range('2021-01-01',periods=24, freq='H')"
      ],
      "metadata": {
        "id": "dIUiQkipXkTv"
      },
      "execution_count": null,
      "outputs": []
    },
    {
      "cell_type": "code",
      "source": [
        "print(date_range)"
      ],
      "metadata": {
        "colab": {
          "base_uri": "https://localhost:8080/"
        },
        "id": "tRs-l3tEXkTv",
        "outputId": "41dd4a8f-be14-4c95-8dd6-84f11b7643c9"
      },
      "execution_count": null,
      "outputs": [
        {
          "output_type": "stream",
          "name": "stdout",
          "text": [
            "DatetimeIndex(['2021-01-01 00:00:00', '2021-01-01 01:00:00',\n",
            "               '2021-01-01 02:00:00', '2021-01-01 03:00:00',\n",
            "               '2021-01-01 04:00:00', '2021-01-01 05:00:00',\n",
            "               '2021-01-01 06:00:00', '2021-01-01 07:00:00',\n",
            "               '2021-01-01 08:00:00', '2021-01-01 09:00:00',\n",
            "               '2021-01-01 10:00:00', '2021-01-01 11:00:00',\n",
            "               '2021-01-01 12:00:00', '2021-01-01 13:00:00',\n",
            "               '2021-01-01 14:00:00', '2021-01-01 15:00:00',\n",
            "               '2021-01-01 16:00:00', '2021-01-01 17:00:00',\n",
            "               '2021-01-01 18:00:00', '2021-01-01 19:00:00',\n",
            "               '2021-01-01 20:00:00', '2021-01-01 21:00:00',\n",
            "               '2021-01-01 22:00:00', '2021-01-01 23:00:00'],\n",
            "              dtype='datetime64[ns]', freq='H')\n"
          ]
        }
      ]
    },
    {
      "cell_type": "markdown",
      "source": [
        "**14) Create the following DataFrame object and print it to the console.**\n",
        "\n",
        "day           day_of_year\n",
        "\n",
        " 0    2021-03-01    60\n",
        "\n",
        " 1    2021-03-02    61\n",
        "\n",
        " 2    2021-03-03    62\n",
        "\n",
        " 3    2021-03-04    63\n",
        "\n",
        " 4    2021-03-05    64\n",
        "\n",
        " 5    2021-03-06    65\n",
        "\n",
        " 6    2021-03-07    66\n",
        " \n",
        " 7    2021-03-08    67\n",
        " \n",
        " 8    2021-03-09    68\n",
        " \n",
        " 9    2021-03-10    69\n",
        "\n",
        "10    2021-03-11    70\n",
        "\n",
        "11    2021-03-12    71\n",
        "\n",
        "12    2021-03-13    72\n",
        "\n",
        "13    2021-03-14    73\n",
        "\n",
        "14    2021-03-15    74\n",
        "\n",
        "15    2021-03-16    75\n",
        "\n",
        "16    2021-03-17    76\n",
        "\n",
        "17    2021-03-18    77\n",
        "\n",
        "18    2021-03-19    78\n",
        "\n",
        "19    2021-03-20    79\n",
        "\n",
        "20    2021-03-21    80\n",
        "\n",
        "21    2021-03-22    81\n",
        "\n",
        "22    2021-03-23    82\n",
        "\n",
        "23    2021-03-24    83\n",
        "\n",
        "24    2021-03-25    84\n",
        "\n",
        "25    2021-03-26    85\n",
        "\n",
        "26    2021-03-27    86\n",
        "\n",
        "27    2021-03-28    87\n",
        "\n",
        "28    2021-03-29    88\n",
        "\n",
        "29    2021-03-30    89\n",
        "\n",
        "30    2021-03-31    90"
      ],
      "metadata": {
        "id": "TJy3TTWtXkTv"
      }
    },
    {
      "cell_type": "code",
      "source": [
        "date_range=pd.date_range('2021-03-01',periods=31,freq='D')\n",
        "df=pd.DataFrame(data=date_range, columns=['day'])\n",
        "df['day_of_year']=df['day'].dt.day_of_year\n",
        "print(df)"
      ],
      "metadata": {
        "colab": {
          "base_uri": "https://localhost:8080/"
        },
        "id": "P_YZDYLmXkTv",
        "outputId": "a94baea4-ef25-483e-d20f-5fb18ab5a50d"
      },
      "execution_count": null,
      "outputs": [
        {
          "output_type": "stream",
          "name": "stdout",
          "text": [
            "          day  day_of_year\n",
            "0  2021-03-01           60\n",
            "1  2021-03-02           61\n",
            "2  2021-03-03           62\n",
            "3  2021-03-04           63\n",
            "4  2021-03-05           64\n",
            "5  2021-03-06           65\n",
            "6  2021-03-07           66\n",
            "7  2021-03-08           67\n",
            "8  2021-03-09           68\n",
            "9  2021-03-10           69\n",
            "10 2021-03-11           70\n",
            "11 2021-03-12           71\n",
            "12 2021-03-13           72\n",
            "13 2021-03-14           73\n",
            "14 2021-03-15           74\n",
            "15 2021-03-16           75\n",
            "16 2021-03-17           76\n",
            "17 2021-03-18           77\n",
            "18 2021-03-19           78\n",
            "19 2021-03-20           79\n",
            "20 2021-03-21           80\n",
            "21 2021-03-22           81\n",
            "22 2021-03-23           82\n",
            "23 2021-03-24           83\n",
            "24 2021-03-25           84\n",
            "25 2021-03-26           85\n",
            "26 2021-03-27           86\n",
            "27 2021-03-28           87\n",
            "28 2021-03-29           88\n",
            "29 2021-03-30           89\n",
            "30 2021-03-31           90\n"
          ]
        }
      ]
    },
    {
      "cell_type": "markdown",
      "source": [
        "**15) The following dictionary is given: Create the DateFrame object from this dictionary and assign it to the df variable. As an index, add a dates from 2020-01-01 as shown below. In response print this DataFrame to the console.**\n"
      ],
      "metadata": {
        "id": "BVKkLjAIXkTv"
      }
    },
    {
      "cell_type": "code",
      "source": [
        "data_dict = {\n",
        "    'normal': np.random.normal(loc=0, scale=1, size=1000),\n",
        "    'uniform': np.random.uniform(low=0, high=1, size=1000),\n",
        "    'binomial': np.random.binomial(n=1, p=0.2, size=1000)\n",
        "}"
      ],
      "metadata": {
        "id": "3LG_QZ4nXkTv"
      },
      "execution_count": null,
      "outputs": []
    },
    {
      "cell_type": "code",
      "source": [
        "df=pd.DataFrame(data_dict)\n",
        "dates=pd.date_range('2020-01-01','2022-09-26')\n",
        "df.set_index(dates, inplace=True)\n",
        "print(df)"
      ],
      "metadata": {
        "colab": {
          "base_uri": "https://localhost:8080/"
        },
        "id": "HiuYMPWdXkTv",
        "outputId": "a1b98a8a-b8ae-40ef-f9b3-2e17cae5031a"
      },
      "execution_count": null,
      "outputs": [
        {
          "output_type": "stream",
          "name": "stdout",
          "text": [
            "              normal   uniform  binomial\n",
            "2020-01-01  0.652815  0.063180         0\n",
            "2020-01-02 -0.016634  0.886379         0\n",
            "2020-01-03 -0.058915  0.350859         0\n",
            "2020-01-04 -0.779320  0.709289         0\n",
            "2020-01-05 -0.436810  0.977537         0\n",
            "...              ...       ...       ...\n",
            "2022-09-22 -0.380755  0.420031         0\n",
            "2022-09-23 -0.205569  0.624595         0\n",
            "2022-09-24  0.925706  0.043591         0\n",
            "2022-09-25 -1.362496  0.014479         0\n",
            "2022-09-26  0.759581  0.771453         1\n",
            "\n",
            "[1000 rows x 3 columns]\n"
          ]
        }
      ]
    },
    {
      "cell_type": "markdown",
      "source": [
        "**16) Print the first ten rows of previous DataFrame then print blank line and print the last five rows of this object as shown below.**\n"
      ],
      "metadata": {
        "id": "wQ6G80XEXkTv"
      }
    },
    {
      "cell_type": "code",
      "source": [
        "print(df.head(10))\n",
        "print('\\n')\n",
        "print(df.tail(5))"
      ],
      "metadata": {
        "colab": {
          "base_uri": "https://localhost:8080/"
        },
        "id": "5Bkxjjz4XkTv",
        "outputId": "fca3ea21-26b3-4b64-aa19-49c8b517c625"
      },
      "execution_count": null,
      "outputs": [
        {
          "output_type": "stream",
          "name": "stdout",
          "text": [
            "              normal   uniform  binomial\n",
            "2020-01-01  0.652815  0.063180         0\n",
            "2020-01-02 -0.016634  0.886379         0\n",
            "2020-01-03 -0.058915  0.350859         0\n",
            "2020-01-04 -0.779320  0.709289         0\n",
            "2020-01-05 -0.436810  0.977537         0\n",
            "2020-01-06 -0.034861  0.718320         0\n",
            "2020-01-07 -1.343009  0.738208         0\n",
            "2020-01-08 -1.831329  0.992142         0\n",
            "2020-01-09 -0.800959  0.925754         1\n",
            "2020-01-10  1.033211  0.766830         0\n",
            "\n",
            "\n",
            "              normal   uniform  binomial\n",
            "2022-09-22 -0.380755  0.420031         0\n",
            "2022-09-23 -0.205569  0.624595         0\n",
            "2022-09-24  0.925706  0.043591         0\n",
            "2022-09-25 -1.362496  0.014479         0\n",
            "2022-09-26  0.759581  0.771453         1\n"
          ]
        }
      ]
    },
    {
      "cell_type": "code",
      "source": [],
      "metadata": {
        "id": "ADdog7JTXkTv"
      },
      "execution_count": null,
      "outputs": []
    },
    {
      "cell_type": "markdown",
      "source": [
        "**17) Display basic information about the df object (number of rows, number of columns, type of variables) using pd.DataFrame.info() method, print blank line and print basic statistics of df (mean value, standard deviation, min, max, median) using pd.DataFrame.describe() method as shown below.**"
      ],
      "metadata": {
        "id": "lQaTBlTRXkTv"
      }
    },
    {
      "cell_type": "code",
      "source": [
        "print(df.info())\n",
        "print()\n",
        "print(df.describe())"
      ],
      "metadata": {
        "colab": {
          "base_uri": "https://localhost:8080/"
        },
        "id": "Vooh55c0XkTv",
        "outputId": "175174bc-ec3d-4463-af68-12c0c8332099"
      },
      "execution_count": null,
      "outputs": [
        {
          "output_type": "stream",
          "name": "stdout",
          "text": [
            "<class 'pandas.core.frame.DataFrame'>\n",
            "DatetimeIndex: 1000 entries, 2020-01-01 to 2022-09-26\n",
            "Freq: D\n",
            "Data columns (total 3 columns):\n",
            " #   Column    Non-Null Count  Dtype  \n",
            "---  ------    --------------  -----  \n",
            " 0   normal    1000 non-null   float64\n",
            " 1   uniform   1000 non-null   float64\n",
            " 2   binomial  1000 non-null   int64  \n",
            "dtypes: float64(2), int64(1)\n",
            "memory usage: 31.2 KB\n",
            "None\n",
            "\n",
            "            normal      uniform     binomial\n",
            "count  1000.000000  1000.000000  1000.000000\n",
            "mean     -0.013780     0.514644     0.190000\n",
            "std       1.028307     0.288151     0.392497\n",
            "min      -3.077103     0.000556     0.000000\n",
            "25%      -0.710073     0.271597     0.000000\n",
            "50%       0.019317     0.528620     0.000000\n",
            "75%       0.640682     0.773507     0.000000\n",
            "max       3.247709     0.999147     1.000000\n"
          ]
        }
      ]
    },
    {
      "cell_type": "markdown",
      "source": [
        "**18) Find the distribution of the binomial column from this DataFrame. In response, print this distribution to the console as shown below.**"
      ],
      "metadata": {
        "id": "ybs0YetkWuFd"
      }
    },
    {
      "cell_type": "code",
      "source": [
        "print(df['binomial'].value_counts())"
      ],
      "metadata": {
        "id": "V-GONGVcWuXb",
        "colab": {
          "base_uri": "https://localhost:8080/"
        },
        "outputId": "037a57a7-ef41-44a5-b00b-fd5d7c0fd5e3"
      },
      "execution_count": null,
      "outputs": [
        {
          "output_type": "stream",
          "name": "stdout",
          "text": [
            "0    810\n",
            "1    190\n",
            "Name: binomial, dtype: int64\n"
          ]
        }
      ]
    },
    {
      "cell_type": "markdown",
      "source": [
        "**19) Extract first 50 rows from the df object and save to the 'dataframe50.csv' file.**\n"
      ],
      "metadata": {
        "id": "4zedZcMUWunR"
      }
    },
    {
      "cell_type": "code",
      "source": [
        "df[:50].to_csv('dataframe50.csv',',')"
      ],
      "metadata": {
        "id": "125JGsQlWu5R"
      },
      "execution_count": 59,
      "outputs": []
    },
    {
      "cell_type": "markdown",
      "source": [
        "**20) The 'dataframe50.csv' file is attached to this exercise. Load this file into the df_new variable (remember to load the index correctly) and print the df_new variable to the console.**"
      ],
      "metadata": {
        "id": "G7f8oD6LWvCZ"
      }
    },
    {
      "cell_type": "code",
      "source": [
        "df_new=pd.read_csv('dataframe50.csv')\n",
        "print(df)"
      ],
      "metadata": {
        "id": "5MMLdvPQWvLe",
        "colab": {
          "base_uri": "https://localhost:8080/"
        },
        "outputId": "0a6b8192-0abe-4add-9434-cff4675a222f"
      },
      "execution_count": 60,
      "outputs": [
        {
          "output_type": "stream",
          "name": "stdout",
          "text": [
            "              normal   uniform  binomial\n",
            "2020-01-01  0.652815  0.063180         0\n",
            "2020-01-02 -0.016634  0.886379         0\n",
            "2020-01-03 -0.058915  0.350859         0\n",
            "2020-01-04 -0.779320  0.709289         0\n",
            "2020-01-05 -0.436810  0.977537         0\n",
            "...              ...       ...       ...\n",
            "2022-09-22 -0.380755  0.420031         0\n",
            "2022-09-23 -0.205569  0.624595         0\n",
            "2022-09-24  0.925706  0.043591         0\n",
            "2022-09-25 -1.362496  0.014479         0\n",
            "2022-09-26  0.759581  0.771453         1\n",
            "\n",
            "[1000 rows x 3 columns]\n"
          ]
        }
      ]
    },
    {
      "cell_type": "markdown",
      "source": [
        "**21) Load the google.csv file.**"
      ],
      "metadata": {
        "id": "zwGth3WYWvZ2"
      }
    },
    {
      "cell_type": "code",
      "source": [
        "google=pd.read_csv('Google_Stock_Price_Test.csv',sep=',',parse_dates=True)\n",
        "google.head()"
      ],
      "metadata": {
        "id": "JQ6DKrdGWvjM",
        "colab": {
          "base_uri": "https://localhost:8080/",
          "height": 204
        },
        "outputId": "c9846450-89b8-4cac-ed54-37388d03fce2"
      },
      "execution_count": 71,
      "outputs": [
        {
          "output_type": "execute_result",
          "data": {
            "text/plain": [
              "       Date    Open    High     Low   Close     Volume\n",
              "0  1/3/2017  778.81  789.63  775.80  786.14  1,657,300\n",
              "1  1/4/2017  788.36  791.34  783.16  786.90  1,073,000\n",
              "2  1/5/2017  786.08  794.48  785.02  794.02  1,335,200\n",
              "3  1/6/2017  795.26  807.90  792.20  806.15  1,640,200\n",
              "4  1/9/2017  806.40  809.97  802.83  806.65  1,272,400"
            ],
            "text/html": [
              "\n",
              "  <div id=\"df-b0b66936-c723-4034-8bc5-1565d7a06bb2\">\n",
              "    <div class=\"colab-df-container\">\n",
              "      <div>\n",
              "<style scoped>\n",
              "    .dataframe tbody tr th:only-of-type {\n",
              "        vertical-align: middle;\n",
              "    }\n",
              "\n",
              "    .dataframe tbody tr th {\n",
              "        vertical-align: top;\n",
              "    }\n",
              "\n",
              "    .dataframe thead th {\n",
              "        text-align: right;\n",
              "    }\n",
              "</style>\n",
              "<table border=\"1\" class=\"dataframe\">\n",
              "  <thead>\n",
              "    <tr style=\"text-align: right;\">\n",
              "      <th></th>\n",
              "      <th>Date</th>\n",
              "      <th>Open</th>\n",
              "      <th>High</th>\n",
              "      <th>Low</th>\n",
              "      <th>Close</th>\n",
              "      <th>Volume</th>\n",
              "    </tr>\n",
              "  </thead>\n",
              "  <tbody>\n",
              "    <tr>\n",
              "      <th>0</th>\n",
              "      <td>1/3/2017</td>\n",
              "      <td>778.81</td>\n",
              "      <td>789.63</td>\n",
              "      <td>775.80</td>\n",
              "      <td>786.14</td>\n",
              "      <td>1,657,300</td>\n",
              "    </tr>\n",
              "    <tr>\n",
              "      <th>1</th>\n",
              "      <td>1/4/2017</td>\n",
              "      <td>788.36</td>\n",
              "      <td>791.34</td>\n",
              "      <td>783.16</td>\n",
              "      <td>786.90</td>\n",
              "      <td>1,073,000</td>\n",
              "    </tr>\n",
              "    <tr>\n",
              "      <th>2</th>\n",
              "      <td>1/5/2017</td>\n",
              "      <td>786.08</td>\n",
              "      <td>794.48</td>\n",
              "      <td>785.02</td>\n",
              "      <td>794.02</td>\n",
              "      <td>1,335,200</td>\n",
              "    </tr>\n",
              "    <tr>\n",
              "      <th>3</th>\n",
              "      <td>1/6/2017</td>\n",
              "      <td>795.26</td>\n",
              "      <td>807.90</td>\n",
              "      <td>792.20</td>\n",
              "      <td>806.15</td>\n",
              "      <td>1,640,200</td>\n",
              "    </tr>\n",
              "    <tr>\n",
              "      <th>4</th>\n",
              "      <td>1/9/2017</td>\n",
              "      <td>806.40</td>\n",
              "      <td>809.97</td>\n",
              "      <td>802.83</td>\n",
              "      <td>806.65</td>\n",
              "      <td>1,272,400</td>\n",
              "    </tr>\n",
              "  </tbody>\n",
              "</table>\n",
              "</div>\n",
              "      <button class=\"colab-df-convert\" onclick=\"convertToInteractive('df-b0b66936-c723-4034-8bc5-1565d7a06bb2')\"\n",
              "              title=\"Convert this dataframe to an interactive table.\"\n",
              "              style=\"display:none;\">\n",
              "        \n",
              "  <svg xmlns=\"http://www.w3.org/2000/svg\" height=\"24px\"viewBox=\"0 0 24 24\"\n",
              "       width=\"24px\">\n",
              "    <path d=\"M0 0h24v24H0V0z\" fill=\"none\"/>\n",
              "    <path d=\"M18.56 5.44l.94 2.06.94-2.06 2.06-.94-2.06-.94-.94-2.06-.94 2.06-2.06.94zm-11 1L8.5 8.5l.94-2.06 2.06-.94-2.06-.94L8.5 2.5l-.94 2.06-2.06.94zm10 10l.94 2.06.94-2.06 2.06-.94-2.06-.94-.94-2.06-.94 2.06-2.06.94z\"/><path d=\"M17.41 7.96l-1.37-1.37c-.4-.4-.92-.59-1.43-.59-.52 0-1.04.2-1.43.59L10.3 9.45l-7.72 7.72c-.78.78-.78 2.05 0 2.83L4 21.41c.39.39.9.59 1.41.59.51 0 1.02-.2 1.41-.59l7.78-7.78 2.81-2.81c.8-.78.8-2.07 0-2.86zM5.41 20L4 18.59l7.72-7.72 1.47 1.35L5.41 20z\"/>\n",
              "  </svg>\n",
              "      </button>\n",
              "      \n",
              "  <style>\n",
              "    .colab-df-container {\n",
              "      display:flex;\n",
              "      flex-wrap:wrap;\n",
              "      gap: 12px;\n",
              "    }\n",
              "\n",
              "    .colab-df-convert {\n",
              "      background-color: #E8F0FE;\n",
              "      border: none;\n",
              "      border-radius: 50%;\n",
              "      cursor: pointer;\n",
              "      display: none;\n",
              "      fill: #1967D2;\n",
              "      height: 32px;\n",
              "      padding: 0 0 0 0;\n",
              "      width: 32px;\n",
              "    }\n",
              "\n",
              "    .colab-df-convert:hover {\n",
              "      background-color: #E2EBFA;\n",
              "      box-shadow: 0px 1px 2px rgba(60, 64, 67, 0.3), 0px 1px 3px 1px rgba(60, 64, 67, 0.15);\n",
              "      fill: #174EA6;\n",
              "    }\n",
              "\n",
              "    [theme=dark] .colab-df-convert {\n",
              "      background-color: #3B4455;\n",
              "      fill: #D2E3FC;\n",
              "    }\n",
              "\n",
              "    [theme=dark] .colab-df-convert:hover {\n",
              "      background-color: #434B5C;\n",
              "      box-shadow: 0px 1px 3px 1px rgba(0, 0, 0, 0.15);\n",
              "      filter: drop-shadow(0px 1px 2px rgba(0, 0, 0, 0.3));\n",
              "      fill: #FFFFFF;\n",
              "    }\n",
              "  </style>\n",
              "\n",
              "      <script>\n",
              "        const buttonEl =\n",
              "          document.querySelector('#df-b0b66936-c723-4034-8bc5-1565d7a06bb2 button.colab-df-convert');\n",
              "        buttonEl.style.display =\n",
              "          google.colab.kernel.accessAllowed ? 'block' : 'none';\n",
              "\n",
              "        async function convertToInteractive(key) {\n",
              "          const element = document.querySelector('#df-b0b66936-c723-4034-8bc5-1565d7a06bb2');\n",
              "          const dataTable =\n",
              "            await google.colab.kernel.invokeFunction('convertToInteractive',\n",
              "                                                     [key], {});\n",
              "          if (!dataTable) return;\n",
              "\n",
              "          const docLinkHtml = 'Like what you see? Visit the ' +\n",
              "            '<a target=\"_blank\" href=https://colab.research.google.com/notebooks/data_table.ipynb>data table notebook</a>'\n",
              "            + ' to learn more about interactive tables.';\n",
              "          element.innerHTML = '';\n",
              "          dataTable['output_type'] = 'display_data';\n",
              "          await google.colab.output.renderOutput(dataTable, element);\n",
              "          const docLink = document.createElement('div');\n",
              "          docLink.innerHTML = docLinkHtml;\n",
              "          element.appendChild(docLink);\n",
              "        }\n",
              "      </script>\n",
              "    </div>\n",
              "  </div>\n",
              "  "
            ]
          },
          "metadata": {},
          "execution_count": 71
        }
      ]
    },
    {
      "cell_type": "markdown",
      "source": [
        "**22) The google.csv file is loaded using pandas as shown below. Print basic information about google DataFrame, then print blank line and print basic statistics for this DataFrame.**"
      ],
      "metadata": {
        "id": "_9Y4fpIcWvxI"
      }
    },
    {
      "cell_type": "code",
      "source": [
        "print(google.info())\n",
        "print()\n",
        "print(google.describe())"
      ],
      "metadata": {
        "id": "u6dMHB3eWv66",
        "colab": {
          "base_uri": "https://localhost:8080/"
        },
        "outputId": "56ddf9dc-495b-40e9-cd9e-509586061458"
      },
      "execution_count": 72,
      "outputs": [
        {
          "output_type": "stream",
          "name": "stdout",
          "text": [
            "<class 'pandas.core.frame.DataFrame'>\n",
            "RangeIndex: 20 entries, 0 to 19\n",
            "Data columns (total 6 columns):\n",
            " #   Column  Non-Null Count  Dtype  \n",
            "---  ------  --------------  -----  \n",
            " 0   Date    20 non-null     object \n",
            " 1   Open    20 non-null     float64\n",
            " 2   High    20 non-null     float64\n",
            " 3   Low     20 non-null     float64\n",
            " 4   Close   20 non-null     float64\n",
            " 5   Volume  20 non-null     object \n",
            "dtypes: float64(4), object(2)\n",
            "memory usage: 1.1+ KB\n",
            "None\n",
            "\n",
            "             Open        High         Low       Close\n",
            "count   20.000000   20.000000   20.000000   20.000000\n",
            "mean   807.526000  811.926500  801.949500  807.904500\n",
            "std     15.125428   14.381198   13.278607   13.210088\n",
            "min    778.810000  789.630000  775.800000  786.140000\n",
            "25%    802.965000  806.735000  797.427500  802.282500\n",
            "50%    806.995000  808.640000  801.530000  806.110000\n",
            "75%    809.560000  817.097500  804.477500  810.760000\n",
            "max    837.810000  841.950000  827.010000  835.670000\n"
          ]
        }
      ]
    },
    {
      "cell_type": "markdown",
      "source": [
        "**23) The google.csv file is loaded using pandas as shown below. Convert index to the column 'Date' as shown below. Assign changes to the google variable. In response, print result to the console.**\n"
      ],
      "metadata": {
        "id": "TT15j-cgWwPz"
      }
    },
    {
      "cell_type": "code",
      "source": [
        "google.set_index('Date',inplace=True)"
      ],
      "metadata": {
        "id": "0n0X1YaBWwap"
      },
      "execution_count": 73,
      "outputs": []
    },
    {
      "cell_type": "code",
      "source": [
        "print(google.head())"
      ],
      "metadata": {
        "id": "3qWCQyWtWwhC",
        "colab": {
          "base_uri": "https://localhost:8080/"
        },
        "outputId": "d2f2377c-ee40-422a-c830-cef889aa3905"
      },
      "execution_count": 74,
      "outputs": [
        {
          "output_type": "stream",
          "name": "stdout",
          "text": [
            "            Open    High     Low   Close     Volume\n",
            "Date                                               \n",
            "1/3/2017  778.81  789.63  775.80  786.14  1,657,300\n",
            "1/4/2017  788.36  791.34  783.16  786.90  1,073,000\n",
            "1/5/2017  786.08  794.48  785.02  794.02  1,335,200\n",
            "1/6/2017  795.26  807.90  792.20  806.15  1,640,200\n",
            "1/9/2017  806.40  809.97  802.83  806.65  1,272,400\n"
          ]
        }
      ]
    },
    {
      "cell_type": "markdown",
      "source": [
        "**24) Assign two new columns to the google DataFrame:\n",
        "column with the current month number named 'Month',column with the current year named 'Year'. In response, print this DataFrame to the console.**"
      ],
      "metadata": {
        "id": "FuKHDsXIWwov"
      }
    },
    {
      "cell_type": "code",
      "source": [
        "google.reset_index(inplace=True)"
      ],
      "metadata": {
        "id": "bl8dGjdaWwzt"
      },
      "execution_count": 78,
      "outputs": []
    },
    {
      "cell_type": "code",
      "source": [
        "google['Month']=pd.DatetimeIndex(google['Date']).month\n",
        "google['Year']=pd.DatetimeIndex(google['Date']).year\n",
        "print(google.head())"
      ],
      "metadata": {
        "id": "P5LRdh-CWw6_",
        "colab": {
          "base_uri": "https://localhost:8080/"
        },
        "outputId": "d6d89f14-4b63-4e09-f823-51816f93c4b1"
      },
      "execution_count": 82,
      "outputs": [
        {
          "output_type": "stream",
          "name": "stdout",
          "text": [
            "       Date    Open    High     Low   Close     Volume  Month  Year\n",
            "0  1/3/2017  778.81  789.63  775.80  786.14  1,657,300      1  2017\n",
            "1  1/4/2017  788.36  791.34  783.16  786.90  1,073,000      1  2017\n",
            "2  1/5/2017  786.08  794.48  785.02  794.02  1,335,200      1  2017\n",
            "3  1/6/2017  795.26  807.90  792.20  806.15  1,640,200      1  2017\n",
            "4  1/9/2017  806.40  809.97  802.83  806.65  1,272,400      1  2017\n"
          ]
        }
      ]
    },
    {
      "cell_type": "markdown",
      "source": [
        "**25) The google.csv file is loaded using pandas as shown below. Compute the average closing price for the month (group data by month - the Month column and then count the average value). In response, print result to the console.**\n"
      ],
      "metadata": {
        "id": "_h5IpVpXWxH2"
      }
    },
    {
      "cell_type": "code",
      "source": [
        "print(google.groupby('Month')['Close'].mean())"
      ],
      "metadata": {
        "id": "_Rc1TpjlWxSV",
        "colab": {
          "base_uri": "https://localhost:8080/"
        },
        "outputId": "00546125-461f-4df1-f411-65f49ebf54ad"
      },
      "execution_count": 84,
      "outputs": [
        {
          "output_type": "stream",
          "name": "stdout",
          "text": [
            "Month\n",
            "1    807.9045\n",
            "Name: Close, dtype: float64\n"
          ]
        }
      ]
    },
    {
      "cell_type": "markdown",
      "source": [
        "**26) The google.csv file is loaded using pandas as shown below. Find the index for which the Close price has the lowest value and assign it to the idx_min variable. Then extract the row for this index from the google DataFrame as a DataFrame. In response, print this DataFrame to the console.**\n"
      ],
      "metadata": {
        "id": "vbkESt0xWxi0"
      }
    },
    {
      "cell_type": "code",
      "source": [
        "idx_min=google.Close.idxmin()\n",
        "idx_min_df=google.loc[[idx_min]]\n",
        "print(idx_min_df)"
      ],
      "metadata": {
        "id": "FqzBqCr-Wxtu",
        "colab": {
          "base_uri": "https://localhost:8080/"
        },
        "outputId": "e46dfee7-c3b9-4f95-f8b2-580b6012b698"
      },
      "execution_count": 90,
      "outputs": [
        {
          "output_type": "stream",
          "name": "stdout",
          "text": [
            "       Date    Open    High    Low   Close     Volume  Month  Year\n",
            "0  1/3/2017  778.81  789.63  775.8  786.14  1,657,300      1  2017\n"
          ]
        }
      ]
    },
    {
      "cell_type": "markdown",
      "source": [
        "**27) Extract the following columns:**\n",
        "\n",
        "Date\n",
        "\n",
        "Open\n",
        "\n",
        "Close\n",
        "\n",
        "Volume from the google DataFrame. In response, print  result to the console.\n"
      ],
      "metadata": {
        "id": "0lZ-JAzDWyEp"
      }
    },
    {
      "cell_type": "code",
      "source": [
        "print(google.iloc[:,[0,1,4,5]])"
      ],
      "metadata": {
        "id": "HJB4h6fAWyQN",
        "colab": {
          "base_uri": "https://localhost:8080/"
        },
        "outputId": "88da1518-913a-496a-efa4-068259f85914"
      },
      "execution_count": 91,
      "outputs": [
        {
          "output_type": "stream",
          "name": "stdout",
          "text": [
            "         Date    Open   Close     Volume\n",
            "0    1/3/2017  778.81  786.14  1,657,300\n",
            "1    1/4/2017  788.36  786.90  1,073,000\n",
            "2    1/5/2017  786.08  794.02  1,335,200\n",
            "3    1/6/2017  795.26  806.15  1,640,200\n",
            "4    1/9/2017  806.40  806.65  1,272,400\n",
            "5   1/10/2017  807.86  804.79  1,176,800\n",
            "6   1/11/2017  805.00  807.91  1,065,900\n",
            "7   1/12/2017  807.14  806.36  1,353,100\n",
            "8   1/13/2017  807.48  807.88  1,099,200\n",
            "9   1/17/2017  807.08  804.61  1,362,100\n",
            "10  1/18/2017  805.81  806.07  1,294,400\n",
            "11  1/19/2017  805.12  802.17    919,300\n",
            "12  1/20/2017  806.91  805.02  1,670,000\n",
            "13  1/23/2017  807.25  819.31  1,963,600\n",
            "14  1/24/2017  822.30  823.87  1,474,000\n",
            "15  1/25/2017  829.62  835.67  1,494,500\n",
            "16  1/26/2017  837.81  832.15  2,973,900\n",
            "17  1/27/2017  834.71  823.31  2,965,800\n",
            "18  1/30/2017  814.66  802.32  3,246,600\n",
            "19  1/31/2017  796.86  796.79  2,160,600\n"
          ]
        }
      ]
    },
    {
      "cell_type": "code",
      "source": [
        "print(google[['Date', 'Open', 'Close', 'Volume']])"
      ],
      "metadata": {
        "id": "1M0fsIvzWyW1",
        "colab": {
          "base_uri": "https://localhost:8080/"
        },
        "outputId": "cf6be130-9a52-4324-ba53-cc025a419eb6"
      },
      "execution_count": 92,
      "outputs": [
        {
          "output_type": "stream",
          "name": "stdout",
          "text": [
            "         Date    Open   Close     Volume\n",
            "0    1/3/2017  778.81  786.14  1,657,300\n",
            "1    1/4/2017  788.36  786.90  1,073,000\n",
            "2    1/5/2017  786.08  794.02  1,335,200\n",
            "3    1/6/2017  795.26  806.15  1,640,200\n",
            "4    1/9/2017  806.40  806.65  1,272,400\n",
            "5   1/10/2017  807.86  804.79  1,176,800\n",
            "6   1/11/2017  805.00  807.91  1,065,900\n",
            "7   1/12/2017  807.14  806.36  1,353,100\n",
            "8   1/13/2017  807.48  807.88  1,099,200\n",
            "9   1/17/2017  807.08  804.61  1,362,100\n",
            "10  1/18/2017  805.81  806.07  1,294,400\n",
            "11  1/19/2017  805.12  802.17    919,300\n",
            "12  1/20/2017  806.91  805.02  1,670,000\n",
            "13  1/23/2017  807.25  819.31  1,963,600\n",
            "14  1/24/2017  822.30  823.87  1,474,000\n",
            "15  1/25/2017  829.62  835.67  1,494,500\n",
            "16  1/26/2017  837.81  832.15  2,973,900\n",
            "17  1/27/2017  834.71  823.31  2,965,800\n",
            "18  1/30/2017  814.66  802.32  3,246,600\n",
            "19  1/31/2017  796.86  796.79  2,160,600\n"
          ]
        }
      ]
    },
    {
      "cell_type": "markdown",
      "source": [
        "**28) Set the index for the Date column and print this DataFrame to the console.**"
      ],
      "metadata": {
        "id": "2bPs3AxVWyoA"
      }
    },
    {
      "cell_type": "code",
      "source": [
        "google.set_index('Date',inplace=True)"
      ],
      "metadata": {
        "id": "di6p_KeqWy1H"
      },
      "execution_count": 93,
      "outputs": []
    },
    {
      "cell_type": "code",
      "source": [
        "print(google.head())"
      ],
      "metadata": {
        "id": "jLuxyILPWy6l",
        "colab": {
          "base_uri": "https://localhost:8080/"
        },
        "outputId": "1e347aea-334f-443c-b422-30e1ce4bd197"
      },
      "execution_count": 94,
      "outputs": [
        {
          "output_type": "stream",
          "name": "stdout",
          "text": [
            "            Open    High     Low   Close     Volume  Month  Year\n",
            "Date                                                            \n",
            "1/3/2017  778.81  789.63  775.80  786.14  1,657,300      1  2017\n",
            "1/4/2017  788.36  791.34  783.16  786.90  1,073,000      1  2017\n",
            "1/5/2017  786.08  794.48  785.02  794.02  1,335,200      1  2017\n",
            "1/6/2017  795.26  807.90  792.20  806.15  1,640,200      1  2017\n",
            "1/9/2017  806.40  809.97  802.83  806.65  1,272,400      1  2017\n"
          ]
        }
      ]
    },
    {
      "cell_type": "markdown",
      "source": [
        "**29) Remove the Year and Month columns from the google DataFrame. In response, print google DataFrame to the console.**"
      ],
      "metadata": {
        "id": "jJ2fdzMyWzFG"
      }
    },
    {
      "cell_type": "code",
      "source": [
        "google=google.iloc[:,:5]"
      ],
      "metadata": {
        "id": "cHAj_RMIWzOr"
      },
      "execution_count": 96,
      "outputs": []
    },
    {
      "cell_type": "code",
      "source": [
        "print(google.head())"
      ],
      "metadata": {
        "id": "-hUzTM7lWzU4",
        "colab": {
          "base_uri": "https://localhost:8080/"
        },
        "outputId": "31e83e9c-4591-40f4-f599-85037e4f2679"
      },
      "execution_count": 97,
      "outputs": [
        {
          "output_type": "stream",
          "name": "stdout",
          "text": [
            "            Open    High     Low   Close     Volume\n",
            "Date                                               \n",
            "1/3/2017  778.81  789.63  775.80  786.14  1,657,300\n",
            "1/4/2017  788.36  791.34  783.16  786.90  1,073,000\n",
            "1/5/2017  786.08  794.48  785.02  794.02  1,335,200\n",
            "1/6/2017  795.26  807.90  792.20  806.15  1,640,200\n",
            "1/9/2017  806.40  809.97  802.83  806.65  1,272,400\n"
          ]
        }
      ]
    },
    {
      "cell_type": "markdown",
      "source": [
        "**30) The google.csv file is loaded using pandas as shown below. Change the following column names:**\n",
        "\n",
        "Open -> O\n",
        "\n",
        "High -> H\n",
        "\n",
        "Low -> L\n",
        "\n",
        "Close -> C\n",
        "\n",
        "Volume -> V\n",
        "\n",
        "In response, print google DataFrame to the console."
      ],
      "metadata": {
        "id": "hRtP2coVWzeW"
      }
    },
    {
      "cell_type": "code",
      "source": [
        "cols=['O','H','L','C','V']\n",
        "google.columns=cols"
      ],
      "metadata": {
        "id": "smrU9th1WzpL"
      },
      "execution_count": 99,
      "outputs": []
    },
    {
      "cell_type": "code",
      "source": [
        "print(google.head())"
      ],
      "metadata": {
        "id": "s7gi6_M4Wzvo",
        "colab": {
          "base_uri": "https://localhost:8080/"
        },
        "outputId": "a7a6c748-6f90-4a7e-8167-4d8b7a1e3f5d"
      },
      "execution_count": 100,
      "outputs": [
        {
          "output_type": "stream",
          "name": "stdout",
          "text": [
            "               O       H       L       C          V\n",
            "Date                                               \n",
            "1/3/2017  778.81  789.63  775.80  786.14  1,657,300\n",
            "1/4/2017  788.36  791.34  783.16  786.90  1,073,000\n",
            "1/5/2017  786.08  794.48  785.02  794.02  1,335,200\n",
            "1/6/2017  795.26  807.90  792.20  806.15  1,640,200\n",
            "1/9/2017  806.40  809.97  802.83  806.65  1,272,400\n"
          ]
        }
      ]
    },
    {
      "cell_type": "markdown",
      "source": [],
      "metadata": {
        "id": "lnpLEQ02Wz5r"
      }
    },
    {
      "cell_type": "code",
      "source": [],
      "metadata": {
        "id": "_xWTkaVOW0FP"
      },
      "execution_count": null,
      "outputs": []
    },
    {
      "cell_type": "code",
      "source": [],
      "metadata": {
        "id": "5l2CjyycW0MH"
      },
      "execution_count": null,
      "outputs": []
    },
    {
      "cell_type": "markdown",
      "source": [],
      "metadata": {
        "id": "cBSCxK6nW0WC"
      }
    },
    {
      "cell_type": "code",
      "source": [],
      "metadata": {
        "id": "McnLvSv0W0mO"
      },
      "execution_count": null,
      "outputs": []
    },
    {
      "cell_type": "code",
      "source": [],
      "metadata": {
        "id": "uH3GulX4W0rn"
      },
      "execution_count": null,
      "outputs": []
    },
    {
      "cell_type": "markdown",
      "source": [],
      "metadata": {
        "id": "Kohia6NIW04u"
      }
    },
    {
      "cell_type": "code",
      "source": [],
      "metadata": {
        "id": "ZWaAnL4CW1NS"
      },
      "execution_count": null,
      "outputs": []
    },
    {
      "cell_type": "code",
      "source": [],
      "metadata": {
        "id": "qxHxsZAcW1UI"
      },
      "execution_count": null,
      "outputs": []
    },
    {
      "cell_type": "markdown",
      "source": [],
      "metadata": {
        "id": "j7JkTU4xXnuP"
      }
    },
    {
      "cell_type": "code",
      "source": [],
      "metadata": {
        "id": "4Jew2tedXnuQ"
      },
      "execution_count": null,
      "outputs": []
    },
    {
      "cell_type": "code",
      "source": [],
      "metadata": {
        "id": "mUUVcjlHXnuQ"
      },
      "execution_count": null,
      "outputs": []
    },
    {
      "cell_type": "markdown",
      "source": [],
      "metadata": {
        "id": "1M1Qx0XVXnuQ"
      }
    },
    {
      "cell_type": "code",
      "source": [],
      "metadata": {
        "id": "BoWuNXMDXnuQ"
      },
      "execution_count": null,
      "outputs": []
    },
    {
      "cell_type": "code",
      "source": [],
      "metadata": {
        "id": "WCpsHZS4XnuQ"
      },
      "execution_count": null,
      "outputs": []
    },
    {
      "cell_type": "markdown",
      "source": [],
      "metadata": {
        "id": "ussAEryiXnuQ"
      }
    },
    {
      "cell_type": "code",
      "source": [],
      "metadata": {
        "id": "GQmUM3wTXnuQ"
      },
      "execution_count": null,
      "outputs": []
    },
    {
      "cell_type": "code",
      "source": [],
      "metadata": {
        "id": "Dfb5rCuyXnuR"
      },
      "execution_count": null,
      "outputs": []
    },
    {
      "cell_type": "markdown",
      "source": [],
      "metadata": {
        "id": "Js_-FUtEXnuR"
      }
    },
    {
      "cell_type": "code",
      "source": [],
      "metadata": {
        "id": "DcR2vI_ZXnuR"
      },
      "execution_count": null,
      "outputs": []
    },
    {
      "cell_type": "code",
      "source": [],
      "metadata": {
        "id": "JiMgUZzaXnuR"
      },
      "execution_count": null,
      "outputs": []
    },
    {
      "cell_type": "markdown",
      "source": [],
      "metadata": {
        "id": "o_s_wfFFXnuR"
      }
    },
    {
      "cell_type": "code",
      "source": [],
      "metadata": {
        "id": "cPW0jDtQXnuR"
      },
      "execution_count": null,
      "outputs": []
    },
    {
      "cell_type": "code",
      "source": [],
      "metadata": {
        "id": "vB2d285UXnuR"
      },
      "execution_count": null,
      "outputs": []
    },
    {
      "cell_type": "markdown",
      "source": [],
      "metadata": {
        "id": "p8mlgxxyXnuR"
      }
    },
    {
      "cell_type": "code",
      "source": [],
      "metadata": {
        "id": "9nQolB3rXnuR"
      },
      "execution_count": null,
      "outputs": []
    },
    {
      "cell_type": "code",
      "source": [],
      "metadata": {
        "id": "DmF4gILAXnuR"
      },
      "execution_count": null,
      "outputs": []
    },
    {
      "cell_type": "markdown",
      "source": [],
      "metadata": {
        "id": "rtgnKyLMXnuS"
      }
    },
    {
      "cell_type": "code",
      "source": [],
      "metadata": {
        "id": "6S-TuaRLXnuS"
      },
      "execution_count": null,
      "outputs": []
    },
    {
      "cell_type": "code",
      "source": [],
      "metadata": {
        "id": "Jc3g0_4AXnuS"
      },
      "execution_count": null,
      "outputs": []
    },
    {
      "cell_type": "markdown",
      "source": [],
      "metadata": {
        "id": "edh-v15OXnuS"
      }
    },
    {
      "cell_type": "code",
      "source": [],
      "metadata": {
        "id": "L1SF1_A_XnuS"
      },
      "execution_count": null,
      "outputs": []
    },
    {
      "cell_type": "code",
      "source": [],
      "metadata": {
        "id": "qpoClhvXXnuS"
      },
      "execution_count": null,
      "outputs": []
    },
    {
      "cell_type": "markdown",
      "source": [],
      "metadata": {
        "id": "dsG119a0XnuS"
      }
    },
    {
      "cell_type": "code",
      "source": [],
      "metadata": {
        "id": "HPA7_eYGXnuS"
      },
      "execution_count": null,
      "outputs": []
    },
    {
      "cell_type": "code",
      "source": [],
      "metadata": {
        "id": "EB24gz_QXnuS"
      },
      "execution_count": null,
      "outputs": []
    },
    {
      "cell_type": "markdown",
      "source": [],
      "metadata": {
        "id": "L5yum90fXnuS"
      }
    },
    {
      "cell_type": "code",
      "source": [],
      "metadata": {
        "id": "K9GrRXZ7XnuS"
      },
      "execution_count": null,
      "outputs": []
    },
    {
      "cell_type": "code",
      "source": [],
      "metadata": {
        "id": "FDj3vkaFXnuS"
      },
      "execution_count": null,
      "outputs": []
    },
    {
      "cell_type": "markdown",
      "source": [],
      "metadata": {
        "id": "XzXINFg6XnuT"
      }
    },
    {
      "cell_type": "code",
      "source": [],
      "metadata": {
        "id": "P4pSzDmZXnuT"
      },
      "execution_count": null,
      "outputs": []
    },
    {
      "cell_type": "code",
      "source": [],
      "metadata": {
        "id": "lO9MJPbEXnuT"
      },
      "execution_count": null,
      "outputs": []
    },
    {
      "cell_type": "markdown",
      "source": [],
      "metadata": {
        "id": "SpRgXE53XnuT"
      }
    },
    {
      "cell_type": "code",
      "source": [],
      "metadata": {
        "id": "n809e6URXnuT"
      },
      "execution_count": null,
      "outputs": []
    },
    {
      "cell_type": "code",
      "source": [],
      "metadata": {
        "id": "FvrL2UHVXnuT"
      },
      "execution_count": null,
      "outputs": []
    },
    {
      "cell_type": "markdown",
      "source": [],
      "metadata": {
        "id": "InXkV4LYXnuT"
      }
    },
    {
      "cell_type": "code",
      "source": [],
      "metadata": {
        "id": "s1PP4cl1XnuT"
      },
      "execution_count": null,
      "outputs": []
    },
    {
      "cell_type": "code",
      "source": [],
      "metadata": {
        "id": "Yrt8UClsXnuT"
      },
      "execution_count": null,
      "outputs": []
    },
    {
      "cell_type": "markdown",
      "source": [],
      "metadata": {
        "id": "R6EQX4T1XnuT"
      }
    },
    {
      "cell_type": "code",
      "source": [],
      "metadata": {
        "id": "1AVdpTh9XnuU"
      },
      "execution_count": null,
      "outputs": []
    },
    {
      "cell_type": "code",
      "source": [],
      "metadata": {
        "id": "VT2JW6M3XnuU"
      },
      "execution_count": null,
      "outputs": []
    },
    {
      "cell_type": "markdown",
      "source": [],
      "metadata": {
        "id": "-ixyOjNfXnuU"
      }
    },
    {
      "cell_type": "code",
      "source": [],
      "metadata": {
        "id": "H_7aQkZiXnuU"
      },
      "execution_count": null,
      "outputs": []
    },
    {
      "cell_type": "code",
      "source": [],
      "metadata": {
        "id": "2X0ZX5IkXnuU"
      },
      "execution_count": null,
      "outputs": []
    },
    {
      "cell_type": "markdown",
      "source": [],
      "metadata": {
        "id": "XeZf57DxXnuU"
      }
    },
    {
      "cell_type": "code",
      "source": [],
      "metadata": {
        "id": "9KrRk2R4XnuU"
      },
      "execution_count": null,
      "outputs": []
    },
    {
      "cell_type": "code",
      "source": [],
      "metadata": {
        "id": "4XHIm8HCXnuU"
      },
      "execution_count": null,
      "outputs": []
    },
    {
      "cell_type": "markdown",
      "source": [],
      "metadata": {
        "id": "6B64scn4XoHX"
      }
    },
    {
      "cell_type": "code",
      "source": [],
      "metadata": {
        "id": "wrMDpFHnXoHX"
      },
      "execution_count": null,
      "outputs": []
    },
    {
      "cell_type": "code",
      "source": [],
      "metadata": {
        "id": "ANwn69qEXoHX"
      },
      "execution_count": null,
      "outputs": []
    },
    {
      "cell_type": "markdown",
      "source": [],
      "metadata": {
        "id": "80x1vKHNXoHX"
      }
    },
    {
      "cell_type": "code",
      "source": [],
      "metadata": {
        "id": "PXl0bJ4UXoHX"
      },
      "execution_count": null,
      "outputs": []
    },
    {
      "cell_type": "code",
      "source": [],
      "metadata": {
        "id": "BvTEbbjAXoHX"
      },
      "execution_count": null,
      "outputs": []
    },
    {
      "cell_type": "markdown",
      "source": [],
      "metadata": {
        "id": "xtP49eHfXoHY"
      }
    },
    {
      "cell_type": "code",
      "source": [],
      "metadata": {
        "id": "IiIcBEtgXoHY"
      },
      "execution_count": null,
      "outputs": []
    },
    {
      "cell_type": "code",
      "source": [],
      "metadata": {
        "id": "w37_RcdaXoHY"
      },
      "execution_count": null,
      "outputs": []
    },
    {
      "cell_type": "markdown",
      "source": [],
      "metadata": {
        "id": "tQoeJesHXoHY"
      }
    },
    {
      "cell_type": "code",
      "source": [],
      "metadata": {
        "id": "193BUHR4XoHY"
      },
      "execution_count": null,
      "outputs": []
    },
    {
      "cell_type": "code",
      "source": [],
      "metadata": {
        "id": "WhK-nT8MXoHY"
      },
      "execution_count": null,
      "outputs": []
    },
    {
      "cell_type": "markdown",
      "source": [],
      "metadata": {
        "id": "Js0UlVd2XoHY"
      }
    },
    {
      "cell_type": "code",
      "source": [],
      "metadata": {
        "id": "DrgMM47PXoHY"
      },
      "execution_count": null,
      "outputs": []
    },
    {
      "cell_type": "code",
      "source": [],
      "metadata": {
        "id": "3vd_qZ6EXoHY"
      },
      "execution_count": null,
      "outputs": []
    },
    {
      "cell_type": "markdown",
      "source": [],
      "metadata": {
        "id": "_3_NY283XoHY"
      }
    },
    {
      "cell_type": "code",
      "source": [],
      "metadata": {
        "id": "LmEbnkhxXoHY"
      },
      "execution_count": null,
      "outputs": []
    },
    {
      "cell_type": "code",
      "source": [],
      "metadata": {
        "id": "kKdop3yhXoHY"
      },
      "execution_count": null,
      "outputs": []
    },
    {
      "cell_type": "markdown",
      "source": [],
      "metadata": {
        "id": "ZcSm1AyvXoHY"
      }
    },
    {
      "cell_type": "code",
      "source": [],
      "metadata": {
        "id": "enOwvbcoXoHY"
      },
      "execution_count": null,
      "outputs": []
    },
    {
      "cell_type": "code",
      "source": [],
      "metadata": {
        "id": "4gtzNUGbXoHZ"
      },
      "execution_count": null,
      "outputs": []
    },
    {
      "cell_type": "markdown",
      "source": [],
      "metadata": {
        "id": "UdNncwGhXoHZ"
      }
    },
    {
      "cell_type": "code",
      "source": [],
      "metadata": {
        "id": "pwBUq48SXoHZ"
      },
      "execution_count": null,
      "outputs": []
    },
    {
      "cell_type": "code",
      "source": [],
      "metadata": {
        "id": "-5H1ORoYXoHZ"
      },
      "execution_count": null,
      "outputs": []
    },
    {
      "cell_type": "markdown",
      "source": [],
      "metadata": {
        "id": "PIsgH9a8XoHZ"
      }
    },
    {
      "cell_type": "code",
      "source": [],
      "metadata": {
        "id": "RDTWJSbFXoHZ"
      },
      "execution_count": null,
      "outputs": []
    },
    {
      "cell_type": "code",
      "source": [],
      "metadata": {
        "id": "UVjnVBbqXoHZ"
      },
      "execution_count": null,
      "outputs": []
    },
    {
      "cell_type": "markdown",
      "source": [],
      "metadata": {
        "id": "efDwaZ9GXoHZ"
      }
    },
    {
      "cell_type": "code",
      "source": [],
      "metadata": {
        "id": "96b2b9UiXoHZ"
      },
      "execution_count": null,
      "outputs": []
    },
    {
      "cell_type": "code",
      "source": [],
      "metadata": {
        "id": "Awuv32FWXoHZ"
      },
      "execution_count": null,
      "outputs": []
    },
    {
      "cell_type": "markdown",
      "source": [],
      "metadata": {
        "id": "cpUKUQMPXoHZ"
      }
    },
    {
      "cell_type": "code",
      "source": [],
      "metadata": {
        "id": "elx4qcwGXoHZ"
      },
      "execution_count": null,
      "outputs": []
    },
    {
      "cell_type": "code",
      "source": [],
      "metadata": {
        "id": "AEqG9AHHXoHZ"
      },
      "execution_count": null,
      "outputs": []
    },
    {
      "cell_type": "markdown",
      "source": [],
      "metadata": {
        "id": "bVioNm7GXoHZ"
      }
    },
    {
      "cell_type": "code",
      "source": [],
      "metadata": {
        "id": "PRryuDGMXoHZ"
      },
      "execution_count": null,
      "outputs": []
    },
    {
      "cell_type": "code",
      "source": [],
      "metadata": {
        "id": "WGR6Po9WXoHZ"
      },
      "execution_count": null,
      "outputs": []
    },
    {
      "cell_type": "markdown",
      "source": [],
      "metadata": {
        "id": "lUR7LErcXoHa"
      }
    },
    {
      "cell_type": "code",
      "source": [],
      "metadata": {
        "id": "T3a3R4MLXoHa"
      },
      "execution_count": null,
      "outputs": []
    },
    {
      "cell_type": "code",
      "source": [],
      "metadata": {
        "id": "7iH_hFP5XoHa"
      },
      "execution_count": null,
      "outputs": []
    },
    {
      "cell_type": "markdown",
      "source": [],
      "metadata": {
        "id": "C0ZWXdNqXoHa"
      }
    },
    {
      "cell_type": "code",
      "source": [],
      "metadata": {
        "id": "JcVuhWLiXoHa"
      },
      "execution_count": null,
      "outputs": []
    },
    {
      "cell_type": "code",
      "source": [],
      "metadata": {
        "id": "9p4sU27EXoHa"
      },
      "execution_count": null,
      "outputs": []
    },
    {
      "cell_type": "markdown",
      "source": [],
      "metadata": {
        "id": "VK1RsdDuXoHa"
      }
    },
    {
      "cell_type": "code",
      "source": [],
      "metadata": {
        "id": "RZmVvKUUXoHa"
      },
      "execution_count": null,
      "outputs": []
    },
    {
      "cell_type": "code",
      "source": [],
      "metadata": {
        "id": "vijFpJ9cXoHa"
      },
      "execution_count": null,
      "outputs": []
    },
    {
      "cell_type": "markdown",
      "source": [],
      "metadata": {
        "id": "iuF_GzvWXoHa"
      }
    },
    {
      "cell_type": "code",
      "source": [],
      "metadata": {
        "id": "7L2whcyzXoHa"
      },
      "execution_count": null,
      "outputs": []
    },
    {
      "cell_type": "code",
      "source": [],
      "metadata": {
        "id": "QXM8sFT-XoHa"
      },
      "execution_count": null,
      "outputs": []
    },
    {
      "cell_type": "markdown",
      "source": [],
      "metadata": {
        "id": "yXSPnINtXoZL"
      }
    },
    {
      "cell_type": "code",
      "source": [],
      "metadata": {
        "id": "cc9JGoXEXoZM"
      },
      "execution_count": null,
      "outputs": []
    },
    {
      "cell_type": "code",
      "source": [],
      "metadata": {
        "id": "PBU6op_qXoZM"
      },
      "execution_count": null,
      "outputs": []
    },
    {
      "cell_type": "markdown",
      "source": [],
      "metadata": {
        "id": "NPuTwUeAXoZM"
      }
    },
    {
      "cell_type": "code",
      "source": [],
      "metadata": {
        "id": "d08fBorhXoZM"
      },
      "execution_count": null,
      "outputs": []
    },
    {
      "cell_type": "code",
      "source": [],
      "metadata": {
        "id": "smWKPu5vXoZM"
      },
      "execution_count": null,
      "outputs": []
    },
    {
      "cell_type": "markdown",
      "source": [],
      "metadata": {
        "id": "tcOK0-6fXoZM"
      }
    },
    {
      "cell_type": "code",
      "source": [],
      "metadata": {
        "id": "eBOEg0s1XoZN"
      },
      "execution_count": null,
      "outputs": []
    },
    {
      "cell_type": "code",
      "source": [],
      "metadata": {
        "id": "GFkbw9n8XoZN"
      },
      "execution_count": null,
      "outputs": []
    },
    {
      "cell_type": "markdown",
      "source": [],
      "metadata": {
        "id": "p2SyMB-ZXoZN"
      }
    },
    {
      "cell_type": "code",
      "source": [],
      "metadata": {
        "id": "udNIMIwfXoZN"
      },
      "execution_count": null,
      "outputs": []
    },
    {
      "cell_type": "code",
      "source": [],
      "metadata": {
        "id": "gPf32xQeXoZO"
      },
      "execution_count": null,
      "outputs": []
    },
    {
      "cell_type": "markdown",
      "source": [],
      "metadata": {
        "id": "a_eBu0VpXoZO"
      }
    },
    {
      "cell_type": "code",
      "source": [],
      "metadata": {
        "id": "F9t1NBV4XoZO"
      },
      "execution_count": null,
      "outputs": []
    },
    {
      "cell_type": "code",
      "source": [],
      "metadata": {
        "id": "uWPD29kSXoZO"
      },
      "execution_count": null,
      "outputs": []
    },
    {
      "cell_type": "markdown",
      "source": [],
      "metadata": {
        "id": "DomJJUiXXoZO"
      }
    },
    {
      "cell_type": "code",
      "source": [],
      "metadata": {
        "id": "EUWD-bgYXoZO"
      },
      "execution_count": null,
      "outputs": []
    },
    {
      "cell_type": "code",
      "source": [],
      "metadata": {
        "id": "W8JFnz-YXoZO"
      },
      "execution_count": null,
      "outputs": []
    },
    {
      "cell_type": "markdown",
      "source": [],
      "metadata": {
        "id": "C9t38Fm4XoZO"
      }
    },
    {
      "cell_type": "code",
      "source": [],
      "metadata": {
        "id": "b6ifbt60XoZO"
      },
      "execution_count": null,
      "outputs": []
    },
    {
      "cell_type": "code",
      "source": [],
      "metadata": {
        "id": "PZ7rbybmXoZO"
      },
      "execution_count": null,
      "outputs": []
    },
    {
      "cell_type": "markdown",
      "source": [],
      "metadata": {
        "id": "MhBhdz_VXoZO"
      }
    },
    {
      "cell_type": "code",
      "source": [],
      "metadata": {
        "id": "E53SgIDiXoZO"
      },
      "execution_count": null,
      "outputs": []
    },
    {
      "cell_type": "code",
      "source": [],
      "metadata": {
        "id": "mZKeEvCHXoZO"
      },
      "execution_count": null,
      "outputs": []
    },
    {
      "cell_type": "markdown",
      "source": [],
      "metadata": {
        "id": "hFIzSxdGXoZO"
      }
    },
    {
      "cell_type": "code",
      "source": [],
      "metadata": {
        "id": "6f9CRp0OXoZP"
      },
      "execution_count": null,
      "outputs": []
    },
    {
      "cell_type": "code",
      "source": [],
      "metadata": {
        "id": "pO4W9FGjXoZP"
      },
      "execution_count": null,
      "outputs": []
    },
    {
      "cell_type": "markdown",
      "source": [],
      "metadata": {
        "id": "VJCu4XWrXoZP"
      }
    },
    {
      "cell_type": "code",
      "source": [],
      "metadata": {
        "id": "YSEzmpCZXoZP"
      },
      "execution_count": null,
      "outputs": []
    },
    {
      "cell_type": "code",
      "source": [],
      "metadata": {
        "id": "wniAFReVXoZP"
      },
      "execution_count": null,
      "outputs": []
    },
    {
      "cell_type": "markdown",
      "source": [],
      "metadata": {
        "id": "rFQVC-2tXoZP"
      }
    },
    {
      "cell_type": "code",
      "source": [],
      "metadata": {
        "id": "z0M_sd8lXoZP"
      },
      "execution_count": null,
      "outputs": []
    },
    {
      "cell_type": "code",
      "source": [],
      "metadata": {
        "id": "_2S7vh0yXoZP"
      },
      "execution_count": null,
      "outputs": []
    },
    {
      "cell_type": "markdown",
      "source": [],
      "metadata": {
        "id": "INT6UhqOXoZP"
      }
    },
    {
      "cell_type": "code",
      "source": [],
      "metadata": {
        "id": "y4e35r5IXoZP"
      },
      "execution_count": null,
      "outputs": []
    },
    {
      "cell_type": "code",
      "source": [],
      "metadata": {
        "id": "ZI5Q8kaTXoZP"
      },
      "execution_count": null,
      "outputs": []
    },
    {
      "cell_type": "markdown",
      "source": [],
      "metadata": {
        "id": "seBMRuQfXoZP"
      }
    },
    {
      "cell_type": "code",
      "source": [],
      "metadata": {
        "id": "PY91QvCuXoZP"
      },
      "execution_count": null,
      "outputs": []
    },
    {
      "cell_type": "code",
      "source": [],
      "metadata": {
        "id": "HF8SV9qoXoZP"
      },
      "execution_count": null,
      "outputs": []
    },
    {
      "cell_type": "markdown",
      "source": [],
      "metadata": {
        "id": "LivCnDaWXoZP"
      }
    },
    {
      "cell_type": "code",
      "source": [],
      "metadata": {
        "id": "RaM985oWXoZP"
      },
      "execution_count": null,
      "outputs": []
    },
    {
      "cell_type": "code",
      "source": [],
      "metadata": {
        "id": "48Cdi8WbXoZP"
      },
      "execution_count": null,
      "outputs": []
    },
    {
      "cell_type": "markdown",
      "source": [],
      "metadata": {
        "id": "UmVkhbRvXoZP"
      }
    },
    {
      "cell_type": "code",
      "source": [],
      "metadata": {
        "id": "tDUbJViMXoZP"
      },
      "execution_count": null,
      "outputs": []
    },
    {
      "cell_type": "code",
      "source": [],
      "metadata": {
        "id": "bEcJWyHJXoZQ"
      },
      "execution_count": null,
      "outputs": []
    },
    {
      "cell_type": "markdown",
      "source": [],
      "metadata": {
        "id": "mhbOfk0aXoZQ"
      }
    },
    {
      "cell_type": "code",
      "source": [],
      "metadata": {
        "id": "1EILdD9WXoZQ"
      },
      "execution_count": null,
      "outputs": []
    },
    {
      "cell_type": "code",
      "source": [],
      "metadata": {
        "id": "47meGeQAXoZQ"
      },
      "execution_count": null,
      "outputs": []
    },
    {
      "cell_type": "markdown",
      "source": [],
      "metadata": {
        "id": "3rdCEb7mXood"
      }
    },
    {
      "cell_type": "code",
      "source": [],
      "metadata": {
        "id": "uLuZAUlOXood"
      },
      "execution_count": null,
      "outputs": []
    },
    {
      "cell_type": "code",
      "source": [],
      "metadata": {
        "id": "I738PuSbXood"
      },
      "execution_count": null,
      "outputs": []
    },
    {
      "cell_type": "markdown",
      "source": [],
      "metadata": {
        "id": "I3v5fdT3Xood"
      }
    },
    {
      "cell_type": "code",
      "source": [],
      "metadata": {
        "id": "L-jUXIhpXood"
      },
      "execution_count": null,
      "outputs": []
    },
    {
      "cell_type": "code",
      "source": [],
      "metadata": {
        "id": "TCCp6WJxXood"
      },
      "execution_count": null,
      "outputs": []
    },
    {
      "cell_type": "markdown",
      "source": [],
      "metadata": {
        "id": "yGSVCp-hXooe"
      }
    },
    {
      "cell_type": "code",
      "source": [],
      "metadata": {
        "id": "2dYFzam2Xooe"
      },
      "execution_count": null,
      "outputs": []
    },
    {
      "cell_type": "code",
      "source": [],
      "metadata": {
        "id": "AfJxwqo4Xooe"
      },
      "execution_count": null,
      "outputs": []
    },
    {
      "cell_type": "markdown",
      "source": [],
      "metadata": {
        "id": "34EM8hVNXooe"
      }
    },
    {
      "cell_type": "code",
      "source": [],
      "metadata": {
        "id": "9kAuEoZ2Xooe"
      },
      "execution_count": null,
      "outputs": []
    },
    {
      "cell_type": "code",
      "source": [],
      "metadata": {
        "id": "zWht2gHdXooe"
      },
      "execution_count": null,
      "outputs": []
    },
    {
      "cell_type": "markdown",
      "source": [],
      "metadata": {
        "id": "Tulg0P0qXooe"
      }
    },
    {
      "cell_type": "code",
      "source": [],
      "metadata": {
        "id": "WWltd2zOXooe"
      },
      "execution_count": null,
      "outputs": []
    },
    {
      "cell_type": "code",
      "source": [],
      "metadata": {
        "id": "dZOshUpyXooe"
      },
      "execution_count": null,
      "outputs": []
    },
    {
      "cell_type": "markdown",
      "source": [],
      "metadata": {
        "id": "5c8Eey49Xooe"
      }
    },
    {
      "cell_type": "code",
      "source": [],
      "metadata": {
        "id": "0rhAjANEXooe"
      },
      "execution_count": null,
      "outputs": []
    },
    {
      "cell_type": "code",
      "source": [],
      "metadata": {
        "id": "ge4aspwdXooe"
      },
      "execution_count": null,
      "outputs": []
    },
    {
      "cell_type": "markdown",
      "source": [],
      "metadata": {
        "id": "qzQoweFoXooe"
      }
    },
    {
      "cell_type": "code",
      "source": [],
      "metadata": {
        "id": "Zc8Ag7PBXoof"
      },
      "execution_count": null,
      "outputs": []
    },
    {
      "cell_type": "code",
      "source": [],
      "metadata": {
        "id": "SoWq4zmXXoof"
      },
      "execution_count": null,
      "outputs": []
    },
    {
      "cell_type": "markdown",
      "source": [],
      "metadata": {
        "id": "q5bRzGGpXoof"
      }
    },
    {
      "cell_type": "code",
      "source": [],
      "metadata": {
        "id": "PBETU5zYXoof"
      },
      "execution_count": null,
      "outputs": []
    },
    {
      "cell_type": "code",
      "source": [],
      "metadata": {
        "id": "3Rzg9wpbXoof"
      },
      "execution_count": null,
      "outputs": []
    },
    {
      "cell_type": "markdown",
      "source": [],
      "metadata": {
        "id": "SfeJHQnjXoof"
      }
    },
    {
      "cell_type": "code",
      "source": [],
      "metadata": {
        "id": "LBnB8fl8Xoof"
      },
      "execution_count": null,
      "outputs": []
    },
    {
      "cell_type": "code",
      "source": [],
      "metadata": {
        "id": "zfmrnikZXoof"
      },
      "execution_count": null,
      "outputs": []
    },
    {
      "cell_type": "markdown",
      "source": [],
      "metadata": {
        "id": "53xu_SVZXoof"
      }
    },
    {
      "cell_type": "code",
      "source": [],
      "metadata": {
        "id": "FQVKsZbvXoof"
      },
      "execution_count": null,
      "outputs": []
    },
    {
      "cell_type": "code",
      "source": [],
      "metadata": {
        "id": "CQu1UG54Xoof"
      },
      "execution_count": null,
      "outputs": []
    },
    {
      "cell_type": "markdown",
      "source": [],
      "metadata": {
        "id": "dpK9nWj5Xoof"
      }
    },
    {
      "cell_type": "code",
      "source": [],
      "metadata": {
        "id": "sV40BaALXoof"
      },
      "execution_count": null,
      "outputs": []
    },
    {
      "cell_type": "code",
      "source": [],
      "metadata": {
        "id": "VErYLbEVXoof"
      },
      "execution_count": null,
      "outputs": []
    },
    {
      "cell_type": "markdown",
      "source": [],
      "metadata": {
        "id": "lDleXRFCXoof"
      }
    },
    {
      "cell_type": "code",
      "source": [],
      "metadata": {
        "id": "yAxmi2ESXoof"
      },
      "execution_count": null,
      "outputs": []
    },
    {
      "cell_type": "code",
      "source": [],
      "metadata": {
        "id": "cvkbV-E9Xoof"
      },
      "execution_count": null,
      "outputs": []
    },
    {
      "cell_type": "markdown",
      "source": [],
      "metadata": {
        "id": "anl4s0BYXoof"
      }
    },
    {
      "cell_type": "code",
      "source": [],
      "metadata": {
        "id": "4JoVPQaFXoof"
      },
      "execution_count": null,
      "outputs": []
    },
    {
      "cell_type": "code",
      "source": [],
      "metadata": {
        "id": "BoSWNOCTXoog"
      },
      "execution_count": null,
      "outputs": []
    },
    {
      "cell_type": "markdown",
      "source": [],
      "metadata": {
        "id": "OnEks39LXoog"
      }
    },
    {
      "cell_type": "code",
      "source": [],
      "metadata": {
        "id": "FrG_qwogXoog"
      },
      "execution_count": null,
      "outputs": []
    },
    {
      "cell_type": "code",
      "source": [],
      "metadata": {
        "id": "2iNGxcmWXoog"
      },
      "execution_count": null,
      "outputs": []
    },
    {
      "cell_type": "markdown",
      "source": [],
      "metadata": {
        "id": "XJd0gusKXoog"
      }
    },
    {
      "cell_type": "code",
      "source": [],
      "metadata": {
        "id": "GEo-yEdaXoog"
      },
      "execution_count": null,
      "outputs": []
    },
    {
      "cell_type": "code",
      "source": [],
      "metadata": {
        "id": "W7d6od6cXoog"
      },
      "execution_count": null,
      "outputs": []
    },
    {
      "cell_type": "markdown",
      "source": [],
      "metadata": {
        "id": "DS_a2aA9Xoog"
      }
    },
    {
      "cell_type": "code",
      "source": [],
      "metadata": {
        "id": "EqlZmbgsXoog"
      },
      "execution_count": null,
      "outputs": []
    },
    {
      "cell_type": "code",
      "source": [],
      "metadata": {
        "id": "S19pKdJtXoog"
      },
      "execution_count": null,
      "outputs": []
    },
    {
      "cell_type": "markdown",
      "source": [],
      "metadata": {
        "id": "MdKfTeMYXo5T"
      }
    },
    {
      "cell_type": "code",
      "source": [],
      "metadata": {
        "id": "UA5xDZwmXo5T"
      },
      "execution_count": null,
      "outputs": []
    },
    {
      "cell_type": "code",
      "source": [],
      "metadata": {
        "id": "w-9BQ1sZXo5T"
      },
      "execution_count": null,
      "outputs": []
    },
    {
      "cell_type": "markdown",
      "source": [],
      "metadata": {
        "id": "7n7bBPiOXo5T"
      }
    },
    {
      "cell_type": "code",
      "source": [],
      "metadata": {
        "id": "LQwc-L26Xo5T"
      },
      "execution_count": null,
      "outputs": []
    },
    {
      "cell_type": "code",
      "source": [],
      "metadata": {
        "id": "jOeZ4wRpXo5T"
      },
      "execution_count": null,
      "outputs": []
    },
    {
      "cell_type": "markdown",
      "source": [],
      "metadata": {
        "id": "CC7PkxbbXo5T"
      }
    },
    {
      "cell_type": "code",
      "source": [],
      "metadata": {
        "id": "DNdXIn3HXo5T"
      },
      "execution_count": null,
      "outputs": []
    },
    {
      "cell_type": "code",
      "source": [],
      "metadata": {
        "id": "wyIDiBsHXo5T"
      },
      "execution_count": null,
      "outputs": []
    },
    {
      "cell_type": "markdown",
      "source": [],
      "metadata": {
        "id": "QznphUgIXo5T"
      }
    },
    {
      "cell_type": "code",
      "source": [],
      "metadata": {
        "id": "R5q8RCSWXo5T"
      },
      "execution_count": null,
      "outputs": []
    },
    {
      "cell_type": "code",
      "source": [],
      "metadata": {
        "id": "K40v5krFXo5T"
      },
      "execution_count": null,
      "outputs": []
    },
    {
      "cell_type": "markdown",
      "source": [],
      "metadata": {
        "id": "-7JxfKtvXo5T"
      }
    },
    {
      "cell_type": "code",
      "source": [],
      "metadata": {
        "id": "qfmJAXOOXo5U"
      },
      "execution_count": null,
      "outputs": []
    },
    {
      "cell_type": "code",
      "source": [],
      "metadata": {
        "id": "1geJ3RixXo5U"
      },
      "execution_count": null,
      "outputs": []
    },
    {
      "cell_type": "markdown",
      "source": [],
      "metadata": {
        "id": "s2x32aRLXo5U"
      }
    },
    {
      "cell_type": "code",
      "source": [],
      "metadata": {
        "id": "bJ5LP1ZTXo5U"
      },
      "execution_count": null,
      "outputs": []
    },
    {
      "cell_type": "code",
      "source": [],
      "metadata": {
        "id": "4gdukopdXo5U"
      },
      "execution_count": null,
      "outputs": []
    },
    {
      "cell_type": "markdown",
      "source": [],
      "metadata": {
        "id": "y14-MZ2RXo5U"
      }
    },
    {
      "cell_type": "code",
      "source": [],
      "metadata": {
        "id": "BbyiDRd1Xo5U"
      },
      "execution_count": null,
      "outputs": []
    },
    {
      "cell_type": "code",
      "source": [],
      "metadata": {
        "id": "atb9jeS4Xo5U"
      },
      "execution_count": null,
      "outputs": []
    },
    {
      "cell_type": "markdown",
      "source": [],
      "metadata": {
        "id": "rKf1YwGjXo5U"
      }
    },
    {
      "cell_type": "code",
      "source": [],
      "metadata": {
        "id": "EOPrhlQ9Xo5U"
      },
      "execution_count": null,
      "outputs": []
    },
    {
      "cell_type": "code",
      "source": [],
      "metadata": {
        "id": "sNTVZXviXo5U"
      },
      "execution_count": null,
      "outputs": []
    },
    {
      "cell_type": "markdown",
      "source": [],
      "metadata": {
        "id": "XhNXHmDrXo5U"
      }
    },
    {
      "cell_type": "code",
      "source": [],
      "metadata": {
        "id": "3Drf_yRqXo5U"
      },
      "execution_count": null,
      "outputs": []
    },
    {
      "cell_type": "code",
      "source": [],
      "metadata": {
        "id": "NkvlRnJoXo5U"
      },
      "execution_count": null,
      "outputs": []
    },
    {
      "cell_type": "markdown",
      "source": [],
      "metadata": {
        "id": "AHvjp0p9Xo5U"
      }
    },
    {
      "cell_type": "code",
      "source": [],
      "metadata": {
        "id": "_LFI6x5xXo5U"
      },
      "execution_count": null,
      "outputs": []
    },
    {
      "cell_type": "code",
      "source": [],
      "metadata": {
        "id": "XlthA7N-Xo5U"
      },
      "execution_count": null,
      "outputs": []
    },
    {
      "cell_type": "markdown",
      "source": [],
      "metadata": {
        "id": "wz18-snBXo5U"
      }
    },
    {
      "cell_type": "code",
      "source": [],
      "metadata": {
        "id": "OqG7AILnXo5U"
      },
      "execution_count": null,
      "outputs": []
    },
    {
      "cell_type": "code",
      "source": [],
      "metadata": {
        "id": "ItElWxNeXo5U"
      },
      "execution_count": null,
      "outputs": []
    },
    {
      "cell_type": "markdown",
      "source": [],
      "metadata": {
        "id": "aOnz0YleXo5U"
      }
    },
    {
      "cell_type": "code",
      "source": [],
      "metadata": {
        "id": "kG3C8isdXo5U"
      },
      "execution_count": null,
      "outputs": []
    },
    {
      "cell_type": "code",
      "source": [],
      "metadata": {
        "id": "VYMyhUn5Xo5U"
      },
      "execution_count": null,
      "outputs": []
    },
    {
      "cell_type": "markdown",
      "source": [],
      "metadata": {
        "id": "fmR20_iZXo5U"
      }
    },
    {
      "cell_type": "code",
      "source": [],
      "metadata": {
        "id": "rsZuYs53Xo5U"
      },
      "execution_count": null,
      "outputs": []
    },
    {
      "cell_type": "code",
      "source": [],
      "metadata": {
        "id": "A0oHUXoJXo5U"
      },
      "execution_count": null,
      "outputs": []
    },
    {
      "cell_type": "markdown",
      "source": [],
      "metadata": {
        "id": "n0Obo2LjXo5U"
      }
    },
    {
      "cell_type": "code",
      "source": [],
      "metadata": {
        "id": "shK_Ys6iXo5U"
      },
      "execution_count": null,
      "outputs": []
    },
    {
      "cell_type": "code",
      "source": [],
      "metadata": {
        "id": "Dy6pWxJkXo5U"
      },
      "execution_count": null,
      "outputs": []
    },
    {
      "cell_type": "markdown",
      "source": [],
      "metadata": {
        "id": "68J1DY8BXo5U"
      }
    },
    {
      "cell_type": "code",
      "source": [],
      "metadata": {
        "id": "Olie_tx8Xo5U"
      },
      "execution_count": null,
      "outputs": []
    },
    {
      "cell_type": "code",
      "source": [],
      "metadata": {
        "id": "4ko_rpXAXo5U"
      },
      "execution_count": null,
      "outputs": []
    },
    {
      "cell_type": "markdown",
      "source": [],
      "metadata": {
        "id": "0kpo_ZaUXo5V"
      }
    },
    {
      "cell_type": "code",
      "source": [],
      "metadata": {
        "id": "hItjtFwiXo5V"
      },
      "execution_count": null,
      "outputs": []
    },
    {
      "cell_type": "code",
      "source": [],
      "metadata": {
        "id": "R9kb9GzeXo5V"
      },
      "execution_count": null,
      "outputs": []
    },
    {
      "cell_type": "markdown",
      "source": [],
      "metadata": {
        "id": "-5SL-btoXpPH"
      }
    },
    {
      "cell_type": "code",
      "source": [],
      "metadata": {
        "id": "AvXglBEuXpPI"
      },
      "execution_count": null,
      "outputs": []
    },
    {
      "cell_type": "code",
      "source": [],
      "metadata": {
        "id": "HWdVd8WpXpPI"
      },
      "execution_count": null,
      "outputs": []
    },
    {
      "cell_type": "markdown",
      "source": [],
      "metadata": {
        "id": "jTCxgF4DXpPI"
      }
    },
    {
      "cell_type": "code",
      "source": [],
      "metadata": {
        "id": "5hiFYikjXpPI"
      },
      "execution_count": null,
      "outputs": []
    },
    {
      "cell_type": "code",
      "source": [],
      "metadata": {
        "id": "VIL1E1dEXpPI"
      },
      "execution_count": null,
      "outputs": []
    },
    {
      "cell_type": "markdown",
      "source": [],
      "metadata": {
        "id": "QU047ciiXpPI"
      }
    },
    {
      "cell_type": "code",
      "source": [],
      "metadata": {
        "id": "ldPTF4nfXpPI"
      },
      "execution_count": null,
      "outputs": []
    },
    {
      "cell_type": "code",
      "source": [],
      "metadata": {
        "id": "rtbLbn6zXpPI"
      },
      "execution_count": null,
      "outputs": []
    },
    {
      "cell_type": "markdown",
      "source": [],
      "metadata": {
        "id": "jOFBv6g7XpPI"
      }
    },
    {
      "cell_type": "code",
      "source": [],
      "metadata": {
        "id": "BL3fqsFLXpPI"
      },
      "execution_count": null,
      "outputs": []
    },
    {
      "cell_type": "code",
      "source": [],
      "metadata": {
        "id": "rav3OhNWXpPI"
      },
      "execution_count": null,
      "outputs": []
    },
    {
      "cell_type": "markdown",
      "source": [],
      "metadata": {
        "id": "7pX2IUWCXpPI"
      }
    },
    {
      "cell_type": "code",
      "source": [],
      "metadata": {
        "id": "oOj5FClWXpPJ"
      },
      "execution_count": null,
      "outputs": []
    },
    {
      "cell_type": "code",
      "source": [],
      "metadata": {
        "id": "zhBiygFGXpPJ"
      },
      "execution_count": null,
      "outputs": []
    },
    {
      "cell_type": "markdown",
      "source": [],
      "metadata": {
        "id": "w9Hp4wjEXpPJ"
      }
    },
    {
      "cell_type": "code",
      "source": [],
      "metadata": {
        "id": "cFLkaBgnXpPJ"
      },
      "execution_count": null,
      "outputs": []
    },
    {
      "cell_type": "code",
      "source": [],
      "metadata": {
        "id": "YxKd4tSfXpPJ"
      },
      "execution_count": null,
      "outputs": []
    },
    {
      "cell_type": "markdown",
      "source": [],
      "metadata": {
        "id": "CyFFCRC1XpPJ"
      }
    },
    {
      "cell_type": "code",
      "source": [],
      "metadata": {
        "id": "b_C2caWhXpPJ"
      },
      "execution_count": null,
      "outputs": []
    },
    {
      "cell_type": "code",
      "source": [],
      "metadata": {
        "id": "o_aJee8GXpPJ"
      },
      "execution_count": null,
      "outputs": []
    },
    {
      "cell_type": "markdown",
      "source": [],
      "metadata": {
        "id": "PNOdH-aBXpPJ"
      }
    },
    {
      "cell_type": "code",
      "source": [],
      "metadata": {
        "id": "vYhsi_1EXpPJ"
      },
      "execution_count": null,
      "outputs": []
    },
    {
      "cell_type": "code",
      "source": [],
      "metadata": {
        "id": "jfMyZW4FXpPJ"
      },
      "execution_count": null,
      "outputs": []
    },
    {
      "cell_type": "markdown",
      "source": [],
      "metadata": {
        "id": "u1ir0Ds-XpPJ"
      }
    },
    {
      "cell_type": "code",
      "source": [],
      "metadata": {
        "id": "dnEyYcwpXpPJ"
      },
      "execution_count": null,
      "outputs": []
    },
    {
      "cell_type": "code",
      "source": [],
      "metadata": {
        "id": "2pKl5aknXpPJ"
      },
      "execution_count": null,
      "outputs": []
    },
    {
      "cell_type": "markdown",
      "source": [],
      "metadata": {
        "id": "53obYLJxXpPJ"
      }
    },
    {
      "cell_type": "code",
      "source": [],
      "metadata": {
        "id": "p_ZMMRRIXpPJ"
      },
      "execution_count": null,
      "outputs": []
    },
    {
      "cell_type": "code",
      "source": [],
      "metadata": {
        "id": "TA6yDhArXpPJ"
      },
      "execution_count": null,
      "outputs": []
    },
    {
      "cell_type": "markdown",
      "source": [],
      "metadata": {
        "id": "JjNjMiH7XpPJ"
      }
    },
    {
      "cell_type": "code",
      "source": [],
      "metadata": {
        "id": "8GYrwLqsXpPK"
      },
      "execution_count": null,
      "outputs": []
    },
    {
      "cell_type": "code",
      "source": [],
      "metadata": {
        "id": "8yP6I5oEXpPK"
      },
      "execution_count": null,
      "outputs": []
    },
    {
      "cell_type": "markdown",
      "source": [],
      "metadata": {
        "id": "QaMvloMOXpPK"
      }
    },
    {
      "cell_type": "code",
      "source": [],
      "metadata": {
        "id": "vTgFa0BkXpPK"
      },
      "execution_count": null,
      "outputs": []
    },
    {
      "cell_type": "code",
      "source": [],
      "metadata": {
        "id": "uc5eSwFqXpPK"
      },
      "execution_count": null,
      "outputs": []
    },
    {
      "cell_type": "markdown",
      "source": [],
      "metadata": {
        "id": "8FO9ykGlXpPK"
      }
    },
    {
      "cell_type": "code",
      "source": [],
      "metadata": {
        "id": "MUvWplSEXpPK"
      },
      "execution_count": null,
      "outputs": []
    },
    {
      "cell_type": "code",
      "source": [],
      "metadata": {
        "id": "eqVnTExjXpPK"
      },
      "execution_count": null,
      "outputs": []
    },
    {
      "cell_type": "markdown",
      "source": [],
      "metadata": {
        "id": "6fp81L5-XpPK"
      }
    },
    {
      "cell_type": "code",
      "source": [],
      "metadata": {
        "id": "nhqqUMFkXpPK"
      },
      "execution_count": null,
      "outputs": []
    },
    {
      "cell_type": "code",
      "source": [],
      "metadata": {
        "id": "ckWoLQU-XpPK"
      },
      "execution_count": null,
      "outputs": []
    },
    {
      "cell_type": "markdown",
      "source": [],
      "metadata": {
        "id": "QTBCY8gnXpPK"
      }
    },
    {
      "cell_type": "code",
      "source": [],
      "metadata": {
        "id": "FqlFXzjmXpPK"
      },
      "execution_count": null,
      "outputs": []
    },
    {
      "cell_type": "code",
      "source": [],
      "metadata": {
        "id": "NgHQoBinXpPK"
      },
      "execution_count": null,
      "outputs": []
    },
    {
      "cell_type": "markdown",
      "source": [],
      "metadata": {
        "id": "rBxPAgClXpPK"
      }
    },
    {
      "cell_type": "code",
      "source": [],
      "metadata": {
        "id": "pxXlZ_jnXpPK"
      },
      "execution_count": null,
      "outputs": []
    },
    {
      "cell_type": "code",
      "source": [],
      "metadata": {
        "id": "CZN8mOC2XpPK"
      },
      "execution_count": null,
      "outputs": []
    },
    {
      "cell_type": "markdown",
      "source": [],
      "metadata": {
        "id": "ZQdOEbW2XplU"
      }
    },
    {
      "cell_type": "code",
      "source": [],
      "metadata": {
        "id": "Ffegx6z4XplU"
      },
      "execution_count": null,
      "outputs": []
    },
    {
      "cell_type": "code",
      "source": [],
      "metadata": {
        "id": "bbG1TMasXplU"
      },
      "execution_count": null,
      "outputs": []
    },
    {
      "cell_type": "markdown",
      "source": [],
      "metadata": {
        "id": "ESDqPE9FXplU"
      }
    },
    {
      "cell_type": "code",
      "source": [],
      "metadata": {
        "id": "ttY4XLuMXplU"
      },
      "execution_count": null,
      "outputs": []
    },
    {
      "cell_type": "code",
      "source": [],
      "metadata": {
        "id": "XWYoxgv7XplU"
      },
      "execution_count": null,
      "outputs": []
    },
    {
      "cell_type": "markdown",
      "source": [],
      "metadata": {
        "id": "65kwp7zlXplV"
      }
    },
    {
      "cell_type": "code",
      "source": [],
      "metadata": {
        "id": "cC3G8npIXplV"
      },
      "execution_count": null,
      "outputs": []
    },
    {
      "cell_type": "code",
      "source": [],
      "metadata": {
        "id": "anJo_IGFXplV"
      },
      "execution_count": null,
      "outputs": []
    },
    {
      "cell_type": "markdown",
      "source": [],
      "metadata": {
        "id": "9tPadKcQXplV"
      }
    },
    {
      "cell_type": "code",
      "source": [],
      "metadata": {
        "id": "Hzv_ugD0XplV"
      },
      "execution_count": null,
      "outputs": []
    },
    {
      "cell_type": "code",
      "source": [],
      "metadata": {
        "id": "zTcWgAwNXplV"
      },
      "execution_count": null,
      "outputs": []
    },
    {
      "cell_type": "markdown",
      "source": [],
      "metadata": {
        "id": "F6Zt9fNxXplV"
      }
    },
    {
      "cell_type": "code",
      "source": [],
      "metadata": {
        "id": "V6-F5-NAXplV"
      },
      "execution_count": null,
      "outputs": []
    },
    {
      "cell_type": "code",
      "source": [],
      "metadata": {
        "id": "vtNSIryIXplV"
      },
      "execution_count": null,
      "outputs": []
    },
    {
      "cell_type": "markdown",
      "source": [],
      "metadata": {
        "id": "QtL7F4awXplV"
      }
    },
    {
      "cell_type": "code",
      "source": [],
      "metadata": {
        "id": "HZwizPDeXplV"
      },
      "execution_count": null,
      "outputs": []
    },
    {
      "cell_type": "code",
      "source": [],
      "metadata": {
        "id": "fkeQC1YTXplV"
      },
      "execution_count": null,
      "outputs": []
    },
    {
      "cell_type": "markdown",
      "source": [],
      "metadata": {
        "id": "tRyjcKV3XplV"
      }
    },
    {
      "cell_type": "code",
      "source": [],
      "metadata": {
        "id": "X1PR3LKuXplV"
      },
      "execution_count": null,
      "outputs": []
    },
    {
      "cell_type": "code",
      "source": [],
      "metadata": {
        "id": "M9Gc_bQaXplV"
      },
      "execution_count": null,
      "outputs": []
    },
    {
      "cell_type": "markdown",
      "source": [],
      "metadata": {
        "id": "GPnn_6CbXplV"
      }
    },
    {
      "cell_type": "code",
      "source": [],
      "metadata": {
        "id": "T0n5Anl9XplV"
      },
      "execution_count": null,
      "outputs": []
    },
    {
      "cell_type": "code",
      "source": [],
      "metadata": {
        "id": "UYvTJgXvXplW"
      },
      "execution_count": null,
      "outputs": []
    },
    {
      "cell_type": "markdown",
      "source": [],
      "metadata": {
        "id": "tWKqjZs8XplW"
      }
    },
    {
      "cell_type": "code",
      "source": [],
      "metadata": {
        "id": "uDK8RrD2XplW"
      },
      "execution_count": null,
      "outputs": []
    },
    {
      "cell_type": "code",
      "source": [],
      "metadata": {
        "id": "cPP2XnelXplW"
      },
      "execution_count": null,
      "outputs": []
    },
    {
      "cell_type": "markdown",
      "source": [],
      "metadata": {
        "id": "P1B1KlhyXplW"
      }
    },
    {
      "cell_type": "code",
      "source": [],
      "metadata": {
        "id": "7tE_G7p7XplW"
      },
      "execution_count": null,
      "outputs": []
    },
    {
      "cell_type": "code",
      "source": [],
      "metadata": {
        "id": "Q1HmNRcaXplW"
      },
      "execution_count": null,
      "outputs": []
    },
    {
      "cell_type": "markdown",
      "source": [],
      "metadata": {
        "id": "dP91vjcIXplW"
      }
    },
    {
      "cell_type": "code",
      "source": [],
      "metadata": {
        "id": "Yz7DvqZ5XplW"
      },
      "execution_count": null,
      "outputs": []
    },
    {
      "cell_type": "code",
      "source": [],
      "metadata": {
        "id": "fa6SvF43XplW"
      },
      "execution_count": null,
      "outputs": []
    },
    {
      "cell_type": "markdown",
      "source": [],
      "metadata": {
        "id": "WX9kFhQnXplW"
      }
    },
    {
      "cell_type": "code",
      "source": [],
      "metadata": {
        "id": "nJIPT9RGXplW"
      },
      "execution_count": null,
      "outputs": []
    },
    {
      "cell_type": "code",
      "source": [],
      "metadata": {
        "id": "u9KTSlCnXplW"
      },
      "execution_count": null,
      "outputs": []
    },
    {
      "cell_type": "markdown",
      "source": [],
      "metadata": {
        "id": "StzqNNKBXplW"
      }
    },
    {
      "cell_type": "code",
      "source": [],
      "metadata": {
        "id": "Sa03cYVoXplW"
      },
      "execution_count": null,
      "outputs": []
    },
    {
      "cell_type": "code",
      "source": [],
      "metadata": {
        "id": "njGR5necXplW"
      },
      "execution_count": null,
      "outputs": []
    },
    {
      "cell_type": "markdown",
      "source": [],
      "metadata": {
        "id": "Vcaf4HRdXplW"
      }
    },
    {
      "cell_type": "code",
      "source": [],
      "metadata": {
        "id": "ifAztdfrXplW"
      },
      "execution_count": null,
      "outputs": []
    },
    {
      "cell_type": "code",
      "source": [],
      "metadata": {
        "id": "a1Mz1sgrXplW"
      },
      "execution_count": null,
      "outputs": []
    },
    {
      "cell_type": "markdown",
      "source": [],
      "metadata": {
        "id": "k0L9x_qvXplX"
      }
    },
    {
      "cell_type": "code",
      "source": [],
      "metadata": {
        "id": "jEuvNJHcXplX"
      },
      "execution_count": null,
      "outputs": []
    },
    {
      "cell_type": "code",
      "source": [],
      "metadata": {
        "id": "cLUOHm3iXplX"
      },
      "execution_count": null,
      "outputs": []
    },
    {
      "cell_type": "markdown",
      "source": [],
      "metadata": {
        "id": "l8L9FpoZXplX"
      }
    },
    {
      "cell_type": "code",
      "source": [],
      "metadata": {
        "id": "XgWnSdMcXplX"
      },
      "execution_count": null,
      "outputs": []
    },
    {
      "cell_type": "code",
      "source": [],
      "metadata": {
        "id": "vt4P3rnNXplX"
      },
      "execution_count": null,
      "outputs": []
    },
    {
      "cell_type": "markdown",
      "source": [],
      "metadata": {
        "id": "bOjxd0arXp6S"
      }
    },
    {
      "cell_type": "code",
      "source": [],
      "metadata": {
        "id": "5bU8y5aQXp6T"
      },
      "execution_count": null,
      "outputs": []
    },
    {
      "cell_type": "code",
      "source": [],
      "metadata": {
        "id": "aaz8hkLEXp6T"
      },
      "execution_count": null,
      "outputs": []
    },
    {
      "cell_type": "markdown",
      "source": [],
      "metadata": {
        "id": "UfrV2bhXXp6T"
      }
    },
    {
      "cell_type": "code",
      "source": [],
      "metadata": {
        "id": "ViQ3CtdTXp6T"
      },
      "execution_count": null,
      "outputs": []
    },
    {
      "cell_type": "code",
      "source": [],
      "metadata": {
        "id": "S4Ea8AUBXp6T"
      },
      "execution_count": null,
      "outputs": []
    },
    {
      "cell_type": "markdown",
      "source": [],
      "metadata": {
        "id": "zHuChpbfXp6T"
      }
    },
    {
      "cell_type": "code",
      "source": [],
      "metadata": {
        "id": "xsKuTDn-Xp6T"
      },
      "execution_count": null,
      "outputs": []
    },
    {
      "cell_type": "code",
      "source": [],
      "metadata": {
        "id": "Qg-bp3TuXp6T"
      },
      "execution_count": null,
      "outputs": []
    },
    {
      "cell_type": "markdown",
      "source": [],
      "metadata": {
        "id": "EoC5k3rlXp6T"
      }
    },
    {
      "cell_type": "code",
      "source": [],
      "metadata": {
        "id": "3_rbrq5EXp6T"
      },
      "execution_count": null,
      "outputs": []
    },
    {
      "cell_type": "code",
      "source": [],
      "metadata": {
        "id": "TUlyC4FbXp6T"
      },
      "execution_count": null,
      "outputs": []
    },
    {
      "cell_type": "markdown",
      "source": [],
      "metadata": {
        "id": "CKxcHUlVXp6T"
      }
    },
    {
      "cell_type": "code",
      "source": [],
      "metadata": {
        "id": "UJK7r0JzXp6T"
      },
      "execution_count": null,
      "outputs": []
    },
    {
      "cell_type": "code",
      "source": [],
      "metadata": {
        "id": "WG9YvCOoXp6T"
      },
      "execution_count": null,
      "outputs": []
    },
    {
      "cell_type": "markdown",
      "source": [],
      "metadata": {
        "id": "fcBSsQbDXp6T"
      }
    },
    {
      "cell_type": "code",
      "source": [],
      "metadata": {
        "id": "YaLZBn70Xp6T"
      },
      "execution_count": null,
      "outputs": []
    },
    {
      "cell_type": "code",
      "source": [],
      "metadata": {
        "id": "GKzDlmulXp6T"
      },
      "execution_count": null,
      "outputs": []
    },
    {
      "cell_type": "markdown",
      "source": [],
      "metadata": {
        "id": "dpGgK4AjXp6T"
      }
    },
    {
      "cell_type": "code",
      "source": [],
      "metadata": {
        "id": "3AjFD9XtXp6T"
      },
      "execution_count": null,
      "outputs": []
    },
    {
      "cell_type": "code",
      "source": [],
      "metadata": {
        "id": "YMvqNkXOXp6T"
      },
      "execution_count": null,
      "outputs": []
    },
    {
      "cell_type": "markdown",
      "source": [],
      "metadata": {
        "id": "OAqC2VbIXp6U"
      }
    },
    {
      "cell_type": "code",
      "source": [],
      "metadata": {
        "id": "WjHuggbRXp6U"
      },
      "execution_count": null,
      "outputs": []
    },
    {
      "cell_type": "code",
      "source": [],
      "metadata": {
        "id": "viyjTBUSXp6U"
      },
      "execution_count": null,
      "outputs": []
    },
    {
      "cell_type": "markdown",
      "source": [],
      "metadata": {
        "id": "cmU5ELjpXp6U"
      }
    },
    {
      "cell_type": "code",
      "source": [],
      "metadata": {
        "id": "G-5gb8XsXp6U"
      },
      "execution_count": null,
      "outputs": []
    },
    {
      "cell_type": "code",
      "source": [],
      "metadata": {
        "id": "3pH3xbiwXp6U"
      },
      "execution_count": null,
      "outputs": []
    },
    {
      "cell_type": "markdown",
      "source": [],
      "metadata": {
        "id": "MPT0VsQ_Xp6U"
      }
    },
    {
      "cell_type": "code",
      "source": [],
      "metadata": {
        "id": "hv7EENm7Xp6U"
      },
      "execution_count": null,
      "outputs": []
    },
    {
      "cell_type": "code",
      "source": [],
      "metadata": {
        "id": "rhUFmxKXXp6U"
      },
      "execution_count": null,
      "outputs": []
    },
    {
      "cell_type": "markdown",
      "source": [],
      "metadata": {
        "id": "tuxrMuoeXp6U"
      }
    },
    {
      "cell_type": "code",
      "source": [],
      "metadata": {
        "id": "W73GfigeXp6U"
      },
      "execution_count": null,
      "outputs": []
    },
    {
      "cell_type": "code",
      "source": [],
      "metadata": {
        "id": "1GCW0ileXp6U"
      },
      "execution_count": null,
      "outputs": []
    },
    {
      "cell_type": "markdown",
      "source": [],
      "metadata": {
        "id": "CG20iX0_Xp6U"
      }
    },
    {
      "cell_type": "code",
      "source": [],
      "metadata": {
        "id": "IICg-V3VXp6U"
      },
      "execution_count": null,
      "outputs": []
    },
    {
      "cell_type": "code",
      "source": [],
      "metadata": {
        "id": "_ic_SI0IXp6U"
      },
      "execution_count": null,
      "outputs": []
    },
    {
      "cell_type": "markdown",
      "source": [],
      "metadata": {
        "id": "reDmOdu3Xp6U"
      }
    },
    {
      "cell_type": "code",
      "source": [],
      "metadata": {
        "id": "hKUJmRQmXp6U"
      },
      "execution_count": null,
      "outputs": []
    },
    {
      "cell_type": "code",
      "source": [],
      "metadata": {
        "id": "CqDmnKxtXp6U"
      },
      "execution_count": null,
      "outputs": []
    },
    {
      "cell_type": "markdown",
      "source": [],
      "metadata": {
        "id": "uNWdwqtqXp6U"
      }
    },
    {
      "cell_type": "code",
      "source": [],
      "metadata": {
        "id": "nk5k0pF5Xp6U"
      },
      "execution_count": null,
      "outputs": []
    },
    {
      "cell_type": "code",
      "source": [],
      "metadata": {
        "id": "fG9rDL5RXp6U"
      },
      "execution_count": null,
      "outputs": []
    },
    {
      "cell_type": "markdown",
      "source": [],
      "metadata": {
        "id": "SffRzHnUXp6U"
      }
    },
    {
      "cell_type": "code",
      "source": [],
      "metadata": {
        "id": "kWsPraPFXp6U"
      },
      "execution_count": null,
      "outputs": []
    },
    {
      "cell_type": "code",
      "source": [],
      "metadata": {
        "id": "Y5OQi1tyXp6U"
      },
      "execution_count": null,
      "outputs": []
    },
    {
      "cell_type": "markdown",
      "source": [],
      "metadata": {
        "id": "DZTAzfvdXp6U"
      }
    },
    {
      "cell_type": "code",
      "source": [],
      "metadata": {
        "id": "OXG2RYHCXp6V"
      },
      "execution_count": null,
      "outputs": []
    },
    {
      "cell_type": "code",
      "source": [],
      "metadata": {
        "id": "8HHsQK8rXp6V"
      },
      "execution_count": null,
      "outputs": []
    },
    {
      "cell_type": "markdown",
      "source": [],
      "metadata": {
        "id": "u0leTH1BXqPQ"
      }
    },
    {
      "cell_type": "code",
      "source": [],
      "metadata": {
        "id": "-AVNzt__XqPZ"
      },
      "execution_count": null,
      "outputs": []
    },
    {
      "cell_type": "code",
      "source": [],
      "metadata": {
        "id": "t848Ho-RXqPa"
      },
      "execution_count": null,
      "outputs": []
    },
    {
      "cell_type": "markdown",
      "source": [],
      "metadata": {
        "id": "I6mA-EalXqPa"
      }
    },
    {
      "cell_type": "code",
      "source": [],
      "metadata": {
        "id": "ap_fM_PRXqPa"
      },
      "execution_count": null,
      "outputs": []
    },
    {
      "cell_type": "code",
      "source": [],
      "metadata": {
        "id": "4-4w_Yq9XqPa"
      },
      "execution_count": null,
      "outputs": []
    },
    {
      "cell_type": "markdown",
      "source": [],
      "metadata": {
        "id": "18RKDwuJXqPa"
      }
    },
    {
      "cell_type": "code",
      "source": [],
      "metadata": {
        "id": "-VqR54lQXqPa"
      },
      "execution_count": null,
      "outputs": []
    },
    {
      "cell_type": "code",
      "source": [],
      "metadata": {
        "id": "D97qDGGXXqPa"
      },
      "execution_count": null,
      "outputs": []
    },
    {
      "cell_type": "markdown",
      "source": [],
      "metadata": {
        "id": "eyyKRQJZXqPa"
      }
    },
    {
      "cell_type": "code",
      "source": [],
      "metadata": {
        "id": "ahUcJO6cXqPb"
      },
      "execution_count": null,
      "outputs": []
    },
    {
      "cell_type": "code",
      "source": [],
      "metadata": {
        "id": "QmLwpiKtXqPb"
      },
      "execution_count": null,
      "outputs": []
    },
    {
      "cell_type": "markdown",
      "source": [],
      "metadata": {
        "id": "Go6F3zVKXqPb"
      }
    },
    {
      "cell_type": "code",
      "source": [],
      "metadata": {
        "id": "6GwZST1MXqPb"
      },
      "execution_count": null,
      "outputs": []
    },
    {
      "cell_type": "code",
      "source": [],
      "metadata": {
        "id": "wAYDZJenXqPb"
      },
      "execution_count": null,
      "outputs": []
    },
    {
      "cell_type": "markdown",
      "source": [],
      "metadata": {
        "id": "S0BLlC0vXqPb"
      }
    },
    {
      "cell_type": "code",
      "source": [],
      "metadata": {
        "id": "jLymj0ttXqPb"
      },
      "execution_count": null,
      "outputs": []
    },
    {
      "cell_type": "code",
      "source": [],
      "metadata": {
        "id": "j20cn4cpXqPb"
      },
      "execution_count": null,
      "outputs": []
    },
    {
      "cell_type": "markdown",
      "source": [],
      "metadata": {
        "id": "wIhTdjGEXqPb"
      }
    },
    {
      "cell_type": "code",
      "source": [],
      "metadata": {
        "id": "0g_tcQVIXqPb"
      },
      "execution_count": null,
      "outputs": []
    },
    {
      "cell_type": "code",
      "source": [],
      "metadata": {
        "id": "qjszzQzQXqPb"
      },
      "execution_count": null,
      "outputs": []
    },
    {
      "cell_type": "markdown",
      "source": [],
      "metadata": {
        "id": "8Trdqow3XqPb"
      }
    },
    {
      "cell_type": "code",
      "source": [],
      "metadata": {
        "id": "kIBf2zLmXqPb"
      },
      "execution_count": null,
      "outputs": []
    },
    {
      "cell_type": "code",
      "source": [],
      "metadata": {
        "id": "Z3ahC6zYXqPb"
      },
      "execution_count": null,
      "outputs": []
    },
    {
      "cell_type": "markdown",
      "source": [],
      "metadata": {
        "id": "80aPpqffXqPb"
      }
    },
    {
      "cell_type": "code",
      "source": [],
      "metadata": {
        "id": "jMnvcPIlXqPb"
      },
      "execution_count": null,
      "outputs": []
    },
    {
      "cell_type": "code",
      "source": [],
      "metadata": {
        "id": "nNVQ15uJXqPb"
      },
      "execution_count": null,
      "outputs": []
    },
    {
      "cell_type": "markdown",
      "source": [],
      "metadata": {
        "id": "ydL6N4QCXqPc"
      }
    },
    {
      "cell_type": "code",
      "source": [],
      "metadata": {
        "id": "vcIzW4qIXqPc"
      },
      "execution_count": null,
      "outputs": []
    },
    {
      "cell_type": "code",
      "source": [],
      "metadata": {
        "id": "2gEVaydrXqPc"
      },
      "execution_count": null,
      "outputs": []
    },
    {
      "cell_type": "markdown",
      "source": [],
      "metadata": {
        "id": "noYpIMbpXqPc"
      }
    },
    {
      "cell_type": "code",
      "source": [],
      "metadata": {
        "id": "r8Do2Eg2XqPc"
      },
      "execution_count": null,
      "outputs": []
    },
    {
      "cell_type": "code",
      "source": [],
      "metadata": {
        "id": "DrHoRLwuXqPc"
      },
      "execution_count": null,
      "outputs": []
    },
    {
      "cell_type": "markdown",
      "source": [],
      "metadata": {
        "id": "Qodtc1nlXqPc"
      }
    },
    {
      "cell_type": "code",
      "source": [],
      "metadata": {
        "id": "Tc8Tcl6WXqPc"
      },
      "execution_count": null,
      "outputs": []
    },
    {
      "cell_type": "code",
      "source": [],
      "metadata": {
        "id": "ETj24gmhXqPc"
      },
      "execution_count": null,
      "outputs": []
    },
    {
      "cell_type": "markdown",
      "source": [],
      "metadata": {
        "id": "0a3q0ICYXqPc"
      }
    },
    {
      "cell_type": "code",
      "source": [],
      "metadata": {
        "id": "j38_GGG5XqPc"
      },
      "execution_count": null,
      "outputs": []
    },
    {
      "cell_type": "code",
      "source": [],
      "metadata": {
        "id": "RoXPfSpNXqPc"
      },
      "execution_count": null,
      "outputs": []
    },
    {
      "cell_type": "markdown",
      "source": [],
      "metadata": {
        "id": "Cv9DX9MxXqPc"
      }
    },
    {
      "cell_type": "code",
      "source": [],
      "metadata": {
        "id": "n5GQEIqIXqPc"
      },
      "execution_count": null,
      "outputs": []
    },
    {
      "cell_type": "code",
      "source": [],
      "metadata": {
        "id": "nD0VFWHtXqPc"
      },
      "execution_count": null,
      "outputs": []
    },
    {
      "cell_type": "markdown",
      "source": [],
      "metadata": {
        "id": "rhC_wypcXqPc"
      }
    },
    {
      "cell_type": "code",
      "source": [],
      "metadata": {
        "id": "rqm4WaKKXqPc"
      },
      "execution_count": null,
      "outputs": []
    },
    {
      "cell_type": "code",
      "source": [],
      "metadata": {
        "id": "vvlEns2GXqPc"
      },
      "execution_count": null,
      "outputs": []
    },
    {
      "cell_type": "markdown",
      "source": [],
      "metadata": {
        "id": "G6K6g4DWXqPc"
      }
    },
    {
      "cell_type": "code",
      "source": [],
      "metadata": {
        "id": "6Syo1738XqPc"
      },
      "execution_count": null,
      "outputs": []
    },
    {
      "cell_type": "code",
      "source": [],
      "metadata": {
        "id": "bmGt6OH1XqPc"
      },
      "execution_count": null,
      "outputs": []
    },
    {
      "cell_type": "markdown",
      "source": [],
      "metadata": {
        "id": "EJarSbEyXqns"
      }
    },
    {
      "cell_type": "code",
      "source": [],
      "metadata": {
        "id": "mqs4QDqnXqns"
      },
      "execution_count": null,
      "outputs": []
    },
    {
      "cell_type": "code",
      "source": [],
      "metadata": {
        "id": "gVKonO6eXqns"
      },
      "execution_count": null,
      "outputs": []
    },
    {
      "cell_type": "markdown",
      "source": [],
      "metadata": {
        "id": "opVavWCqXqns"
      }
    },
    {
      "cell_type": "code",
      "source": [],
      "metadata": {
        "id": "hyAGy3WlXqns"
      },
      "execution_count": null,
      "outputs": []
    },
    {
      "cell_type": "code",
      "source": [],
      "metadata": {
        "id": "_gZlhr6-Xqnt"
      },
      "execution_count": null,
      "outputs": []
    },
    {
      "cell_type": "markdown",
      "source": [],
      "metadata": {
        "id": "1MVQRxUkXqnt"
      }
    },
    {
      "cell_type": "code",
      "source": [],
      "metadata": {
        "id": "NzlC1Wt2Xqnt"
      },
      "execution_count": null,
      "outputs": []
    },
    {
      "cell_type": "code",
      "source": [],
      "metadata": {
        "id": "CtWcfSk3Xqnt"
      },
      "execution_count": null,
      "outputs": []
    },
    {
      "cell_type": "markdown",
      "source": [],
      "metadata": {
        "id": "L-kWFLNOXqnt"
      }
    },
    {
      "cell_type": "code",
      "source": [],
      "metadata": {
        "id": "qd7lJisAXqnt"
      },
      "execution_count": null,
      "outputs": []
    },
    {
      "cell_type": "code",
      "source": [],
      "metadata": {
        "id": "t7n-CoQ1Xqnt"
      },
      "execution_count": null,
      "outputs": []
    },
    {
      "cell_type": "markdown",
      "source": [],
      "metadata": {
        "id": "JjF_ziMGXqnt"
      }
    },
    {
      "cell_type": "code",
      "source": [],
      "metadata": {
        "id": "XlxJc60pXqnt"
      },
      "execution_count": null,
      "outputs": []
    },
    {
      "cell_type": "code",
      "source": [],
      "metadata": {
        "id": "M8t1JUFjXqnt"
      },
      "execution_count": null,
      "outputs": []
    },
    {
      "cell_type": "markdown",
      "source": [],
      "metadata": {
        "id": "MeP-Fm_xXqnt"
      }
    },
    {
      "cell_type": "code",
      "source": [],
      "metadata": {
        "id": "DHG-Bg0fXqnt"
      },
      "execution_count": null,
      "outputs": []
    },
    {
      "cell_type": "code",
      "source": [],
      "metadata": {
        "id": "EMp64kuSXqnt"
      },
      "execution_count": null,
      "outputs": []
    },
    {
      "cell_type": "markdown",
      "source": [],
      "metadata": {
        "id": "-3Rw-t0aXqnt"
      }
    },
    {
      "cell_type": "code",
      "source": [],
      "metadata": {
        "id": "babq_ipxXqnt"
      },
      "execution_count": null,
      "outputs": []
    },
    {
      "cell_type": "code",
      "source": [],
      "metadata": {
        "id": "gvCfOzNlXqnt"
      },
      "execution_count": null,
      "outputs": []
    },
    {
      "cell_type": "markdown",
      "source": [],
      "metadata": {
        "id": "KGufdxvjXqnt"
      }
    },
    {
      "cell_type": "code",
      "source": [],
      "metadata": {
        "id": "T1ySp36PXqnt"
      },
      "execution_count": null,
      "outputs": []
    },
    {
      "cell_type": "code",
      "source": [],
      "metadata": {
        "id": "HTczLrt7Xqnt"
      },
      "execution_count": null,
      "outputs": []
    },
    {
      "cell_type": "markdown",
      "source": [],
      "metadata": {
        "id": "AZwTJmieXqnu"
      }
    },
    {
      "cell_type": "code",
      "source": [],
      "metadata": {
        "id": "1JF-vc28Xqnu"
      },
      "execution_count": null,
      "outputs": []
    },
    {
      "cell_type": "code",
      "source": [],
      "metadata": {
        "id": "gB3ys4JCXqnu"
      },
      "execution_count": null,
      "outputs": []
    },
    {
      "cell_type": "markdown",
      "source": [],
      "metadata": {
        "id": "snkzEIfoXqnu"
      }
    },
    {
      "cell_type": "code",
      "source": [],
      "metadata": {
        "id": "hGiSot41Xqnu"
      },
      "execution_count": null,
      "outputs": []
    },
    {
      "cell_type": "code",
      "source": [],
      "metadata": {
        "id": "Av1jFv19Xqnu"
      },
      "execution_count": null,
      "outputs": []
    },
    {
      "cell_type": "markdown",
      "source": [],
      "metadata": {
        "id": "LtWd7slJXqnu"
      }
    },
    {
      "cell_type": "code",
      "source": [],
      "metadata": {
        "id": "54YPX5f0Xqnu"
      },
      "execution_count": null,
      "outputs": []
    },
    {
      "cell_type": "code",
      "source": [],
      "metadata": {
        "id": "g2zNnuYGXqnu"
      },
      "execution_count": null,
      "outputs": []
    },
    {
      "cell_type": "markdown",
      "source": [],
      "metadata": {
        "id": "JKrTlbbeXqnu"
      }
    },
    {
      "cell_type": "code",
      "source": [],
      "metadata": {
        "id": "WTCG-18yXqnu"
      },
      "execution_count": null,
      "outputs": []
    },
    {
      "cell_type": "code",
      "source": [],
      "metadata": {
        "id": "Z4wUIo9dXqnu"
      },
      "execution_count": null,
      "outputs": []
    },
    {
      "cell_type": "markdown",
      "source": [],
      "metadata": {
        "id": "0qvIOK39Xqnu"
      }
    },
    {
      "cell_type": "code",
      "source": [],
      "metadata": {
        "id": "Dkkl77KOXqnu"
      },
      "execution_count": null,
      "outputs": []
    },
    {
      "cell_type": "code",
      "source": [],
      "metadata": {
        "id": "UlXDTOFQXqnu"
      },
      "execution_count": null,
      "outputs": []
    },
    {
      "cell_type": "markdown",
      "source": [],
      "metadata": {
        "id": "L3cp5fPEXqnu"
      }
    },
    {
      "cell_type": "code",
      "source": [],
      "metadata": {
        "id": "8euS2KBAXqnu"
      },
      "execution_count": null,
      "outputs": []
    },
    {
      "cell_type": "code",
      "source": [],
      "metadata": {
        "id": "0Mq5LDD4Xqnu"
      },
      "execution_count": null,
      "outputs": []
    },
    {
      "cell_type": "markdown",
      "source": [],
      "metadata": {
        "id": "iacuByKZXqnu"
      }
    },
    {
      "cell_type": "code",
      "source": [],
      "metadata": {
        "id": "gjtIvd5ZXqnv"
      },
      "execution_count": null,
      "outputs": []
    },
    {
      "cell_type": "code",
      "source": [],
      "metadata": {
        "id": "s-use7DGXqnv"
      },
      "execution_count": null,
      "outputs": []
    },
    {
      "cell_type": "markdown",
      "source": [],
      "metadata": {
        "id": "9Ql1a3dVXqnv"
      }
    },
    {
      "cell_type": "code",
      "source": [],
      "metadata": {
        "id": "O1hFFzZFXqnv"
      },
      "execution_count": null,
      "outputs": []
    },
    {
      "cell_type": "code",
      "source": [],
      "metadata": {
        "id": "jnIzIsmIXqnv"
      },
      "execution_count": null,
      "outputs": []
    }
  ]
}