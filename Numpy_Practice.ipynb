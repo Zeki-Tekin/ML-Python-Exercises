{
  "nbformat": 4,
  "nbformat_minor": 0,
  "metadata": {
    "colab": {
      "provenance": [],
      "collapsed_sections": [
        "J3aMECuKB-N5"
      ]
    },
    "kernelspec": {
      "name": "python3",
      "display_name": "Python 3"
    },
    "language_info": {
      "name": "python"
    }
  },
  "cells": [
    {
      "cell_type": "markdown",
      "source": [
        "#**NUMPY**"
      ],
      "metadata": {
        "id": "J3aMECuKB-N5"
      }
    },
    {
      "cell_type": "code",
      "source": [
        "import numpy as np"
      ],
      "metadata": {
        "id": "grgNS8J_7oLV"
      },
      "execution_count": 2,
      "outputs": []
    },
    {
      "cell_type": "markdown",
      "source": [
        "**1) Check if all elements from the following arrays return the logical value True:**"
      ],
      "metadata": {
        "id": "tI6B3kjP8mwm"
      }
    },
    {
      "cell_type": "code",
      "source": [
        "A = np.array([[3, 2, 1, 4],\n",
        "              [5, 2, 1, 6]])\n",
        "\n",
        "B = np.array([[3, 2, 1, 4],\n",
        "              [5, 2, 0, 6]])\n",
        "\n",
        "C = np.array([[True, False, False],\n",
        "              [True, True, True]])\n",
        "\n",
        "D = np.array([0.1, 0.3])"
      ],
      "metadata": {
        "id": "15xMyIuz7obZ"
      },
      "execution_count": 3,
      "outputs": []
    },
    {
      "cell_type": "code",
      "source": [
        "for name, array in zip(list('ABCD'),[A,B,C,D]):\n",
        "  print(f'{name}:{np.all(array)}')"
      ],
      "metadata": {
        "colab": {
          "base_uri": "https://localhost:8080/"
        },
        "id": "7LzFzz4g7oiY",
        "outputId": "1fe8e484-b791-4175-c79e-f356d0a54540"
      },
      "execution_count": 4,
      "outputs": [
        {
          "output_type": "stream",
          "name": "stdout",
          "text": [
            "A:True\n",
            "B:False\n",
            "C:False\n",
            "D:True\n"
          ]
        }
      ]
    },
    {
      "cell_type": "markdown",
      "source": [
        "**2) Check if all elements from the following arrays return the logical value True along the axis with index 1:**"
      ],
      "metadata": {
        "id": "JME1j3TJ7ozm"
      }
    },
    {
      "cell_type": "code",
      "source": [
        "A = np.array([[3, 2, 1, 4],\n",
        "              [5, 2, 1, 6]])\n",
        "\n",
        "B = np.array([[3, 2, 1, 4],\n",
        "              [5, 2, 0, 6]])\n",
        "\n",
        "C = np.array([[True, False, False],\n",
        "              [True, True, True]])"
      ],
      "metadata": {
        "id": "n7L8D9Vc7o_0"
      },
      "execution_count": 5,
      "outputs": []
    },
    {
      "cell_type": "code",
      "source": [
        "for name, array in zip(list('ABCD'),[A,B,C]):\n",
        "  print(f'{name}{np.all(array,1)}')"
      ],
      "metadata": {
        "colab": {
          "base_uri": "https://localhost:8080/"
        },
        "id": "Gh5svJ1f7pGa",
        "outputId": "a01aac70-cfeb-4dad-c017-21fe30fe175e"
      },
      "execution_count": 6,
      "outputs": [
        {
          "output_type": "stream",
          "name": "stdout",
          "text": [
            "A[ True  True]\n",
            "B[ True False]\n",
            "C[False  True]\n"
          ]
        }
      ]
    },
    {
      "cell_type": "markdown",
      "source": [
        "**3) Check if any element of the following arrays returns the logical value True:**"
      ],
      "metadata": {
        "id": "7-HgVd5k7pQq"
      }
    },
    {
      "cell_type": "code",
      "source": [
        "A = np.array([[0, 0, 0],\n",
        "              [0, 0, 0]])\n",
        "\n",
        "B = np.array([[0, 0, 0],\n",
        "              [0, 1, 0]])\n",
        "\n",
        "C = np.array([[False, False, False],\n",
        "              [True, False, False]])\n",
        "\n",
        "D = np.array([[0.1, 0.0]])"
      ],
      "metadata": {
        "id": "OLHM4_K07pcC"
      },
      "execution_count": 7,
      "outputs": []
    },
    {
      "cell_type": "code",
      "source": [
        "for name, array in zip(list('ABCD'),[A,B,C,D]):\n",
        "  print(f'{name}: {np.any(array)}')"
      ],
      "metadata": {
        "colab": {
          "base_uri": "https://localhost:8080/"
        },
        "id": "fLYlhOqS7piQ",
        "outputId": "c0710b81-3ded-46ff-d64a-93a79176ee2b"
      },
      "execution_count": 8,
      "outputs": [
        {
          "output_type": "stream",
          "name": "stdout",
          "text": [
            "A: False\n",
            "B: True\n",
            "C: True\n",
            "D: True\n"
          ]
        }
      ]
    },
    {
      "cell_type": "markdown",
      "source": [
        "**4) Check if any element of the following arrays returns the logical value True along the axis with index 0:**"
      ],
      "metadata": {
        "id": "ftYI92Dc7psF"
      }
    },
    {
      "cell_type": "code",
      "source": [
        "A = np.array([[0, 0, 0],\n",
        "              [0, 0, 0]])\n",
        "\n",
        "B = np.array([[0, 0, 0],\n",
        "              [0, 1, 0]])\n",
        "\n",
        "C = np.array([[False, False, False],\n",
        "              [True, False, False]])\n",
        "\n",
        "D = np.array([[0.1, 0.0]])"
      ],
      "metadata": {
        "id": "BYTfBkpd7p6r"
      },
      "execution_count": 9,
      "outputs": []
    },
    {
      "cell_type": "code",
      "source": [
        "for name, array in zip(list('ABCD'),[A,B,C,D]):\n",
        "  print(f'{name}: {np.any(array,0)}')"
      ],
      "metadata": {
        "colab": {
          "base_uri": "https://localhost:8080/"
        },
        "id": "3xBX7WnY7qBq",
        "outputId": "8bfe3cd5-6a8a-4610-eeb7-b9356bed1c1b"
      },
      "execution_count": 10,
      "outputs": [
        {
          "output_type": "stream",
          "name": "stdout",
          "text": [
            "A: [False False False]\n",
            "B: [False  True False]\n",
            "C: [ True False False]\n",
            "D: [ True False]\n"
          ]
        }
      ]
    },
    {
      "cell_type": "markdown",
      "source": [
        "**5) Check if the following array has missing data (np.nan):**"
      ],
      "metadata": {
        "id": "c1n4SFpt7qN5"
      }
    },
    {
      "cell_type": "code",
      "source": [
        "A = np.array([[3, 2, 1, np.nan],\n",
        "              [5, np.nan, 1, 6]])"
      ],
      "metadata": {
        "id": "7-K_N5GS7qbq"
      },
      "execution_count": 11,
      "outputs": []
    },
    {
      "cell_type": "code",
      "source": [
        "print(np.isnan(A))"
      ],
      "metadata": {
        "colab": {
          "base_uri": "https://localhost:8080/"
        },
        "id": "mIZJ1zET7qiH",
        "outputId": "e5474ad5-586b-47a6-ee4d-9307800f44a6"
      },
      "execution_count": 12,
      "outputs": [
        {
          "output_type": "stream",
          "name": "stdout",
          "text": [
            "[[False False False  True]\n",
            " [False  True False False]]\n"
          ]
        }
      ]
    },
    {
      "cell_type": "markdown",
      "source": [
        "**6) Check if the following arrays are equal (element-wise):**"
      ],
      "metadata": {
        "id": "Br5iNi_w7qt0"
      }
    },
    {
      "cell_type": "code",
      "source": [
        "A = np.array([0.4, 0.5, 0.3])\n",
        "B = np.array([0.39999999, 0.5000001, 0.3])"
      ],
      "metadata": {
        "id": "SWkkpfCB7q61"
      },
      "execution_count": 13,
      "outputs": []
    },
    {
      "cell_type": "code",
      "source": [
        "print(np.allclose(A,B))"
      ],
      "metadata": {
        "colab": {
          "base_uri": "https://localhost:8080/"
        },
        "id": "bX9Tk0Mp7rCZ",
        "outputId": "ec4cfb17-6753-48f3-fa0c-8391a26537d5"
      },
      "execution_count": 14,
      "outputs": [
        {
          "output_type": "stream",
          "name": "stdout",
          "text": [
            "True\n"
          ]
        }
      ]
    },
    {
      "cell_type": "markdown",
      "source": [
        "**7) Check if the following arrays are equal (element-wise): Use the comparison operator == in this exercise and print the result to the console.**"
      ],
      "metadata": {
        "id": "GdVSs2fG7rQa"
      }
    },
    {
      "cell_type": "code",
      "source": [
        "A = np.array([0.4, 0.5, 0.3])\n",
        "B = np.array([0.3999999999, 0.5000000001, 0.3])"
      ],
      "metadata": {
        "id": "B88iYrSR7rfk"
      },
      "execution_count": 15,
      "outputs": []
    },
    {
      "cell_type": "code",
      "source": [
        "print(A==B)\n",
        "print(np.equal(A,B))"
      ],
      "metadata": {
        "colab": {
          "base_uri": "https://localhost:8080/"
        },
        "id": "7o-yTOkX7rlw",
        "outputId": "2ae4def1-5e05-43e6-e715-245cf22c298c"
      },
      "execution_count": 16,
      "outputs": [
        {
          "output_type": "stream",
          "name": "stdout",
          "text": [
            "[False False  True]\n",
            "[False False  True]\n"
          ]
        }
      ]
    },
    {
      "cell_type": "markdown",
      "source": [
        "**8) Check which numbers (element-wise) from the A array are greater than numbers from the B array and print result to the console as shown below.**"
      ],
      "metadata": {
        "id": "NXRMpZMg7rxR"
      }
    },
    {
      "cell_type": "code",
      "source": [
        "A = np.array([0.4, 0.5, 0.3, 0.9])\n",
        "B = np.array([0.38, 0.51, 0.3, 0.91])"
      ],
      "metadata": {
        "id": "leGZ1ZVz7r92"
      },
      "execution_count": 17,
      "outputs": []
    },
    {
      "cell_type": "code",
      "source": [
        "print(A>B)\n",
        "print(np.greater(A,B))"
      ],
      "metadata": {
        "colab": {
          "base_uri": "https://localhost:8080/"
        },
        "id": "uSd69Ver7sED",
        "outputId": "a120bd74-0455-4a7f-ddfd-72055b8ae1cc"
      },
      "execution_count": 18,
      "outputs": [
        {
          "output_type": "stream",
          "name": "stdout",
          "text": [
            "[ True False False False]\n",
            "[ True False False False]\n"
          ]
        }
      ]
    },
    {
      "cell_type": "markdown",
      "source": [
        "**9) Using Numpy create a 4x4 array filled with zeros (set data type to int). In response print this array to the console.**"
      ],
      "metadata": {
        "id": "Av5KNZE17sRk"
      }
    },
    {
      "cell_type": "code",
      "source": [
        "A=np.zeros((4,4)) "
      ],
      "metadata": {
        "id": "6eVnOFqT7shw"
      },
      "execution_count": 19,
      "outputs": []
    },
    {
      "cell_type": "code",
      "source": [
        "print(A)"
      ],
      "metadata": {
        "colab": {
          "base_uri": "https://localhost:8080/"
        },
        "id": "SG1m6JRF7snc",
        "outputId": "7a2eba1c-a791-4247-c7b6-f1f47c5c1e96"
      },
      "execution_count": 20,
      "outputs": [
        {
          "output_type": "stream",
          "name": "stdout",
          "text": [
            "[[0. 0. 0. 0.]\n",
            " [0. 0. 0. 0.]\n",
            " [0. 0. 0. 0.]\n",
            " [0. 0. 0. 0.]]\n"
          ]
        }
      ]
    },
    {
      "cell_type": "markdown",
      "source": [
        "**10) Using Numpy, create an array 10x10 filled with number 255 and set the data type to float. Print this array to the console as shown below.**"
      ],
      "metadata": {
        "id": "lmJ-uGBu7s0v"
      }
    },
    {
      "cell_type": "code",
      "source": [
        "A=np.ones((10,10))\n",
        "print(255*A)"
      ],
      "metadata": {
        "colab": {
          "base_uri": "https://localhost:8080/"
        },
        "id": "77WgW2gz7tDA",
        "outputId": "b9d70b1d-d49f-4604-b59f-c9fc12845d0d"
      },
      "execution_count": 21,
      "outputs": [
        {
          "output_type": "stream",
          "name": "stdout",
          "text": [
            "[[255. 255. 255. 255. 255. 255. 255. 255. 255. 255.]\n",
            " [255. 255. 255. 255. 255. 255. 255. 255. 255. 255.]\n",
            " [255. 255. 255. 255. 255. 255. 255. 255. 255. 255.]\n",
            " [255. 255. 255. 255. 255. 255. 255. 255. 255. 255.]\n",
            " [255. 255. 255. 255. 255. 255. 255. 255. 255. 255.]\n",
            " [255. 255. 255. 255. 255. 255. 255. 255. 255. 255.]\n",
            " [255. 255. 255. 255. 255. 255. 255. 255. 255. 255.]\n",
            " [255. 255. 255. 255. 255. 255. 255. 255. 255. 255.]\n",
            " [255. 255. 255. 255. 255. 255. 255. 255. 255. 255.]\n",
            " [255. 255. 255. 255. 255. 255. 255. 255. 255. 255.]]\n"
          ]
        }
      ]
    },
    {
      "cell_type": "code",
      "source": [
        "print(np.full((10,10),255))"
      ],
      "metadata": {
        "colab": {
          "base_uri": "https://localhost:8080/"
        },
        "id": "VbAwqXJ87tJp",
        "outputId": "33a29336-e29f-49d4-dedc-77baf0df589a"
      },
      "execution_count": 22,
      "outputs": [
        {
          "output_type": "stream",
          "name": "stdout",
          "text": [
            "[[255 255 255 255 255 255 255 255 255 255]\n",
            " [255 255 255 255 255 255 255 255 255 255]\n",
            " [255 255 255 255 255 255 255 255 255 255]\n",
            " [255 255 255 255 255 255 255 255 255 255]\n",
            " [255 255 255 255 255 255 255 255 255 255]\n",
            " [255 255 255 255 255 255 255 255 255 255]\n",
            " [255 255 255 255 255 255 255 255 255 255]\n",
            " [255 255 255 255 255 255 255 255 255 255]\n",
            " [255 255 255 255 255 255 255 255 255 255]\n",
            " [255 255 255 255 255 255 255 255 255 255]]\n"
          ]
        }
      ]
    },
    {
      "cell_type": "markdown",
      "source": [
        "**11) Using Numpy create a one-dimensional array of all two-digit numbers and print this array to the console as shown below.**"
      ],
      "metadata": {
        "id": "5sho92KF7tYI"
      }
    },
    {
      "cell_type": "code",
      "source": [
        "print(np.arange(10,100))"
      ],
      "metadata": {
        "colab": {
          "base_uri": "https://localhost:8080/"
        },
        "id": "xepxPBTy7to3",
        "outputId": "5d6d763d-17b6-43db-9a9f-f62143092536"
      },
      "execution_count": 23,
      "outputs": [
        {
          "output_type": "stream",
          "name": "stdout",
          "text": [
            "[10 11 12 13 14 15 16 17 18 19 20 21 22 23 24 25 26 27 28 29 30 31 32 33\n",
            " 34 35 36 37 38 39 40 41 42 43 44 45 46 47 48 49 50 51 52 53 54 55 56 57\n",
            " 58 59 60 61 62 63 64 65 66 67 68 69 70 71 72 73 74 75 76 77 78 79 80 81\n",
            " 82 83 84 85 86 87 88 89 90 91 92 93 94 95 96 97 98 99]\n"
          ]
        }
      ]
    },
    {
      "cell_type": "code",
      "source": [],
      "metadata": {
        "id": "uMec7VzQ7tvX"
      },
      "execution_count": 23,
      "outputs": []
    },
    {
      "cell_type": "markdown",
      "source": [
        "**12) Using Numpy create the following array:**\n",
        "'''\n",
        "\n",
        "[[10 11 12 13 14 15 16 17 18 19]\n",
        " [20 21 22 23 24 25 26 27 28 29]\n",
        " [30 31 32 33 34 35 36 37 38 39]\n",
        " [40 41 42 43 44 45 46 47 48 49]\n",
        " [50 51 52 53 54 55 56 57 58 59]\n",
        " [60 61 62 63 64 65 66 67 68 69]\n",
        " [70 71 72 73 74 75 76 77 78 79]\n",
        " [80 81 82 83 84 85 86 87 88 89]\n",
        " [90 91 92 93 94 95 96 97 98 99]]\n",
        " '''"
      ],
      "metadata": {
        "id": "arhpJzUC7t4x"
      }
    },
    {
      "cell_type": "code",
      "source": [
        "print(np.arange(10,100).reshape(9,10))"
      ],
      "metadata": {
        "colab": {
          "base_uri": "https://localhost:8080/"
        },
        "id": "Z01rR1-m7uFr",
        "outputId": "1e956ccc-6728-47c4-8cea-939adbbb372c"
      },
      "execution_count": 24,
      "outputs": [
        {
          "output_type": "stream",
          "name": "stdout",
          "text": [
            "[[10 11 12 13 14 15 16 17 18 19]\n",
            " [20 21 22 23 24 25 26 27 28 29]\n",
            " [30 31 32 33 34 35 36 37 38 39]\n",
            " [40 41 42 43 44 45 46 47 48 49]\n",
            " [50 51 52 53 54 55 56 57 58 59]\n",
            " [60 61 62 63 64 65 66 67 68 69]\n",
            " [70 71 72 73 74 75 76 77 78 79]\n",
            " [80 81 82 83 84 85 86 87 88 89]\n",
            " [90 91 92 93 94 95 96 97 98 99]]\n"
          ]
        }
      ]
    },
    {
      "cell_type": "code",
      "source": [
        "#Use minus for the rows\n",
        "print(np.arange(10,100).reshape(-1,10))"
      ],
      "metadata": {
        "colab": {
          "base_uri": "https://localhost:8080/"
        },
        "id": "xj1TH5bf7uMo",
        "outputId": "39abec80-da0b-4070-f66b-8e6fe291880d"
      },
      "execution_count": 25,
      "outputs": [
        {
          "output_type": "stream",
          "name": "stdout",
          "text": [
            "[[10 11 12 13 14 15 16 17 18 19]\n",
            " [20 21 22 23 24 25 26 27 28 29]\n",
            " [30 31 32 33 34 35 36 37 38 39]\n",
            " [40 41 42 43 44 45 46 47 48 49]\n",
            " [50 51 52 53 54 55 56 57 58 59]\n",
            " [60 61 62 63 64 65 66 67 68 69]\n",
            " [70 71 72 73 74 75 76 77 78 79]\n",
            " [80 81 82 83 84 85 86 87 88 89]\n",
            " [90 91 92 93 94 95 96 97 98 99]]\n"
          ]
        }
      ]
    },
    {
      "cell_type": "code",
      "source": [
        "#Use minus for the columns\n",
        "print(np.arange(10,100).reshape(9,-1))"
      ],
      "metadata": {
        "id": "Dr9W5DqRGZDk",
        "colab": {
          "base_uri": "https://localhost:8080/"
        },
        "outputId": "1d122b9c-e96b-43f8-e3d6-408d939df600"
      },
      "execution_count": 26,
      "outputs": [
        {
          "output_type": "stream",
          "name": "stdout",
          "text": [
            "[[10 11 12 13 14 15 16 17 18 19]\n",
            " [20 21 22 23 24 25 26 27 28 29]\n",
            " [30 31 32 33 34 35 36 37 38 39]\n",
            " [40 41 42 43 44 45 46 47 48 49]\n",
            " [50 51 52 53 54 55 56 57 58 59]\n",
            " [60 61 62 63 64 65 66 67 68 69]\n",
            " [70 71 72 73 74 75 76 77 78 79]\n",
            " [80 81 82 83 84 85 86 87 88 89]\n",
            " [90 91 92 93 94 95 96 97 98 99]]\n"
          ]
        }
      ]
    },
    {
      "cell_type": "markdown",
      "source": [
        "**13) Using Numpy create a 6x6 two-dimensional array - identity matrix with int data type. Print this array to the console as shown below.**"
      ],
      "metadata": {
        "id": "I69Ltpwt7uZm"
      }
    },
    {
      "cell_type": "code",
      "source": [
        "print(np.eye(6,6,dtype='int'))"
      ],
      "metadata": {
        "colab": {
          "base_uri": "https://localhost:8080/"
        },
        "id": "_KdVtiTh7une",
        "outputId": "e2946d9f-31d3-474c-a4e5-ea8d89affab1"
      },
      "execution_count": 27,
      "outputs": [
        {
          "output_type": "stream",
          "name": "stdout",
          "text": [
            "[[1 0 0 0 0 0]\n",
            " [0 1 0 0 0 0]\n",
            " [0 0 1 0 0 0]\n",
            " [0 0 0 1 0 0]\n",
            " [0 0 0 0 1 0]\n",
            " [0 0 0 0 0 1]]\n"
          ]
        }
      ]
    },
    {
      "cell_type": "code",
      "source": [],
      "metadata": {
        "id": "fGVHBEl17uuj"
      },
      "execution_count": 27,
      "outputs": []
    },
    {
      "cell_type": "markdown",
      "source": [
        "**14) Set the random seed to 10. Then using Numpy create a one-dimensional array consisting of 30 pseudo-randomly generated values from the uniform distribution [0,1). Print result to the console as shown below.**"
      ],
      "metadata": {
        "id": "0Et-Rnfq7u48"
      }
    },
    {
      "cell_type": "code",
      "source": [
        "np.random.seed(10)"
      ],
      "metadata": {
        "id": "_N5rdmQg7vH7"
      },
      "execution_count": 28,
      "outputs": []
    },
    {
      "cell_type": "code",
      "source": [
        "print(np.random.rand(30))"
      ],
      "metadata": {
        "colab": {
          "base_uri": "https://localhost:8080/"
        },
        "id": "UMY3saSr7vP7",
        "outputId": "8b4ef45f-9a19-4685-b9dc-0ccf77f79e2b"
      },
      "execution_count": 29,
      "outputs": [
        {
          "output_type": "stream",
          "name": "stdout",
          "text": [
            "[0.77132064 0.02075195 0.63364823 0.74880388 0.49850701 0.22479665\n",
            " 0.19806286 0.76053071 0.16911084 0.08833981 0.68535982 0.95339335\n",
            " 0.00394827 0.51219226 0.81262096 0.61252607 0.72175532 0.29187607\n",
            " 0.91777412 0.71457578 0.54254437 0.14217005 0.37334076 0.67413362\n",
            " 0.44183317 0.43401399 0.61776698 0.51313824 0.65039718 0.60103895]\n"
          ]
        }
      ]
    },
    {
      "cell_type": "markdown",
      "source": [
        "**15) Using Numpy create a two-dimensional array with the shape (10, 4) pseudo-randomly generated values from the standard normal distribution N(0,1). Set the random seed to 20. Print result to the console as shown below.**"
      ],
      "metadata": {
        "id": "Yeouhw9h7vbS"
      }
    },
    {
      "cell_type": "code",
      "source": [
        "np.random.seed(20)"
      ],
      "metadata": {
        "id": "Us1ussQc7vp0"
      },
      "execution_count": 30,
      "outputs": []
    },
    {
      "cell_type": "code",
      "source": [
        "np.random.randn(40).reshape(10,4)"
      ],
      "metadata": {
        "colab": {
          "base_uri": "https://localhost:8080/"
        },
        "id": "7xij_W0z7vyd",
        "outputId": "f40ebabf-7b5d-49fe-a371-7bbc459aa358"
      },
      "execution_count": 31,
      "outputs": [
        {
          "output_type": "execute_result",
          "data": {
            "text/plain": [
              "array([[ 0.88389311,  0.19586502,  0.35753652, -2.34326191],\n",
              "       [-1.08483259,  0.55969629,  0.93946935, -0.97848104],\n",
              "       [ 0.50309684,  0.40641447,  0.32346101, -0.49341088],\n",
              "       [-0.79201679, -0.84236793, -1.27950266,  0.24571517],\n",
              "       [-0.0441948 ,  1.56763255,  1.05110868,  0.40636843],\n",
              "       [-0.1686461 , -3.18970279,  1.12013226,  1.33277821],\n",
              "       [-0.24333877, -0.13003071, -0.10901737,  1.55618644],\n",
              "       [ 0.12877835, -2.06694872, -0.88549315, -1.10457948],\n",
              "       [ 0.93286635,  2.059838  , -0.93493796, -1.61299022],\n",
              "       [ 0.52706972, -1.55110074,  0.32961334, -1.13652654]])"
            ]
          },
          "metadata": {},
          "execution_count": 31
        }
      ]
    },
    {
      "cell_type": "code",
      "source": [
        "np.random.randn(10,4)"
      ],
      "metadata": {
        "colab": {
          "base_uri": "https://localhost:8080/"
        },
        "id": "oTwl9xe0Ia22",
        "outputId": "9a2e6890-59e9-46b0-b7e6-55581d7ebd21"
      },
      "execution_count": 32,
      "outputs": [
        {
          "output_type": "execute_result",
          "data": {
            "text/plain": [
              "array([[-3.38490605e-01,  3.20970784e-01, -6.02308018e-01,\n",
              "         1.54472836e+00],\n",
              "       [ 6.47034084e-01,  5.93217213e-01,  4.38024497e-01,\n",
              "         1.35778902e+00],\n",
              "       [ 1.20451128e+00,  1.35179619e+00,  4.93437236e-01,\n",
              "        -2.70436525e+00],\n",
              "       [-5.55185797e-01,  1.50856026e-03,  8.57093817e-01,\n",
              "         1.48114365e+00],\n",
              "       [-2.19661122e-01,  1.50339816e+00, -1.48238505e+00,\n",
              "        -8.56164218e-01],\n",
              "       [-8.28692770e-01,  1.14047603e-01,  5.27728470e-01,\n",
              "         1.55838222e-01],\n",
              "       [ 1.30142940e+00, -9.94801908e-01,  2.09466534e+00,\n",
              "         3.59428994e-01],\n",
              "       [ 6.91002119e-01, -1.48571961e+00,  9.87886147e-02,\n",
              "        -2.28321031e-01],\n",
              "       [-8.54775487e-01, -5.13145106e-01, -9.62215984e-01,\n",
              "        -4.82450911e-01],\n",
              "       [-2.39469757e-01,  4.59744227e-01,  6.46430166e-01,\n",
              "         4.87402961e-01]])"
            ]
          },
          "metadata": {},
          "execution_count": 32
        }
      ]
    },
    {
      "cell_type": "markdown",
      "source": [
        "**16) Using Numpy create a two-dimensional array with the shape (10, 4) pseudo-randomly generated values from the normal distribution N(100, 5). Set the random seed to 30. Print result to the console as shown below.**"
      ],
      "metadata": {
        "id": "Bho_KZnW7v9a"
      }
    },
    {
      "cell_type": "code",
      "source": [
        "np.random.seed(30)\n",
        "mu=100\n",
        "sigma=np.sqrt(5)"
      ],
      "metadata": {
        "id": "WwfrtZid7wMw"
      },
      "execution_count": 33,
      "outputs": []
    },
    {
      "cell_type": "code",
      "source": [
        "mu+sigma*np.random.randn(10,4)"
      ],
      "metadata": {
        "colab": {
          "base_uri": "https://localhost:8080/"
        },
        "id": "M5x8m31X7wUq",
        "outputId": "4eb9752b-8119-47af-ef10-ba97162576de"
      },
      "execution_count": 34,
      "outputs": [
        {
          "output_type": "execute_result",
          "data": {
            "text/plain": [
              "array([[ 97.17349231, 103.41650023,  97.82942436, 101.05220329],\n",
              "       [ 99.7748353 , 100.67930221,  96.14063068, 103.544381  ],\n",
              "       [100.30029631,  97.52499594, 103.52901961, 100.24037271],\n",
              "       [ 98.29153712,  98.2666258 , 103.09437633, 101.70027274],\n",
              "       [ 99.36127721, 101.20382627,  95.34026547, 102.09694365],\n",
              "       [ 99.98708001,  98.95468525,  99.05410904, 102.38025432],\n",
              "       [ 93.50787269, 103.61547679, 103.18753701,  98.51356237],\n",
              "       [102.20256689,  96.19764407,  97.54000366,  97.05813038],\n",
              "       [101.81233513,  97.66380453,  98.45883627,  98.09317768],\n",
              "       [102.48979932,  95.70413391,  98.43161651, 101.89861815]])"
            ]
          },
          "metadata": {},
          "execution_count": 34
        }
      ]
    },
    {
      "cell_type": "markdown",
      "source": [
        "**17) Iterate through this array and print each element to the console.**"
      ],
      "metadata": {
        "id": "5PL01D3-7wfs"
      }
    },
    {
      "cell_type": "code",
      "source": [
        "A = np.array([[1, 4, 3],\n",
        "              [5, 2, 6]])"
      ],
      "metadata": {
        "id": "Zg6cYUts7wv3"
      },
      "execution_count": 35,
      "outputs": []
    },
    {
      "cell_type": "code",
      "source": [
        "for i in np.nditer(A):\n",
        "  print(i)"
      ],
      "metadata": {
        "colab": {
          "base_uri": "https://localhost:8080/"
        },
        "id": "65UsxMGl7w4O",
        "outputId": "3b425761-0676-45d2-ded1-6a376a0b671c"
      },
      "execution_count": 36,
      "outputs": [
        {
          "output_type": "stream",
          "name": "stdout",
          "text": [
            "1\n",
            "4\n",
            "3\n",
            "5\n",
            "2\n",
            "6\n"
          ]
        }
      ]
    },
    {
      "cell_type": "markdown",
      "source": [
        "**18) Using Numpy create a one-dimensional array (vector) consisting of eleven equally distributed numbers from the [0,1] interval.**"
      ],
      "metadata": {
        "id": "ItLklOAt7xDO"
      }
    },
    {
      "cell_type": "code",
      "source": [
        "print(np.linspace(0,1,11))"
      ],
      "metadata": {
        "colab": {
          "base_uri": "https://localhost:8080/"
        },
        "id": "fks2GWy07xQL",
        "outputId": "017a5741-56ab-4cf3-bd9c-6f7948343e11"
      },
      "execution_count": 37,
      "outputs": [
        {
          "output_type": "stream",
          "name": "stdout",
          "text": [
            "[0.  0.1 0.2 0.3 0.4 0.5 0.6 0.7 0.8 0.9 1. ]\n"
          ]
        }
      ]
    },
    {
      "cell_type": "code",
      "source": [],
      "metadata": {
        "id": "-f2DElM27xW0"
      },
      "execution_count": 37,
      "outputs": []
    },
    {
      "cell_type": "markdown",
      "source": [
        "**19) Using Numpy create a one-dimensional array (vector) containing the possible result from the Big Lotto game. Set the random seed to 42. Print result to the console. Tip: The result of this game is a 6-element vector of values from 1 to 49 inclusive.**\n",
        "\n"
      ],
      "metadata": {
        "id": "sl9Sn4qZ7xiB"
      }
    },
    {
      "cell_type": "code",
      "source": [
        "np.random.seed(42)"
      ],
      "metadata": {
        "id": "LLCr5OK57xt8"
      },
      "execution_count": 38,
      "outputs": []
    },
    {
      "cell_type": "code",
      "source": [
        "print(np.random.choice(range(1,50),6,replace=False))"
      ],
      "metadata": {
        "colab": {
          "base_uri": "https://localhost:8080/"
        },
        "id": "Bxi4XfO77x1J",
        "outputId": "f2eb23fd-c30d-4917-e01b-c5b2c8564ac7"
      },
      "execution_count": 39,
      "outputs": [
        {
          "output_type": "stream",
          "name": "stdout",
          "text": [
            "[14 46 48 45 18 28]\n"
          ]
        }
      ]
    },
    {
      "cell_type": "markdown",
      "source": [
        "**20) Using Numpy create the following two-dimensional array:**\n",
        "\n",
        "[[0 0 0 0 0 0]\n",
        "\n",
        " [0 1 0 0 0 0]\n",
        "\n",
        " [0 0 2 0 0 0]\n",
        "\n",
        " [0 0 0 3 0 0]\n",
        "\n",
        " [0 0 0 0 4 0]\n",
        "\n",
        " [0 0 0 0 0 5]]\n"
      ],
      "metadata": {
        "id": "Q8w-qZLb7x_f"
      }
    },
    {
      "cell_type": "code",
      "source": [
        "v=[0,1,2,3,4,5]\n",
        "print(np.diag(v))"
      ],
      "metadata": {
        "colab": {
          "base_uri": "https://localhost:8080/"
        },
        "id": "f2GHa1UA7yLr",
        "outputId": "dd18a4b8-b29c-4d09-d45e-0c8912b25e52"
      },
      "execution_count": 40,
      "outputs": [
        {
          "output_type": "stream",
          "name": "stdout",
          "text": [
            "[[0 0 0 0 0 0]\n",
            " [0 1 0 0 0 0]\n",
            " [0 0 2 0 0 0]\n",
            " [0 0 0 3 0 0]\n",
            " [0 0 0 0 4 0]\n",
            " [0 0 0 0 0 5]]\n"
          ]
        }
      ]
    },
    {
      "cell_type": "code",
      "source": [
        "print(np.diag(np.arange(6)))"
      ],
      "metadata": {
        "colab": {
          "base_uri": "https://localhost:8080/"
        },
        "id": "E3KBdya27ySS",
        "outputId": "2b6bb9c9-c87f-4e22-eb19-83eca1ebd6a3"
      },
      "execution_count": 41,
      "outputs": [
        {
          "output_type": "stream",
          "name": "stdout",
          "text": [
            "[[0 0 0 0 0 0]\n",
            " [0 1 0 0 0 0]\n",
            " [0 0 2 0 0 0]\n",
            " [0 0 0 3 0 0]\n",
            " [0 0 0 0 4 0]\n",
            " [0 0 0 0 0 5]]\n"
          ]
        }
      ]
    },
    {
      "cell_type": "markdown",
      "source": [
        "**21) Using Numpy create the following array:Save this array to a binary file named 'array.npy' and then load that file back into another variable. Print this variable to the console.**\n",
        "\n",
        "[[ 0,  1,  2,  3],\n",
        "       \n",
        "  [ 4,  5,  6,  7],\n",
        "\n",
        "  [ 8,  9, 10, 11]]"
      ],
      "metadata": {
        "id": "S7hPn6uT7ycK"
      }
    },
    {
      "cell_type": "code",
      "source": [
        "A=np.arange(0,12).reshape(3,4)\n",
        "np.save('array.npy',A)"
      ],
      "metadata": {
        "id": "_C7JLxhq7yoZ"
      },
      "execution_count": 42,
      "outputs": []
    },
    {
      "cell_type": "code",
      "source": [
        "B=np.load('array.npy')\n",
        "print(B)"
      ],
      "metadata": {
        "colab": {
          "base_uri": "https://localhost:8080/"
        },
        "id": "InHwIP8K7yvs",
        "outputId": "982622c3-febf-4983-eefc-b9b415197883"
      },
      "execution_count": 43,
      "outputs": [
        {
          "output_type": "stream",
          "name": "stdout",
          "text": [
            "[[ 0  1  2  3]\n",
            " [ 4  5  6  7]\n",
            " [ 8  9 10 11]]\n"
          ]
        }
      ]
    },
    {
      "cell_type": "markdown",
      "source": [
        "**22) Using Numpy create the following array:**\n",
        "\n",
        "array([[ 0,  1,  2,  3],\n",
        "\n",
        "       [ 4,  5,  6,  7],\n",
        "\n",
        "       [ 8,  9, 10, 11]])\n",
        "\n",
        "**Save this array to a text file named 'array.txt' with two decimal places and then load this file back into another variable. Print this variable to the console.**\n",
        "\n"
      ],
      "metadata": {
        "id": "hWfcVe-Q7y8F"
      }
    },
    {
      "cell_type": "code",
      "source": [
        "np.arange(4,12).reshape(2,-1)\n",
        "np.savetxt('array.txt',A)"
      ],
      "metadata": {
        "id": "3exkoVXd7zQT"
      },
      "execution_count": 44,
      "outputs": []
    },
    {
      "cell_type": "code",
      "source": [
        "B=np.loadtxt('array.txt')\n",
        "print(B)"
      ],
      "metadata": {
        "colab": {
          "base_uri": "https://localhost:8080/"
        },
        "id": "i8jZ-XPs7zYf",
        "outputId": "aa350511-a6ad-4288-cf11-f77da6b99daa"
      },
      "execution_count": 45,
      "outputs": [
        {
          "output_type": "stream",
          "name": "stdout",
          "text": [
            "[[ 0.  1.  2.  3.]\n",
            " [ 4.  5.  6.  7.]\n",
            " [ 8.  9. 10. 11.]]\n"
          ]
        }
      ]
    },
    {
      "cell_type": "markdown",
      "source": [
        "**23) Using Numpy create and convert the following array into the list:**\n",
        "\n",
        "    ([[ 0,  1,  2,  3],\n",
        "\n",
        "       [ 4,  5,  6,  7],\n",
        "\n",
        "       [ 8,  9, 10, 11]])\n"
      ],
      "metadata": {
        "id": "RF8A48xo7zkV"
      }
    },
    {
      "cell_type": "code",
      "source": [
        "A=np.arange(0,12).reshape(3,-1)"
      ],
      "metadata": {
        "id": "FMyMtyDX7zv1"
      },
      "execution_count": 46,
      "outputs": []
    },
    {
      "cell_type": "code",
      "source": [
        "print(A.tolist())"
      ],
      "metadata": {
        "colab": {
          "base_uri": "https://localhost:8080/"
        },
        "id": "91Z9GZ6s7z4o",
        "outputId": "ac0c2c9f-806e-469e-9ef5-aa8a8d39abe2"
      },
      "execution_count": 47,
      "outputs": [
        {
          "output_type": "stream",
          "name": "stdout",
          "text": [
            "[[0, 1, 2, 3], [4, 5, 6, 7], [8, 9, 10, 11]]\n"
          ]
        }
      ]
    },
    {
      "cell_type": "markdown",
      "source": [
        "**24) The following array is given:**\n",
        "\n",
        "array([[ 0,  1,  2,  3],\n",
        "\n",
        "       [ 4,  5,  6,  7],\n",
        "\n",
        "       [ 8,  9, 10, 11]])\n",
        "\n",
        "**Using the slice operator, transform this array into the following:**\n",
        "\n",
        "array([[ 8,  9, 10, 11],\n",
        "\n",
        "       [ 4,  5,  6,  7],\n",
        "\n",
        "       [ 0,  1,  2,  3]])\n",
        "\n",
        "**In response, print transformed array to the console.**\n",
        "\n"
      ],
      "metadata": {
        "id": "mYBm80Q670DI"
      }
    },
    {
      "cell_type": "code",
      "source": [
        "print(A[::-1])"
      ],
      "metadata": {
        "colab": {
          "base_uri": "https://localhost:8080/"
        },
        "id": "oJvYYypM70P9",
        "outputId": "1f8d25f4-8faf-4a25-abae-7de9ef1c272a"
      },
      "execution_count": 48,
      "outputs": [
        {
          "output_type": "stream",
          "name": "stdout",
          "text": [
            "[[ 8  9 10 11]\n",
            " [ 4  5  6  7]\n",
            " [ 0  1  2  3]]\n"
          ]
        }
      ]
    },
    {
      "cell_type": "code",
      "source": [],
      "metadata": {
        "id": "-pQdFUKd70W2"
      },
      "execution_count": 48,
      "outputs": []
    },
    {
      "cell_type": "markdown",
      "source": [
        "**25) The following array:**\n",
        "\n",
        "array([[1., 1., 1., 1.],\n",
        "\n",
        "       [1., 1., 1., 1.],\n",
        "\n",
        "       [1., 1., 1., 1.],\n",
        "\n",
        "       [1., 1., 1., 1.]])\n",
        "\n",
        "**transform to this array:**\n",
        "\n",
        "array([[0., 0., 0., 0., 0., 0.],\n",
        "\n",
        "       [0., 1., 1., 1., 1., 0.],\n",
        "\n",
        "       [0., 1., 1., 1., 1., 0.],\n",
        "\n",
        "       [0., 1., 1., 1., 1., 0.],\n",
        "\n",
        "       [0., 1., 1., 1., 1., 0.],\n",
        "       \n",
        "       [0., 0., 0., 0., 0., 0.]])\n"
      ],
      "metadata": {
        "id": "2opsbAVI70ip"
      }
    },
    {
      "cell_type": "code",
      "source": [
        "A=np.ones((4,4))\n",
        "print(np.pad(A, pad_width=1, constant_values=0))"
      ],
      "metadata": {
        "colab": {
          "base_uri": "https://localhost:8080/"
        },
        "id": "2S7zsDr_70yS",
        "outputId": "0cb80267-1fce-4c3c-fd2b-6167d7713ede"
      },
      "execution_count": 49,
      "outputs": [
        {
          "output_type": "stream",
          "name": "stdout",
          "text": [
            "[[0. 0. 0. 0. 0. 0.]\n",
            " [0. 1. 1. 1. 1. 0.]\n",
            " [0. 1. 1. 1. 1. 0.]\n",
            " [0. 1. 1. 1. 1. 0.]\n",
            " [0. 1. 1. 1. 1. 0.]\n",
            " [0. 0. 0. 0. 0. 0.]]\n"
          ]
        }
      ]
    },
    {
      "cell_type": "code",
      "source": [],
      "metadata": {
        "id": "R5F2cynN705X"
      },
      "execution_count": 49,
      "outputs": []
    },
    {
      "cell_type": "markdown",
      "source": [
        "**26) The following array:**\n",
        "\n",
        "      [[0, 0, 0, 0, 0, 0],\n",
        "\n",
        "       [0, 0, 0, 0, 0, 0],\n",
        "\n",
        "       [0, 0, 0, 0, 0, 0],\n",
        "\n",
        "       [0, 0, 0, 0, 0, 0],\n",
        "\n",
        "       [0, 0, 0, 0, 0, 0],\n",
        "\n",
        "       [0, 0, 0, 0, 0, 0]]\n",
        "\n",
        "**transform to the following:**\n",
        "\n",
        "      [[10,  0, 10,  0, 10,  0],\n",
        "\n",
        "       [ 5,  0,  5,  0,  5,  0],\n",
        "\n",
        "       [10,  0, 10,  0, 10,  0],\n",
        "\n",
        "       [ 5,  0,  5,  0,  5,  0],\n",
        "\n",
        "       [10,  0, 10,  0, 10,  0],\n",
        "       \n",
        "       [ 5,  0,  5,  0,  5,  0]]\n",
        "\n",
        "\n",
        "**In response, print transformed array to the console.**\n",
        "\n",
        "**Tip: Use the slice operator and assign the appropriate values.**"
      ],
      "metadata": {
        "id": "4t6WdU0p71E-"
      }
    },
    {
      "cell_type": "code",
      "source": [
        "A=np.zeros((6,6))"
      ],
      "metadata": {
        "id": "O0toD6QV71SS"
      },
      "execution_count": 50,
      "outputs": []
    },
    {
      "cell_type": "code",
      "source": [
        "A[::2,::2]=10\n",
        "A[1::2,1::2]=5\n",
        "print(A)"
      ],
      "metadata": {
        "colab": {
          "base_uri": "https://localhost:8080/"
        },
        "id": "6bSAMen071aE",
        "outputId": "36d877ba-10c4-4e23-deb6-64cf7c5cc319"
      },
      "execution_count": 51,
      "outputs": [
        {
          "output_type": "stream",
          "name": "stdout",
          "text": [
            "[[10.  0. 10.  0. 10.  0.]\n",
            " [ 0.  5.  0.  5.  0.  5.]\n",
            " [10.  0. 10.  0. 10.  0.]\n",
            " [ 0.  5.  0.  5.  0.  5.]\n",
            " [10.  0. 10.  0. 10.  0.]\n",
            " [ 0.  5.  0.  5.  0.  5.]]\n"
          ]
        }
      ]
    },
    {
      "cell_type": "markdown",
      "source": [
        "**27) Combine the following arrays into one as shown below and print it to the console.**\n",
        "\n"
      ],
      "metadata": {
        "id": "CyvCtx_A71l3"
      }
    },
    {
      "cell_type": "code",
      "source": [
        "A = np.arange(12).reshape(-1, 4)\n",
        "B = np.array([[4, 3, 7, 2],\n",
        "              [0, 5, 2, 6]])"
      ],
      "metadata": {
        "id": "6vSjxetR714T"
      },
      "execution_count": 52,
      "outputs": []
    },
    {
      "cell_type": "code",
      "source": [
        "print(np.append(A,B,0))"
      ],
      "metadata": {
        "colab": {
          "base_uri": "https://localhost:8080/"
        },
        "id": "XFyiRsh172AY",
        "outputId": "b49c04cf-c143-4064-b499-4ca470f9265f"
      },
      "execution_count": 53,
      "outputs": [
        {
          "output_type": "stream",
          "name": "stdout",
          "text": [
            "[[ 0  1  2  3]\n",
            " [ 4  5  6  7]\n",
            " [ 8  9 10 11]\n",
            " [ 4  3  7  2]\n",
            " [ 0  5  2  6]]\n"
          ]
        }
      ]
    },
    {
      "cell_type": "markdown",
      "source": [
        "**28) Extract the same elements (intersection) of the arrays as a list and print result to the consol.**"
      ],
      "metadata": {
        "id": "2ztHb3_Q72LY"
      }
    },
    {
      "cell_type": "code",
      "source": [
        "A = np.arange(8).reshape(-1, 4)\n",
        "B = np.array([[9, 10, 11, 3],\n",
        "              [2, 8, 0, 9]]) "
      ],
      "metadata": {
        "id": "YQXEsAiT72XP"
      },
      "execution_count": 54,
      "outputs": []
    },
    {
      "cell_type": "code",
      "source": [
        "print(np.intersect1d(A,B))"
      ],
      "metadata": {
        "colab": {
          "base_uri": "https://localhost:8080/"
        },
        "id": "41U-AAx672ev",
        "outputId": "6bb4435e-90a4-4ae0-d398-270577c4c039"
      },
      "execution_count": 55,
      "outputs": [
        {
          "output_type": "stream",
          "name": "stdout",
          "text": [
            "[0 2 3]\n"
          ]
        }
      ]
    },
    {
      "cell_type": "markdown",
      "source": [
        "**29) Extract all unique values of this array as a list and print it to the console.**"
      ],
      "metadata": {
        "id": "2ZPPFucD72pu"
      }
    },
    {
      "cell_type": "code",
      "source": [
        "A = np.array([[5, 1, 2, 1, 2],\n",
        "              [9, 1, 9, 7, 5],\n",
        "              [4, 1, 5, 7, 9]])"
      ],
      "metadata": {
        "id": "TVHQjUUk720m"
      },
      "execution_count": 56,
      "outputs": []
    },
    {
      "cell_type": "code",
      "source": [
        "print(np.unique(A))"
      ],
      "metadata": {
        "colab": {
          "base_uri": "https://localhost:8080/"
        },
        "id": "uM1vEEYk729g",
        "outputId": "ef0efdcd-6244-4fa5-99be-e828ba57df9e"
      },
      "execution_count": 57,
      "outputs": [
        {
          "output_type": "stream",
          "name": "stdout",
          "text": [
            "[1 2 4 5 7 9]\n"
          ]
        }
      ]
    },
    {
      "cell_type": "markdown",
      "source": [
        "**30) Return a list of indexes with maximum values for each row from this array and print it to the console.**"
      ],
      "metadata": {
        "id": "ahpRbamG73Hq"
      }
    },
    {
      "cell_type": "code",
      "source": [
        "A = np.array([[0.4, 0.3, 0.3],\n",
        "              [0.1, 0.1, 0.8],\n",
        "              [0.2, 0.5, 0.3]])\n"
      ],
      "metadata": {
        "id": "r8kIq-ME73Ud"
      },
      "execution_count": 58,
      "outputs": []
    },
    {
      "cell_type": "code",
      "source": [
        "print(np.argmax(A,1))"
      ],
      "metadata": {
        "colab": {
          "base_uri": "https://localhost:8080/"
        },
        "id": "SvatZsFc73di",
        "outputId": "8ea86acc-26c0-4db9-e8ca-a795064c71b1"
      },
      "execution_count": 59,
      "outputs": [
        {
          "output_type": "stream",
          "name": "stdout",
          "text": [
            "[0 2 1]\n"
          ]
        }
      ]
    },
    {
      "cell_type": "markdown",
      "source": [
        "**31) Sort this array: by row (ascending), by column (ascending), and print result to the console as shown below.**"
      ],
      "metadata": {
        "id": "_WJcpfnj73pL"
      }
    },
    {
      "cell_type": "code",
      "source": [
        "A = np.array([[4.99, 3.49, 9.99],\n",
        "              [1.99, 9.99, 4.99],\n",
        "              [14.99, 2.39, 7.29]])"
      ],
      "metadata": {
        "id": "wPCdkId4730k"
      },
      "execution_count": 60,
      "outputs": []
    },
    {
      "cell_type": "code",
      "source": [
        "print(np.sort(A))\n",
        "print(np.sort(A,0))"
      ],
      "metadata": {
        "colab": {
          "base_uri": "https://localhost:8080/"
        },
        "id": "SxfI57Sb7390",
        "outputId": "90e65382-de7f-4d94-a88a-2bd91a1feeaf"
      },
      "execution_count": 61,
      "outputs": [
        {
          "output_type": "stream",
          "name": "stdout",
          "text": [
            "[[ 3.49  4.99  9.99]\n",
            " [ 1.99  4.99  9.99]\n",
            " [ 2.39  7.29 14.99]]\n",
            "[[ 1.99  2.39  4.99]\n",
            " [ 4.99  3.49  7.29]\n",
            " [14.99  9.99  9.99]]\n"
          ]
        }
      ]
    },
    {
      "cell_type": "markdown",
      "source": [
        "**32) Extract all elements from the following array with a value greater than 8 and print result to the console.**\n",
        "\n"
      ],
      "metadata": {
        "id": "Q8XBnWto74IR"
      }
    },
    {
      "cell_type": "code",
      "source": [
        "A = np.array([[4.99, 3.49, 9.99],\n",
        "              [1.99, 9.99, 4.99],\n",
        "              [14.99, 2.39, 7.29]])"
      ],
      "metadata": {
        "id": "qLEETsk-74VX"
      },
      "execution_count": 62,
      "outputs": []
    },
    {
      "cell_type": "code",
      "source": [
        "print(A[A>8])"
      ],
      "metadata": {
        "id": "P2mQjmDT74dg",
        "colab": {
          "base_uri": "https://localhost:8080/"
        },
        "outputId": "81bf252b-36be-44fb-a669-b9276b68a83a"
      },
      "execution_count": 63,
      "outputs": [
        {
          "output_type": "stream",
          "name": "stdout",
          "text": [
            "[ 9.99  9.99 14.99]\n"
          ]
        }
      ]
    },
    {
      "cell_type": "markdown",
      "source": [
        "**33) Replace elements greater than 10 with a fixed value = 10.0 and print result to the console.**"
      ],
      "metadata": {
        "id": "Vi0iU0FH74pf"
      }
    },
    {
      "cell_type": "code",
      "source": [
        "A = np.array([[4.99, 3.49, 9.99],\n",
        "              [1.99, 9.99, 14.99],\n",
        "              [14.99, 2.39, 7.29]])"
      ],
      "metadata": {
        "id": "SCU6TsfK742c"
      },
      "execution_count": 64,
      "outputs": []
    },
    {
      "cell_type": "code",
      "source": [
        "print(np.where(A>10.0,10.0,A))"
      ],
      "metadata": {
        "id": "yeHsyUhH74_u",
        "colab": {
          "base_uri": "https://localhost:8080/"
        },
        "outputId": "411d789d-7059-4de4-d95f-980d05a46e43"
      },
      "execution_count": 65,
      "outputs": [
        {
          "output_type": "stream",
          "name": "stdout",
          "text": [
            "[[ 4.99  3.49  9.99]\n",
            " [ 1.99  9.99 10.  ]\n",
            " [10.    2.39  7.29]]\n"
          ]
        }
      ]
    },
    {
      "cell_type": "markdown",
      "source": [
        "**34) Present the following two-dimensional array as a flattened one-dimensional array and print result to the console.**"
      ],
      "metadata": {
        "id": "b7f9aypZ75Kc"
      }
    },
    {
      "cell_type": "code",
      "source": [
        "A = np.array([[4.99, 3.49, 9.99],\n",
        "              [1.99, 9.99, 14.99],\n",
        "              [14.99, 2.39, 7.29]])"
      ],
      "metadata": {
        "id": "KSmTeSfe75XT"
      },
      "execution_count": 66,
      "outputs": []
    },
    {
      "cell_type": "code",
      "source": [
        "print(np.ravel(A))"
      ],
      "metadata": {
        "id": "qsHtcufQ75gE",
        "colab": {
          "base_uri": "https://localhost:8080/"
        },
        "outputId": "5d21f04c-9dd9-479a-c22d-9407853ee919"
      },
      "execution_count": 67,
      "outputs": [
        {
          "output_type": "stream",
          "name": "stdout",
          "text": [
            "[ 4.99  3.49  9.99  1.99  9.99 14.99 14.99  2.39  7.29]\n"
          ]
        }
      ]
    },
    {
      "cell_type": "markdown",
      "source": [
        "**35) Using Numpy create an array of the same shape and data type as the given array and fill it with zeros. Print this array to the console.**"
      ],
      "metadata": {
        "id": "DNYHqRcb75rR"
      }
    },
    {
      "cell_type": "code",
      "source": [
        "A = np.array([[4.99, 3.49, 9.99],\n",
        "              [1.99, 9.99, 14.99],\n",
        "              [14.99, 2.39, 7.29]])"
      ],
      "metadata": {
        "id": "SmaV9eJZ753Z"
      },
      "execution_count": 68,
      "outputs": []
    },
    {
      "cell_type": "code",
      "source": [
        "a,b=A.shape\n",
        "print(np.zeros((a,b)))"
      ],
      "metadata": {
        "id": "rlnlyYYZ76Aq",
        "colab": {
          "base_uri": "https://localhost:8080/"
        },
        "outputId": "e7b0a14f-de2d-45d6-8ea2-1d1affc0f7ee"
      },
      "execution_count": 69,
      "outputs": [
        {
          "output_type": "stream",
          "name": "stdout",
          "text": [
            "[[0. 0. 0.]\n",
            " [0. 0. 0.]\n",
            " [0. 0. 0.]]\n"
          ]
        }
      ]
    },
    {
      "cell_type": "code",
      "source": [
        "#OR\n",
        "print(np.zeros_like(A))"
      ],
      "metadata": {
        "colab": {
          "base_uri": "https://localhost:8080/"
        },
        "id": "uSoff77-KCAf",
        "outputId": "95ddbffd-6baa-4451-c5c7-b80123a58dc5"
      },
      "execution_count": 70,
      "outputs": [
        {
          "output_type": "stream",
          "name": "stdout",
          "text": [
            "[[0. 0. 0.]\n",
            " [0. 0. 0.]\n",
            " [0. 0. 0.]]\n"
          ]
        }
      ]
    },
    {
      "cell_type": "markdown",
      "source": [
        "**36) Using Numpy create an array of the same shape and data type as the given array and fill it with a constant value = 9.99. Print this array to the console.**"
      ],
      "metadata": {
        "id": "XE457DqE76L4"
      }
    },
    {
      "cell_type": "code",
      "source": [
        "A = np.array([[4.99, 3.49, 9.99],\n",
        "              [1.99, 9.99, 14.99],\n",
        "              [14.99, 2.39, 7.29]])"
      ],
      "metadata": {
        "id": "wnJkI56_76Y5"
      },
      "execution_count": 71,
      "outputs": []
    },
    {
      "cell_type": "code",
      "source": [
        "print(np.full_like(A,9.99))"
      ],
      "metadata": {
        "id": "n0rRI8EF76hw",
        "colab": {
          "base_uri": "https://localhost:8080/"
        },
        "outputId": "87e7332a-2c9a-49e4-8813-8cd0a48f0c18"
      },
      "execution_count": 72,
      "outputs": [
        {
          "output_type": "stream",
          "name": "stdout",
          "text": [
            "[[9.99 9.99 9.99]\n",
            " [9.99 9.99 9.99]\n",
            " [9.99 9.99 9.99]]\n"
          ]
        }
      ]
    },
    {
      "cell_type": "markdown",
      "source": [
        "**37) sing Numpy create a two-dimensional array (lower triangular matrix):**"
      ],
      "metadata": {
        "id": "I_bppk6w76uJ"
      }
    },
    {
      "cell_type": "code",
      "source": [
        "print(np.tri(5,5))"
      ],
      "metadata": {
        "id": "IIRP0r3-7644",
        "colab": {
          "base_uri": "https://localhost:8080/"
        },
        "outputId": "2e17673f-4a7b-4482-8ac9-771bcc1f393b"
      },
      "execution_count": 73,
      "outputs": [
        {
          "output_type": "stream",
          "name": "stdout",
          "text": [
            "[[1. 0. 0. 0. 0.]\n",
            " [1. 1. 0. 0. 0.]\n",
            " [1. 1. 1. 0. 0.]\n",
            " [1. 1. 1. 1. 0.]\n",
            " [1. 1. 1. 1. 1.]]\n"
          ]
        }
      ]
    },
    {
      "cell_type": "code",
      "source": [],
      "metadata": {
        "id": "u6PjoCF377D5"
      },
      "execution_count": 73,
      "outputs": []
    },
    {
      "cell_type": "markdown",
      "source": [
        "**38) Using Numpy create any 3-dimensional array with shape (2, 3, 4) and assign to variable A.**"
      ],
      "metadata": {
        "id": "RLVo2ffq77Oq"
      }
    },
    {
      "cell_type": "code",
      "source": [
        "A=np.array([[[4,5,4,1],[6,3,5,1],[5,2,1,2]],[[7,2,3,1],[6,2,0,9],[0,1,9,1]]])"
      ],
      "metadata": {
        "id": "x5zHBPT577ap"
      },
      "execution_count": 74,
      "outputs": []
    },
    {
      "cell_type": "code",
      "source": [
        "print(A)"
      ],
      "metadata": {
        "id": "kfNdgzLU77kB",
        "colab": {
          "base_uri": "https://localhost:8080/"
        },
        "outputId": "735fa3d4-bc51-45f8-c3e2-9bd0edae0c45"
      },
      "execution_count": 75,
      "outputs": [
        {
          "output_type": "stream",
          "name": "stdout",
          "text": [
            "[[[4 5 4 1]\n",
            "  [6 3 5 1]\n",
            "  [5 2 1 2]]\n",
            "\n",
            " [[7 2 3 1]\n",
            "  [6 2 0 9]\n",
            "  [0 1 9 1]]]\n"
          ]
        }
      ]
    },
    {
      "cell_type": "markdown",
      "source": [
        "**39) Using Numpy create a two-dimensional array with shape of (200, 300) filled with random values from 0 to 255 (inclusive) with data type np.uint8 and assign to the variable image.**"
      ],
      "metadata": {
        "id": "9Ygz2NRB77uh"
      }
    },
    {
      "cell_type": "code",
      "source": [
        "print(np.random.randint(low=0,high=256,size=(200,300),dtype=np.uint8))"
      ],
      "metadata": {
        "id": "S4rrg3e3779i",
        "colab": {
          "base_uri": "https://localhost:8080/"
        },
        "outputId": "a21b9b47-a3f4-4214-8d64-1ec942ab8c60"
      },
      "execution_count": 76,
      "outputs": [
        {
          "output_type": "stream",
          "name": "stdout",
          "text": [
            "[[249 167 170 ... 188 154   3]\n",
            " [138  20 194 ...  38  45  74]\n",
            " [242 108 221 ... 184  57 105]\n",
            " ...\n",
            " [180  55 112 ... 143 189 122]\n",
            " [ 21  11 118 ... 244 248 221]\n",
            " [219  87 125 ... 245 135 179]]\n"
          ]
        }
      ]
    },
    {
      "cell_type": "code",
      "source": [],
      "metadata": {
        "id": "pSSqfz-h78GN"
      },
      "execution_count": 76,
      "outputs": []
    },
    {
      "cell_type": "markdown",
      "source": [
        "**40) The following array is given: Sort this array along the rows in ascending order and assign to the variable image_sorted.**"
      ],
      "metadata": {
        "id": "zf8ft6fO78Q1"
      }
    },
    {
      "cell_type": "code",
      "source": [
        "image = np.random.randint(low=0, high=256, size=(200, 300), dtype=np.uint8)"
      ],
      "metadata": {
        "id": "UpCH3IBL78b8"
      },
      "execution_count": 77,
      "outputs": []
    },
    {
      "cell_type": "code",
      "source": [
        "image_sorted=np.sort(image)\n",
        "print(image_sorted)"
      ],
      "metadata": {
        "id": "Nxle05-L78jJ",
        "colab": {
          "base_uri": "https://localhost:8080/"
        },
        "outputId": "085f3e3d-3690-4add-b2cb-36abf6aae2c6"
      },
      "execution_count": 78,
      "outputs": [
        {
          "output_type": "stream",
          "name": "stdout",
          "text": [
            "[[  0   1   2 ... 254 254 255]\n",
            " [  0   0   0 ... 254 255 255]\n",
            " [  1   2   2 ... 254 255 255]\n",
            " ...\n",
            " [  3   3   4 ... 253 255 255]\n",
            " [  0   1   5 ... 255 255 255]\n",
            " [  0   1   2 ... 253 254 254]]\n"
          ]
        }
      ]
    },
    {
      "cell_type": "markdown",
      "source": [
        "**41) Expand this array by one dimension (add a new dimension at the beginning). Expected shape of the output array: (1, 2, 3). In response, print array to the console.**\n",
        "\n"
      ],
      "metadata": {
        "id": "57fyaU6j78sx"
      }
    },
    {
      "cell_type": "code",
      "source": [
        "A = np.array([[4, 2, 1],\n",
        "              [6, 4, 2]])"
      ],
      "metadata": {
        "id": "10wHxEu5785o"
      },
      "execution_count": 79,
      "outputs": []
    },
    {
      "cell_type": "code",
      "source": [
        "print(np.expand_dims(A,axis=0))"
      ],
      "metadata": {
        "id": "ga7Vf0KK79Cd",
        "colab": {
          "base_uri": "https://localhost:8080/"
        },
        "outputId": "ef218461-a283-4bc3-c70f-64694732a855"
      },
      "execution_count": 80,
      "outputs": [
        {
          "output_type": "stream",
          "name": "stdout",
          "text": [
            "[[[4 2 1]\n",
            "  [6 4 2]]]\n"
          ]
        }
      ]
    },
    {
      "cell_type": "markdown",
      "source": [
        "**42) Using Numpy create a three-dimensional array called image with shape (200, 300, 3) filled with random values from 0 to 255 (inclusive) and data type np.uint8. Set random seed to 42.**"
      ],
      "metadata": {
        "id": "IAlib8l779M1"
      }
    },
    {
      "cell_type": "code",
      "source": [
        "np.random.seed(42)"
      ],
      "metadata": {
        "id": "cQ2LILen79Y4"
      },
      "execution_count": 81,
      "outputs": []
    },
    {
      "cell_type": "code",
      "source": [
        "image=np.random.randint(low=0,high=255,size=(200,300,3),dtype=np.uint8)\n",
        "print(image)"
      ],
      "metadata": {
        "id": "pE-G5ZYM79iN",
        "colab": {
          "base_uri": "https://localhost:8080/"
        },
        "outputId": "180fe32d-6cbe-45eb-c650-4822022f1e63"
      },
      "execution_count": 82,
      "outputs": [
        {
          "output_type": "stream",
          "name": "stdout",
          "text": [
            "[[[102 220 225]\n",
            "  [ 95 179  61]\n",
            "  [234 203  92]\n",
            "  ...\n",
            "  [ 87 102 225]\n",
            "  [ 65 170   0]\n",
            "  [238 169 170]]\n",
            "\n",
            " [[213 159  44]\n",
            "  [250 224 206]\n",
            "  [ 61 166 174]\n",
            "  ...\n",
            "  [ 21  68  30]\n",
            "  [ 64 237  26]\n",
            "  [118  62 157]]\n",
            "\n",
            " [[198   1 151]\n",
            "  [ 37  56  23]\n",
            "  [249 229 184]\n",
            "  ...\n",
            "  [226  44 203]\n",
            "  [116  99 121]\n",
            "  [143 171 100]]\n",
            "\n",
            " ...\n",
            "\n",
            " [[121  81 132]\n",
            "  [ 24  81 157]\n",
            "  [159 107 224]\n",
            "  ...\n",
            "  [ 40 152  71]\n",
            "  [172 172 181]\n",
            "  [161 162 182]]\n",
            "\n",
            " [[ 15 149  74]\n",
            "  [119  23 213]\n",
            "  [ 21  19 222]\n",
            "  ...\n",
            "  [125 104 171]\n",
            "  [213  60  64]\n",
            "  [110 194  65]]\n",
            "\n",
            " [[230 207  82]\n",
            "  [ 37 128 173]\n",
            "  [ 94 129   3]\n",
            "  ...\n",
            "  [141  11 175]\n",
            "  [ 57 150  59]\n",
            "  [127 155 161]]]\n"
          ]
        }
      ]
    },
    {
      "cell_type": "markdown",
      "source": [
        "**43) Extend this array by one dimension (add a new dimension at the beginning) and assign to image_extended variable. Expected shape of this array is (1, 200, 300, 3).**"
      ],
      "metadata": {
        "id": "1yZsVFoe79u4"
      }
    },
    {
      "cell_type": "code",
      "source": [
        "image = np.random.randint(low=0, high=256, size=(200, 300, 3), dtype=np.uint8)\n"
      ],
      "metadata": {
        "id": "fWozyu6y79-7"
      },
      "execution_count": 83,
      "outputs": []
    },
    {
      "cell_type": "code",
      "source": [
        "print(np.expand_dims(image,0))"
      ],
      "metadata": {
        "id": "BxKen0_T7-HO",
        "colab": {
          "base_uri": "https://localhost:8080/"
        },
        "outputId": "eaf6c7fd-2b4a-4d29-c5d4-f977cebeaec1"
      },
      "execution_count": 84,
      "outputs": [
        {
          "output_type": "stream",
          "name": "stdout",
          "text": [
            "[[[[142 229 254]\n",
            "   [254 165 235]\n",
            "   [ 44 141  49]\n",
            "   ...\n",
            "   [188 228 235]\n",
            "   [150  92  69]\n",
            "   [141  53 255]]\n",
            "\n",
            "  [[157  79 123]\n",
            "   [148 231 178]\n",
            "   [211 196 142]\n",
            "   ...\n",
            "   [228 164  10]\n",
            "   [ 73 167 231]\n",
            "   [137 138 113]]\n",
            "\n",
            "  [[212 224 151]\n",
            "   [120 156  39]\n",
            "   [255 152 253]\n",
            "   ...\n",
            "   [127 248 216]\n",
            "   [190 211  25]\n",
            "   [106 200 169]]\n",
            "\n",
            "  ...\n",
            "\n",
            "  [[  2 126 153]\n",
            "   [ 71 203 115]\n",
            "   [119  81 204]\n",
            "   ...\n",
            "   [164  24  85]\n",
            "   [ 69 250 148]\n",
            "   [ 33 245  14]]\n",
            "\n",
            "  [[121 248 201]\n",
            "   [ 77 210 150]\n",
            "   [191 196  87]\n",
            "   ...\n",
            "   [165  92  63]\n",
            "   [231 207  30]\n",
            "   [ 38 215 132]]\n",
            "\n",
            "  [[236  90 107]\n",
            "   [148 173  25]\n",
            "   [ 45  62 154]\n",
            "   ...\n",
            "   [ 14 169  18]\n",
            "   [ 82  87 224]\n",
            "   [220 117  62]]]]\n"
          ]
        }
      ]
    },
    {
      "cell_type": "markdown",
      "source": [
        "**44) Expand each of these arrays by adding one dimension at the beginning and then combine these arrays into one called images. Expected shape of images array: (2, 200, 300, 3).**"
      ],
      "metadata": {
        "id": "bbF4C1Tw7-QH"
      }
    },
    {
      "cell_type": "code",
      "source": [
        "image1 = np.random.randint(low=0, high=256, size=(200, 300, 3), dtype=np.uint8)\n",
        "image2 = np.random.randint(low=0, high=256, size=(200, 300, 3), dtype=np.uint8)"
      ],
      "metadata": {
        "id": "1uh5qINl7-cz"
      },
      "execution_count": 85,
      "outputs": []
    },
    {
      "cell_type": "code",
      "source": [
        "image1=np.expand_dims(image1,0)\n",
        "image2=np.expand_dims(image2,0)\n",
        "image=np.append(image1,image2,0)\n",
        "print(image)"
      ],
      "metadata": {
        "id": "TVSS6oVj7-lF",
        "colab": {
          "base_uri": "https://localhost:8080/"
        },
        "outputId": "f4fca57d-fc23-4e5e-c25a-1377c4d4db64"
      },
      "execution_count": 86,
      "outputs": [
        {
          "output_type": "stream",
          "name": "stdout",
          "text": [
            "[[[[151 157 148]\n",
            "   [ 70  37 117]\n",
            "   [161 232  50]\n",
            "   ...\n",
            "   [225  56  43]\n",
            "   [219 201  30]\n",
            "   [212  42  15]]\n",
            "\n",
            "  [[ 57 197  12]\n",
            "   [255 228  91]\n",
            "   [189 197 153]\n",
            "   ...\n",
            "   [ 33 178 186]\n",
            "   [109 214  60]\n",
            "   [146  76  55]]\n",
            "\n",
            "  [[172 191  67]\n",
            "   [198 130 164]\n",
            "   [126  66 248]\n",
            "   ...\n",
            "   [ 39  95 179]\n",
            "   [229 143  79]\n",
            "   [  1 218  15]]\n",
            "\n",
            "  ...\n",
            "\n",
            "  [[199  57  73]\n",
            "   [134 111  67]\n",
            "   [187 224  45]\n",
            "   ...\n",
            "   [142  20 158]\n",
            "   [ 40 252 155]\n",
            "   [165 110  96]]\n",
            "\n",
            "  [[106 158  66]\n",
            "   [  4 101  12]\n",
            "   [ 65 231  85]\n",
            "   ...\n",
            "   [117  79 242]\n",
            "   [ 52  16 114]\n",
            "   [107  39  17]]\n",
            "\n",
            "  [[207 106  98]\n",
            "   [168 121 255]\n",
            "   [ 10  75 152]\n",
            "   ...\n",
            "   [ 58 237 224]\n",
            "   [222  20  79]\n",
            "   [173  76  50]]]\n",
            "\n",
            "\n",
            " [[[ 88 245   1]\n",
            "   [113 177 131]\n",
            "   [247 162  66]\n",
            "   ...\n",
            "   [113 162 191]\n",
            "   [ 30   0  84]\n",
            "   [ 10 176 150]]\n",
            "\n",
            "  [[153  81 183]\n",
            "   [221 128 149]\n",
            "   [160 241 240]\n",
            "   ...\n",
            "   [231  92 194]\n",
            "   [107  47 183]\n",
            "   [ 76 191 136]]\n",
            "\n",
            "  [[255  40  67]\n",
            "   [169  32  82]\n",
            "   [143  22 218]\n",
            "   ...\n",
            "   [243  41 254]\n",
            "   [ 92   1 221]\n",
            "   [172 240  17]]\n",
            "\n",
            "  ...\n",
            "\n",
            "  [[ 23  66 107]\n",
            "   [ 47 228  24]\n",
            "   [ 26 234 119]\n",
            "   ...\n",
            "   [ 28 224 181]\n",
            "   [ 36 248 184]\n",
            "   [ 78 131  88]]\n",
            "\n",
            "  [[ 97 181  96]\n",
            "   [133 235  88]\n",
            "   [ 88 229  10]\n",
            "   ...\n",
            "   [163  18 139]\n",
            "   [119  15  35]\n",
            "   [152  52 141]]\n",
            "\n",
            "  [[ 91  13  26]\n",
            "   [166   0 121]\n",
            "   [ 87 247 191]\n",
            "   ...\n",
            "   [ 39 109  44]\n",
            "   [ 70   8  44]\n",
            "   [235  40 254]]]]\n"
          ]
        }
      ]
    },
    {
      "cell_type": "markdown",
      "source": [
        "**45) Shape of this array is (1, 2, 3). Remove the unnecessary first dimension and extract (2, 3) array and print it to the console as shown below.**"
      ],
      "metadata": {
        "id": "FOCBh1Z97-2U"
      }
    },
    {
      "cell_type": "code",
      "source": [
        "A = np.array([[[1, 2, 3],\n",
        "               [6, 3, 2]]])"
      ],
      "metadata": {
        "id": "NnjPZ4Tx7_B6"
      },
      "execution_count": 87,
      "outputs": []
    },
    {
      "cell_type": "code",
      "source": [
        "print(np.squeeze(A,0))"
      ],
      "metadata": {
        "id": "mrtLUibU7_If",
        "colab": {
          "base_uri": "https://localhost:8080/"
        },
        "outputId": "53a985b0-6ad4-4cab-9605-d9795b822867"
      },
      "execution_count": 88,
      "outputs": [
        {
          "output_type": "stream",
          "name": "stdout",
          "text": [
            "[[1 2 3]\n",
            " [6 3 2]]\n"
          ]
        }
      ]
    },
    {
      "cell_type": "markdown",
      "source": [
        "**46) Shape of this array is (4, 1). Remove the unnecessary dimension and extract (4, ) array and print result to the console.**"
      ],
      "metadata": {
        "id": "Pl3yemm37_TR"
      }
    },
    {
      "cell_type": "code",
      "source": [
        "A = np.array([[0.4],\n",
        "              [0.9],\n",
        "              [0.5],\n",
        "              [0.6]])"
      ],
      "metadata": {
        "id": "xgk0A4Wr7_fY"
      },
      "execution_count": 89,
      "outputs": []
    },
    {
      "cell_type": "code",
      "source": [
        "print(np.squeeze(A,1))"
      ],
      "metadata": {
        "id": "fnDFbyYM7_nk",
        "colab": {
          "base_uri": "https://localhost:8080/"
        },
        "outputId": "4556583f-9135-4081-8fe2-7170485cbe83"
      },
      "execution_count": 90,
      "outputs": [
        {
          "output_type": "stream",
          "name": "stdout",
          "text": [
            "[0.4 0.9 0.5 0.6]\n"
          ]
        }
      ]
    },
    {
      "cell_type": "markdown",
      "source": [
        "**47) Using the slice operator, transform this array into the following:**\n",
        "\n",
        "array([[ 3,  2,  1,  0],\n",
        "      \n",
        "       [ 7,  6,  5,  4],\n",
        "      \n",
        "       [11, 10,  9,  8]])"
      ],
      "metadata": {
        "id": "AxZXthIY7_zD"
      }
    },
    {
      "cell_type": "code",
      "source": [
        "A=np.array([[ 0,  1,  2,  3],\n",
        "       [ 4,  5,  6,  7],\n",
        "       [ 8,  9, 10, 11]])\n"
      ],
      "metadata": {
        "id": "4XbfZPNc7_-A"
      },
      "execution_count": 91,
      "outputs": []
    },
    {
      "cell_type": "code",
      "source": [
        "print(A[:,::-1])"
      ],
      "metadata": {
        "id": "B0QDj2IO8AGT",
        "colab": {
          "base_uri": "https://localhost:8080/"
        },
        "outputId": "996235a0-445f-4768-ebb3-8701dfb3de55"
      },
      "execution_count": 92,
      "outputs": [
        {
          "output_type": "stream",
          "name": "stdout",
          "text": [
            "[[ 3  2  1  0]\n",
            " [ 7  6  5  4]\n",
            " [11 10  9  8]]\n"
          ]
        }
      ]
    },
    {
      "cell_type": "markdown",
      "source": [
        "**48) Using the slice operator, transform this array into the following:**\n",
        "\n",
        "      [[11, 10,  9,  8],\n",
        "\n",
        "       [ 7,  6,  5,  4],\n",
        "\n",
        "       [ 3,  2,  1,  0]]"
      ],
      "metadata": {
        "id": "PBa9qNLdXX8X"
      }
    },
    {
      "cell_type": "code",
      "source": [
        "A=np.array([[ 0,  1,  2,  3],\n",
        "       [ 4,  5,  6,  7],\n",
        "       [ 8,  9, 10, 11]])"
      ],
      "metadata": {
        "id": "rp_PMevaXYVW"
      },
      "execution_count": 93,
      "outputs": []
    },
    {
      "cell_type": "code",
      "source": [
        "print(A[::-1,::-1])"
      ],
      "metadata": {
        "colab": {
          "base_uri": "https://localhost:8080/"
        },
        "id": "IlKWDz7pXYde",
        "outputId": "a90ad7b0-e1da-4b47-ecd5-7328b72e994d"
      },
      "execution_count": 94,
      "outputs": [
        {
          "output_type": "stream",
          "name": "stdout",
          "text": [
            "[[11 10  9  8]\n",
            " [ 7  6  5  4]\n",
            " [ 3  2  1  0]]\n"
          ]
        }
      ]
    },
    {
      "cell_type": "markdown",
      "source": [
        "**49) Random seed is set to 42. The following array is given:Extract the first channel (index 0) of this image array and print it to the console.**"
      ],
      "metadata": {
        "id": "T_pIhSJbXY3a"
      }
    },
    {
      "cell_type": "code",
      "source": [
        "image = np.random.randint(low=0, high=256, size=(10, 10, 3), dtype=np.uint8)"
      ],
      "metadata": {
        "id": "M09wap6tXZGC"
      },
      "execution_count": 95,
      "outputs": []
    },
    {
      "cell_type": "code",
      "source": [
        "np.random.seed(42)\n",
        "print(image[:,:,0])"
      ],
      "metadata": {
        "colab": {
          "base_uri": "https://localhost:8080/"
        },
        "id": "MmOylHqIXZO8",
        "outputId": "d650791a-99ea-488a-c720-faeb68ae2f46"
      },
      "execution_count": 96,
      "outputs": [
        {
          "output_type": "stream",
          "name": "stdout",
          "text": [
            "[[133  77  11   6 246 211  12 167 100 157]\n",
            " [  5 128  72  82 171  76  48  37 175  43]\n",
            " [177 167  16 215 240 212 206 171 201 116]\n",
            " [ 66  26 169 122 110 168 109 219 139 109]\n",
            " [ 19 247 227  24  49 134 188 184  94  25]\n",
            " [  4 104  27 152 234  99  11 203 183  34]\n",
            " [125 102 186 101   4 105  63 249 158 214]\n",
            " [ 38 179  76  41 185  53  52  28  44 190]\n",
            " [ 76 144  88  53 105  75  10 118 117 228]\n",
            " [ 95 158 208 169 197  37 239  44 131  25]]\n"
          ]
        }
      ]
    },
    {
      "cell_type": "markdown",
      "source": [
        "**50) Extract any array of shape (5, 5, 3) from this array and assign to the result variable.**"
      ],
      "metadata": {
        "id": "7ZAO8qGvXZlO"
      }
    },
    {
      "cell_type": "code",
      "source": [
        "image = np.random.randint(low=0, high=256, size=(10, 10, 3), dtype=np.uint8)"
      ],
      "metadata": {
        "id": "ZiO4JfFZXaOt"
      },
      "execution_count": 97,
      "outputs": []
    },
    {
      "cell_type": "code",
      "source": [
        "result=image[:5,:5,:3]\n",
        "print(result)"
      ],
      "metadata": {
        "colab": {
          "base_uri": "https://localhost:8080/"
        },
        "id": "GUEh9BHtXaXA",
        "outputId": "fdee7f27-4842-4516-96d9-24d24ca2edf9"
      },
      "execution_count": 98,
      "outputs": [
        {
          "output_type": "stream",
          "name": "stdout",
          "text": [
            "[[[102 220 225]\n",
            "  [ 95 179  61]\n",
            "  [234 203  92]\n",
            "  [  3  98 243]\n",
            "  [ 14 149 245]]\n",
            "\n",
            " [[203 152 102]\n",
            "  [214 240  39]\n",
            "  [121  24  34]\n",
            "  [114 210  65]\n",
            "  [239  39 214]]\n",
            "\n",
            " [[116 237 109]\n",
            "  [ 85  99 172]\n",
            "  [226 153 103]\n",
            "  [235 146  36]\n",
            "  [151  62  68]]\n",
            "\n",
            " [[ 76 248  87]\n",
            "  [233 212 184]\n",
            "  [235 245  26]\n",
            "  [213 157 253]\n",
            "  [ 68 240  37]]\n",
            "\n",
            " [[ 20 153 243]\n",
            "  [ 46 160  68]\n",
            "  [ 19 158 203]\n",
            "  [209 226  77]\n",
            "  [ 57  77 149]]]\n"
          ]
        }
      ]
    },
    {
      "cell_type": "markdown",
      "source": [
        "**51) Concatenate these arrays as follows:**\n"
      ],
      "metadata": {
        "id": "cjiJgvRwZ02D"
      }
    },
    {
      "cell_type": "code",
      "source": [
        "A = np.array([[3, 4, 5],\n",
        "              [8, 3, 1]])\n",
        "B = np.array([[0, 5, 2],\n",
        "              [4, 2, 1]])\n"
      ],
      "metadata": {
        "id": "_C6p2M6vZ1E_"
      },
      "execution_count": 99,
      "outputs": []
    },
    {
      "cell_type": "code",
      "source": [
        "np.concatenate((A,B))"
      ],
      "metadata": {
        "id": "vLvt4RxhZ1Pu",
        "colab": {
          "base_uri": "https://localhost:8080/"
        },
        "outputId": "b6cc00d4-f275-41d9-df3c-2ebb74d7243c"
      },
      "execution_count": 100,
      "outputs": [
        {
          "output_type": "execute_result",
          "data": {
            "text/plain": [
              "array([[3, 4, 5],\n",
              "       [8, 3, 1],\n",
              "       [0, 5, 2],\n",
              "       [4, 2, 1]])"
            ]
          },
          "metadata": {},
          "execution_count": 100
        }
      ]
    },
    {
      "cell_type": "markdown",
      "source": [
        "**52) Concatenate these arrays as follows:**"
      ],
      "metadata": {
        "id": "XRAZpOOYZ1dO"
      }
    },
    {
      "cell_type": "code",
      "source": [
        "data = np.array([[4.3, 4.2],\n",
        "                 [3.1, 3.6]])\n",
        "target = np.array([[0],\n",
        "                   [1]])"
      ],
      "metadata": {
        "id": "yBkmNRsuZ1ta"
      },
      "execution_count": 101,
      "outputs": []
    },
    {
      "cell_type": "code",
      "source": [
        "print(np.concatenate((data,target),axis=1))"
      ],
      "metadata": {
        "id": "MripLWQCZ13-",
        "colab": {
          "base_uri": "https://localhost:8080/"
        },
        "outputId": "f282c274-9c5e-4aac-aa66-affcf27cab42"
      },
      "execution_count": 102,
      "outputs": [
        {
          "output_type": "stream",
          "name": "stdout",
          "text": [
            "[[4.3 4.2 0. ]\n",
            " [3.1 3.6 1. ]]\n"
          ]
        }
      ]
    },
    {
      "cell_type": "code",
      "source": [],
      "metadata": {
        "id": "o3B7VwQpvPtA"
      },
      "execution_count": 102,
      "outputs": []
    },
    {
      "cell_type": "markdown",
      "source": [
        "**53) Transform each of these arrays into a column and concatenate them into one array as shown below. In response, print this array to the console.**"
      ],
      "metadata": {
        "id": "rUdFQFW7Z2DY"
      }
    },
    {
      "cell_type": "code",
      "source": [
        "feature1 = np.array([1.6, 0.9, 2.2])\n",
        "feature2 = np.array([0.4, 1.3, 3.2])\n",
        "feature3 = np.array([1.4, 0.3, 1.2])"
      ],
      "metadata": {
        "id": "11m30lo-Z2TA"
      },
      "execution_count": 103,
      "outputs": []
    },
    {
      "cell_type": "code",
      "source": [
        "print(np.column_stack((feature1,feature2,feature3)))"
      ],
      "metadata": {
        "id": "EFKaSPjdZ2eH",
        "colab": {
          "base_uri": "https://localhost:8080/"
        },
        "outputId": "af78d458-b8de-4fe4-9c20-fdf15a6d9445"
      },
      "execution_count": 104,
      "outputs": [
        {
          "output_type": "stream",
          "name": "stdout",
          "text": [
            "[[1.6 0.4 1.4]\n",
            " [0.9 1.3 0.3]\n",
            " [2.2 3.2 1.2]]\n"
          ]
        }
      ]
    },
    {
      "cell_type": "markdown",
      "source": [
        "**54) Split this array into three parts**\n",
        "\n",
        "***the first two columns assign to the A1 variable***\n",
        "\n",
        "***the next four columns assign to the A2 variable***\n",
        "\n",
        "***the last two columns assign to the A3 variable***\n",
        "\n",
        "***In response, print these arrays to the console as shown below.***\n"
      ],
      "metadata": {
        "id": "5n550XMAZ2pm"
      }
    },
    {
      "cell_type": "code",
      "source": [
        "A = np.random.randint(low=0, high=7, size=(5, 8))\n",
        "A[:, :2] = 0\n",
        "A[:, -2:] = 1\n",
        "A"
      ],
      "metadata": {
        "id": "pwL1iAcFZ23x",
        "colab": {
          "base_uri": "https://localhost:8080/"
        },
        "outputId": "395ba9d8-c6c0-4f7e-b62a-a1eecb285d86"
      },
      "execution_count": 105,
      "outputs": [
        {
          "output_type": "execute_result",
          "data": {
            "text/plain": [
              "array([[0, 0, 3, 6, 3, 6, 1, 1],\n",
              "       [0, 0, 5, 0, 3, 1, 1, 1],\n",
              "       [0, 0, 5, 1, 3, 5, 1, 1],\n",
              "       [0, 0, 3, 1, 1, 5, 1, 1],\n",
              "       [0, 0, 5, 6, 3, 0, 1, 1]])"
            ]
          },
          "metadata": {},
          "execution_count": 105
        }
      ]
    },
    {
      "cell_type": "code",
      "source": [
        "np.random.seed(42)\n",
        " \n",
        "A1, A2, A3 = np.split(A,[2,6],1)\n",
        "print(A1)\n",
        "print(A2)\n",
        "print(A3)"
      ],
      "metadata": {
        "id": "ygO9bKokZ3B-",
        "colab": {
          "base_uri": "https://localhost:8080/"
        },
        "outputId": "5b448189-57ae-458f-de6f-49d1450737e5"
      },
      "execution_count": 106,
      "outputs": [
        {
          "output_type": "stream",
          "name": "stdout",
          "text": [
            "[[0 0]\n",
            " [0 0]\n",
            " [0 0]\n",
            " [0 0]\n",
            " [0 0]]\n",
            "[[3 6 3 6]\n",
            " [5 0 3 1]\n",
            " [5 1 3 5]\n",
            " [3 1 1 5]\n",
            " [5 6 3 0]]\n",
            "[[1 1]\n",
            " [1 1]\n",
            " [1 1]\n",
            " [1 1]\n",
            " [1 1]]\n"
          ]
        }
      ]
    },
    {
      "cell_type": "markdown",
      "source": [
        "**55) Calculate the total number of non-zero elements in this array and print it to the console.**"
      ],
      "metadata": {
        "id": "9zVfU3zIZ3M5"
      }
    },
    {
      "cell_type": "code",
      "source": [
        "A = np.random.randint(low=0, high=2, size=(10, 6))\n",
        "A"
      ],
      "metadata": {
        "id": "zFBN70IgZ3Zw",
        "colab": {
          "base_uri": "https://localhost:8080/"
        },
        "outputId": "b246dd02-4c17-4c69-c70d-1163f08dfe57"
      },
      "execution_count": 107,
      "outputs": [
        {
          "output_type": "execute_result",
          "data": {
            "text/plain": [
              "array([[0, 1, 0, 0, 0, 1],\n",
              "       [0, 0, 0, 1, 0, 0],\n",
              "       [0, 0, 1, 0, 1, 1],\n",
              "       [1, 0, 1, 0, 1, 1],\n",
              "       [1, 1, 1, 1, 1, 1],\n",
              "       [0, 0, 1, 1, 1, 0],\n",
              "       [1, 0, 0, 0, 0, 0],\n",
              "       [1, 1, 1, 1, 1, 0],\n",
              "       [1, 1, 0, 1, 0, 1],\n",
              "       [0, 1, 1, 0, 0, 0]])"
            ]
          },
          "metadata": {},
          "execution_count": 107
        }
      ]
    },
    {
      "cell_type": "code",
      "source": [
        "print(np.count_nonzero(A))"
      ],
      "metadata": {
        "id": "66DATXsqZ3ja",
        "colab": {
          "base_uri": "https://localhost:8080/"
        },
        "outputId": "b8e2a345-26e9-40c0-f5fb-40bd6f19c312"
      },
      "execution_count": 108,
      "outputs": [
        {
          "output_type": "stream",
          "name": "stdout",
          "text": [
            "31\n"
          ]
        }
      ]
    },
    {
      "cell_type": "markdown",
      "source": [
        "**56) Set the Numpy option to print arrays with specified precision. Set precision to 4 and print this array.**"
      ],
      "metadata": {
        "id": "NLanf8rEZ3tW"
      }
    },
    {
      "cell_type": "code",
      "source": [
        "np.random.seed(42)\n",
        "A = np.random.randn(10, 4)"
      ],
      "metadata": {
        "id": "Pm-_KWlgZ39Z"
      },
      "execution_count": 109,
      "outputs": []
    },
    {
      "cell_type": "code",
      "source": [
        "np.set_printoptions(4)\n",
        "print(A)"
      ],
      "metadata": {
        "id": "lJ_yUD-0Z4IV",
        "colab": {
          "base_uri": "https://localhost:8080/"
        },
        "outputId": "abcaade6-7152-4f3c-fc2f-87ea7bdf7dd9"
      },
      "execution_count": 110,
      "outputs": [
        {
          "output_type": "stream",
          "name": "stdout",
          "text": [
            "[[ 0.4967 -0.1383  0.6477  1.523 ]\n",
            " [-0.2342 -0.2341  1.5792  0.7674]\n",
            " [-0.4695  0.5426 -0.4634 -0.4657]\n",
            " [ 0.242  -1.9133 -1.7249 -0.5623]\n",
            " [-1.0128  0.3142 -0.908  -1.4123]\n",
            " [ 1.4656 -0.2258  0.0675 -1.4247]\n",
            " [-0.5444  0.1109 -1.151   0.3757]\n",
            " [-0.6006 -0.2917 -0.6017  1.8523]\n",
            " [-0.0135 -1.0577  0.8225 -1.2208]\n",
            " [ 0.2089 -1.9597 -1.3282  0.1969]]\n"
          ]
        }
      ]
    },
    {
      "cell_type": "markdown",
      "source": [
        "**57) Set the precision to 8 and also set the appropriate Numpy option to suppress mathematical notation and print this array to the console.**\n"
      ],
      "metadata": {
        "id": "OMT8LtsKZ4Rw"
      }
    },
    {
      "cell_type": "code",
      "source": [
        "A = np.array([1.2e-6, 1.7e-7])"
      ],
      "metadata": {
        "id": "vaC-bzzvZ4f1"
      },
      "execution_count": 111,
      "outputs": []
    },
    {
      "cell_type": "code",
      "source": [
        "np.set_printoptions(suppress=True,precision=8)\n",
        "print(A)"
      ],
      "metadata": {
        "id": "aiXt2aKNZ4p-",
        "colab": {
          "base_uri": "https://localhost:8080/"
        },
        "outputId": "e60b9c80-451f-410d-b891-49c3273dcdc6"
      },
      "execution_count": 112,
      "outputs": [
        {
          "output_type": "stream",
          "name": "stdout",
          "text": [
            "[0.0000012  0.00000017]\n"
          ]
        }
      ]
    },
    {
      "cell_type": "markdown",
      "source": [
        "**58) Remove the third column and print this array to the console.**"
      ],
      "metadata": {
        "id": "yh9zFVx1Z40F"
      }
    },
    {
      "cell_type": "code",
      "source": [
        "A = np.random.randn(8, 4)\n",
        "A"
      ],
      "metadata": {
        "id": "-LYOKwJxZ5Bb",
        "colab": {
          "base_uri": "https://localhost:8080/"
        },
        "outputId": "a46139e3-eedf-4641-ba39-e3b845f105f8"
      },
      "execution_count": 113,
      "outputs": [
        {
          "output_type": "execute_result",
          "data": {
            "text/plain": [
              "array([[ 0.73846658,  0.17136828, -0.11564828, -0.3011037 ],\n",
              "       [-1.47852199, -0.71984421, -0.46063877,  1.05712223],\n",
              "       [ 0.34361829, -1.76304016,  0.32408397, -0.38508228],\n",
              "       [-0.676922  ,  0.61167629,  1.03099952,  0.93128012],\n",
              "       [-0.83921752, -0.30921238,  0.33126343,  0.97554513],\n",
              "       [-0.47917424, -0.18565898, -1.10633497, -1.19620662],\n",
              "       [ 0.81252582,  1.35624003, -0.07201012,  1.0035329 ],\n",
              "       [ 0.36163603, -0.64511975,  0.36139561,  1.53803657]])"
            ]
          },
          "metadata": {},
          "execution_count": 113
        }
      ]
    },
    {
      "cell_type": "code",
      "source": [
        "print(np.delete(A,[2],axis=1))"
      ],
      "metadata": {
        "id": "TqfjUOALZ5LK",
        "colab": {
          "base_uri": "https://localhost:8080/"
        },
        "outputId": "6f514bec-cdcd-40ae-cdb7-da578f1504f1"
      },
      "execution_count": 114,
      "outputs": [
        {
          "output_type": "stream",
          "name": "stdout",
          "text": [
            "[[ 0.73846658  0.17136828 -0.3011037 ]\n",
            " [-1.47852199 -0.71984421  1.05712223]\n",
            " [ 0.34361829 -1.76304016 -0.38508228]\n",
            " [-0.676922    0.61167629  0.93128012]\n",
            " [-0.83921752 -0.30921238  0.97554513]\n",
            " [-0.47917424 -0.18565898 -1.19620662]\n",
            " [ 0.81252582  1.35624003  1.0035329 ]\n",
            " [ 0.36163603 -0.64511975  1.53803657]]\n"
          ]
        }
      ]
    },
    {
      "cell_type": "markdown",
      "source": [
        "**59) Calculate the norm of this vector and print result to the console.**"
      ],
      "metadata": {
        "id": "V5kuAbcdZ5V0"
      }
    },
    {
      "cell_type": "code",
      "source": [
        "v = np.array([3, 4, -2])"
      ],
      "metadata": {
        "id": "i-KdWk-KZ5i5"
      },
      "execution_count": 115,
      "outputs": []
    },
    {
      "cell_type": "code",
      "source": [
        "print(np.linalg.norm(v))"
      ],
      "metadata": {
        "id": "OcCjuBtCZ5tX",
        "colab": {
          "base_uri": "https://localhost:8080/"
        },
        "outputId": "9b91a4f5-097b-4f6d-c280-2c86ba36c83b"
      },
      "execution_count": 116,
      "outputs": [
        {
          "output_type": "stream",
          "name": "stdout",
          "text": [
            "5.385164807134504\n"
          ]
        }
      ]
    },
    {
      "cell_type": "markdown",
      "source": [
        "**60) Set the Numpy option to print only ten edge elements and then print this array to the console.**"
      ],
      "metadata": {
        "id": "MVwuEHAMZ53x"
      }
    },
    {
      "cell_type": "code",
      "source": [
        "A = np.random.randint(10, size=(100, 30))"
      ],
      "metadata": {
        "id": "Cx5bs4OfZ6Du"
      },
      "execution_count": 117,
      "outputs": []
    },
    {
      "cell_type": "code",
      "source": [
        "np.set_printoptions(edgeitems=10)\n",
        "print(A)"
      ],
      "metadata": {
        "id": "zymodaXqZ6OT",
        "colab": {
          "base_uri": "https://localhost:8080/"
        },
        "outputId": "53110f1e-5eb5-4086-a986-6074d8830db4"
      },
      "execution_count": 118,
      "outputs": [
        {
          "output_type": "stream",
          "name": "stdout",
          "text": [
            "[[6 8 9 9 2 6 0 3 3 4 ... 5 3 9 6 8 6 0 0 8 8]\n",
            " [3 8 2 6 5 7 8 4 0 2 ... 6 1 2 0 4 0 7 0 0 1]\n",
            " [1 5 6 4 0 0 2 1 4 9 ... 1 5 5 0 8 5 2 3 3 2]\n",
            " [9 2 2 3 6 3 8 0 7 6 ... 9 8 3 0 1 0 4 4 6 8]\n",
            " [8 2 2 2 3 7 5 7 0 7 ... 8 1 1 1 5 2 8 3 0 3]\n",
            " [0 4 3 7 7 6 2 0 0 2 ... 0 0 4 2 3 2 0 0 4 5]\n",
            " [2 8 4 7 0 4 2 0 3 4 ... 7 1 5 6 1 9 1 9 0 7]\n",
            " [0 8 5 6 9 6 9 2 1 8 ... 1 1 6 5 2 8 9 5 9 9]\n",
            " [5 0 3 9 5 5 4 0 7 4 ... 9 2 0 7 2 9 6 9 4 9]\n",
            " [4 6 8 4 0 9 9 0 1 5 ... 2 4 5 8 4 0 3 4 9 9]\n",
            " ...\n",
            " [8 0 7 3 8 4 2 8 8 3 ... 1 4 4 4 3 4 2 0 4 8]\n",
            " [8 3 2 0 1 7 0 7 6 7 ... 3 8 2 3 6 6 3 5 2 5]\n",
            " [1 7 1 6 8 0 7 6 5 5 ... 8 0 2 7 2 3 7 0 5 0]\n",
            " [0 7 3 0 9 6 4 4 0 9 ... 2 6 6 8 6 2 0 7 2 7]\n",
            " [7 4 0 9 6 9 4 7 8 6 ... 4 2 7 3 0 0 9 2 8 6]\n",
            " [1 8 9 1 2 9 1 2 5 8 ... 1 0 8 2 0 6 9 4 4 0]\n",
            " [8 6 7 8 5 4 5 1 3 2 ... 7 9 8 5 3 0 7 6 1 7]\n",
            " [4 6 3 4 7 0 0 3 2 9 ... 5 0 3 0 1 4 7 7 2 3]\n",
            " [9 5 9 2 1 5 4 9 4 9 ... 3 0 5 3 4 4 8 0 1 5]\n",
            " [4 6 2 2 9 1 2 9 0 4 ... 0 2 1 7 5 8 7 9 2 4]]\n"
          ]
        }
      ]
    },
    {
      "cell_type": "markdown",
      "source": [
        "**61) Calculate arithmetic means of these arrays (elementwise) and print result to the console.**"
      ],
      "metadata": {
        "id": "jUQKcq64Z6bN"
      }
    },
    {
      "cell_type": "code",
      "source": [
        "A = np.array([[3, 4, 9, 2],\n",
        "              [5, 3, 2, 5]])\n",
        "B = np.array([[4, 3, 2, 5],\n",
        "              [6, 3, 1, 6]])"
      ],
      "metadata": {
        "id": "knBe1GYXZ6rc"
      },
      "execution_count": 119,
      "outputs": []
    },
    {
      "cell_type": "code",
      "source": [
        "print((A+B)/2)"
      ],
      "metadata": {
        "id": "VYlRR3jFZ61h",
        "colab": {
          "base_uri": "https://localhost:8080/"
        },
        "outputId": "33c4b135-b38f-4f8b-a6a5-9075cfb3179e"
      },
      "execution_count": 120,
      "outputs": [
        {
          "output_type": "stream",
          "name": "stdout",
          "text": [
            "[[3.5 3.5 5.5 3.5]\n",
            " [5.5 3.  1.5 5.5]]\n"
          ]
        }
      ]
    },
    {
      "cell_type": "markdown",
      "source": [
        "**62) Multiply these arrays (elementwise) and print result to the console.**\n"
      ],
      "metadata": {
        "id": "xjvQFdlwZ7KA"
      }
    },
    {
      "cell_type": "code",
      "source": [
        "A = np.array([[3, 4, 9, 2],\n",
        "              [5, 3, 2, 5]])\n",
        "B = np.array([[4, 3, 2, 5],\n",
        "              [6, 3, 1, 6]])\n"
      ],
      "metadata": {
        "id": "TOe6AiG_Z7YE"
      },
      "execution_count": 121,
      "outputs": []
    },
    {
      "cell_type": "code",
      "source": [
        "print(A*B)"
      ],
      "metadata": {
        "id": "qMj_7C_vZ7hi",
        "colab": {
          "base_uri": "https://localhost:8080/"
        },
        "outputId": "e10f7927-262a-412f-927c-8cca21b102cf"
      },
      "execution_count": 122,
      "outputs": [
        {
          "output_type": "stream",
          "name": "stdout",
          "text": [
            "[[12 12 18 10]\n",
            " [30  9  2 30]]\n"
          ]
        }
      ]
    },
    {
      "cell_type": "markdown",
      "source": [
        "**64) Calculate the square root of each element of this array and print result to the console.**\n",
        "\n"
      ],
      "metadata": {
        "id": "NbuK3qQtZ7uI"
      }
    },
    {
      "cell_type": "code",
      "source": [
        "A = np.array([[3, 4, 9, 2],\n",
        "              [5, 3, 2, 5]])"
      ],
      "metadata": {
        "id": "oxnqD2ahZ8CD"
      },
      "execution_count": 123,
      "outputs": []
    },
    {
      "cell_type": "code",
      "source": [
        "print(np.sqrt(A))"
      ],
      "metadata": {
        "id": "90zgCUB4Z8MK",
        "colab": {
          "base_uri": "https://localhost:8080/"
        },
        "outputId": "4cf742f6-484d-47be-c535-15aa224d96c1"
      },
      "execution_count": 124,
      "outputs": [
        {
          "output_type": "stream",
          "name": "stdout",
          "text": [
            "[[1.73205081 2.         3.         1.41421356]\n",
            " [2.23606798 1.73205081 1.41421356 2.23606798]]\n"
          ]
        }
      ]
    },
    {
      "cell_type": "markdown",
      "source": [
        "**65) Check the Pythagorean formula for sines and cosines on the A array and then compare the result with the B array. Use the np.allclose() function in this exercise. In response, print result to the console.**\n"
      ],
      "metadata": {
        "id": "cOq4dAPcZ8ZK"
      }
    },
    {
      "cell_type": "code",
      "source": [
        "A = np.linspace(0, np.pi / 2, 20)\n",
        "B = np.full(shape=(20,), fill_value=1, dtype='float')\n",
        "A"
      ],
      "metadata": {
        "id": "oig6-sJKZ8x4",
        "colab": {
          "base_uri": "https://localhost:8080/"
        },
        "outputId": "6a370c0c-e9e1-451d-8bcf-9c94acd267b5"
      },
      "execution_count": 125,
      "outputs": [
        {
          "output_type": "execute_result",
          "data": {
            "text/plain": [
              "array([0.        , 0.08267349, 0.16534698, 0.24802047, 0.33069396,\n",
              "       0.41336745, 0.49604095, 0.57871444, 0.66138793, 0.74406142,\n",
              "       0.82673491, 0.9094084 , 0.99208189, 1.07475538, 1.15742887,\n",
              "       1.24010236, 1.32277585, 1.40544935, 1.48812284, 1.57079633])"
            ]
          },
          "metadata": {},
          "execution_count": 125
        }
      ]
    },
    {
      "cell_type": "code",
      "source": [
        "print(np.allclose(np.power(np.sin(A),2)+np.power(np.cos(A),2),B))"
      ],
      "metadata": {
        "id": "de60Ozd7Z8o4",
        "colab": {
          "base_uri": "https://localhost:8080/"
        },
        "outputId": "49ef8c11-03f6-48d8-ae54-41d6eb9d1c37"
      },
      "execution_count": 126,
      "outputs": [
        {
          "output_type": "stream",
          "name": "stdout",
          "text": [
            "True\n"
          ]
        }
      ]
    },
    {
      "cell_type": "markdown",
      "source": [
        "**65) Perform matrix multiplication A x B and print result to the console.**"
      ],
      "metadata": {
        "id": "IgQi5IneZ87z"
      }
    },
    {
      "cell_type": "code",
      "source": [
        "A = np.array([[2, 3],\n",
        "              [-4, 2],\n",
        "              [5, 0]])\n",
        "B = np.array([[4, 3, 2],\n",
        "              [-1, 0, 2]])"
      ],
      "metadata": {
        "id": "lHkT4cckZ9QG"
      },
      "execution_count": 127,
      "outputs": []
    },
    {
      "cell_type": "code",
      "source": [
        "A@B"
      ],
      "metadata": {
        "id": "3ZKq7d1vZ9Zz",
        "colab": {
          "base_uri": "https://localhost:8080/"
        },
        "outputId": "7267533b-e2f8-4dfb-a9fa-9909f985ba8c"
      },
      "execution_count": 128,
      "outputs": [
        {
          "output_type": "execute_result",
          "data": {
            "text/plain": [
              "array([[  5,   6,  10],\n",
              "       [-18, -12,  -4],\n",
              "       [ 20,  15,  10]])"
            ]
          },
          "metadata": {},
          "execution_count": 128
        }
      ]
    },
    {
      "cell_type": "markdown",
      "source": [
        "**66) Calculate the determinant of this matrix and print it to the console.**"
      ],
      "metadata": {
        "id": "j06lyWeHZ9oY"
      }
    },
    {
      "cell_type": "code",
      "source": [
        "A = np.array([[-2, 0, 4],\n",
        "              [5, 2, -1],\n",
        "              [-4, 2, 4]])"
      ],
      "metadata": {
        "id": "QJ9XKD_bZ9zz"
      },
      "execution_count": 129,
      "outputs": []
    },
    {
      "cell_type": "code",
      "source": [
        "print(np.linalg.det(A))"
      ],
      "metadata": {
        "id": "36lFQ3L7Z99W",
        "colab": {
          "base_uri": "https://localhost:8080/"
        },
        "outputId": "9ce22c12-2134-4b40-a31d-dabfbb421a62"
      },
      "execution_count": 130,
      "outputs": [
        {
          "output_type": "stream",
          "name": "stdout",
          "text": [
            "51.999999999999986\n"
          ]
        }
      ]
    },
    {
      "cell_type": "markdown",
      "source": [
        "**67) alculate eigenvalues and their corresponding eigenvectors of this matrix and print to the console as shown below.**\n"
      ],
      "metadata": {
        "id": "-x-fv05iZ-I4"
      }
    },
    {
      "cell_type": "code",
      "source": [
        "A = np.array([[5, 8, 16],\n",
        "              [4, 1, 8],\n",
        "              [-4, 4, -11]])"
      ],
      "metadata": {
        "id": "ZcqK9Os3Z-TL"
      },
      "execution_count": 131,
      "outputs": []
    },
    {
      "cell_type": "code",
      "source": [
        "val,vec=np.linalg.eig(A)\n",
        "print(val)\n",
        "print(vec)"
      ],
      "metadata": {
        "id": "uFhqHnseZ-dZ",
        "colab": {
          "base_uri": "https://localhost:8080/"
        },
        "outputId": "08fa97c0-85af-4763-f75b-e89d6b4886d6"
      },
      "execution_count": 132,
      "outputs": [
        {
          "output_type": "stream",
          "name": "stdout",
          "text": [
            "[-9.24621125 -3.          7.24621125]\n",
            "[[-0.62616472 -0.89442719  0.89015941]\n",
            " [-0.31308236  0.          0.4450797 ]\n",
            " [ 0.71407086  0.4472136  -0.09757197]]\n"
          ]
        }
      ]
    },
    {
      "cell_type": "markdown",
      "source": [
        "**68) Find the inverse matrix to this matrix and print it to the console.**"
      ],
      "metadata": {
        "id": "NzLjkdJ-Z-oo"
      }
    },
    {
      "cell_type": "code",
      "source": [
        "A = np.array([[5, 8, 16],\n",
        "              [4, 1, 8],\n",
        "              [-4, 4, -11]])"
      ],
      "metadata": {
        "id": "BJ8D4XJVZ-0u"
      },
      "execution_count": 133,
      "outputs": []
    },
    {
      "cell_type": "code",
      "source": [
        "print(np.linalg.inv(A))"
      ],
      "metadata": {
        "id": "2kL_6Wg0Z-_Y",
        "colab": {
          "base_uri": "https://localhost:8080/"
        },
        "outputId": "c1f4d822-70a1-435c-8109-aa6a0924704f"
      },
      "execution_count": 134,
      "outputs": [
        {
          "output_type": "stream",
          "name": "stdout",
          "text": [
            "[[-0.21393035  0.75621891  0.23880597]\n",
            " [ 0.05970149  0.04477612  0.11940299]\n",
            " [ 0.09950249 -0.25870647 -0.13432836]]\n"
          ]
        }
      ]
    },
    {
      "cell_type": "markdown",
      "source": [
        "**69) Find the trace of this matrix (sum of elements on the main diagonal) and print result to the console.**"
      ],
      "metadata": {
        "id": "xP4oU34KZ_I6"
      }
    },
    {
      "cell_type": "code",
      "source": [
        "A = np.array([[5, 8, 16],\n",
        "              [4, 1, 8],\n",
        "              [-4, 4, -11]])"
      ],
      "metadata": {
        "id": "yqYQEuwrZ_To"
      },
      "execution_count": 135,
      "outputs": []
    },
    {
      "cell_type": "code",
      "source": [
        "print(np.trace(A))"
      ],
      "metadata": {
        "id": "uPsqO9ErZ_d2",
        "colab": {
          "base_uri": "https://localhost:8080/"
        },
        "outputId": "4e1677be-6dec-4216-e14f-4bbe2fba96ea"
      },
      "execution_count": 136,
      "outputs": [
        {
          "output_type": "stream",
          "name": "stdout",
          "text": [
            "-5\n"
          ]
        }
      ]
    },
    {
      "cell_type": "markdown",
      "source": [
        "**70) Transform B array to perform the matrix multiplication A x B. Then perform this multiplication and print result to the console.**\n"
      ],
      "metadata": {
        "id": "mhZU-_fEZ_mg"
      }
    },
    {
      "cell_type": "code",
      "source": [
        "A = np.array([[2, 0],\n",
        "              [4, 2],\n",
        "              [5, 3],\n",
        "              [4, 2]])\n",
        "B = np.array([[4, 0, 2, 1, 1, 0, 2, 9]])"
      ],
      "metadata": {
        "id": "cwwUYQ20Z_xk"
      },
      "execution_count": 137,
      "outputs": []
    },
    {
      "cell_type": "code",
      "source": [
        "B=np.reshape(B,(2,4))\n",
        "A@B"
      ],
      "metadata": {
        "id": "_bmUJmhIZ_7U",
        "colab": {
          "base_uri": "https://localhost:8080/"
        },
        "outputId": "cdb710bf-5af3-43d1-d2a7-07e05311b6b7"
      },
      "execution_count": 138,
      "outputs": [
        {
          "output_type": "execute_result",
          "data": {
            "text/plain": [
              "array([[ 8,  0,  4,  2],\n",
              "       [18,  0, 12, 22],\n",
              "       [23,  0, 16, 32],\n",
              "       [18,  0, 12, 22]])"
            ]
          },
          "metadata": {},
          "execution_count": 138
        }
      ]
    },
    {
      "cell_type": "markdown",
      "source": [
        "**71) Starting with the second row of this array, randomly shuffle the rows and print result to the console.**\n"
      ],
      "metadata": {
        "id": "B4bAJGqSaAEY"
      }
    },
    {
      "cell_type": "code",
      "source": [
        "A = np.array([['id', 'price'],\n",
        "              ['001', 14.99],\n",
        "              ['002', 4.99],\n",
        "              ['003', 7.99],\n",
        "              ['004', 2.49],\n",
        "              ['005', 1.49]])"
      ],
      "metadata": {
        "id": "I9uWzZENaAR5"
      },
      "execution_count": 139,
      "outputs": []
    },
    {
      "cell_type": "code",
      "source": [
        "np.random.seed(42)\n",
        "np.random.shuffle(A[1:])\n",
        "print(A)"
      ],
      "metadata": {
        "id": "tf2T3JEbaAbu",
        "colab": {
          "base_uri": "https://localhost:8080/"
        },
        "outputId": "c55f0954-9c14-4b49-df5e-fdb2cb429228"
      },
      "execution_count": 140,
      "outputs": [
        {
          "output_type": "stream",
          "name": "stdout",
          "text": [
            "[['id' 'price']\n",
            " ['002' '4.99']\n",
            " ['005' '1.49']\n",
            " ['003' '7.99']\n",
            " ['001' '14.99']\n",
            " ['004' '2.49']]\n"
          ]
        }
      ]
    },
    {
      "cell_type": "markdown",
      "source": [
        "**72) Return a list of indexes that sorts this array in ascending order and print it to the console.**"
      ],
      "metadata": {
        "id": "lGAXucbraAq0"
      }
    },
    {
      "cell_type": "code",
      "source": [
        "A = np.array([0.2, 0.15, 0.1, 0.3, 0.2, 0.05])"
      ],
      "metadata": {
        "id": "WP5-Cy4waA3J"
      },
      "execution_count": 141,
      "outputs": []
    },
    {
      "cell_type": "code",
      "source": [
        "print(np.argsort(A))"
      ],
      "metadata": {
        "id": "UeVVNZbcaBBN",
        "colab": {
          "base_uri": "https://localhost:8080/"
        },
        "outputId": "6526953e-69cc-42ce-ae44-990912d4612e"
      },
      "execution_count": 142,
      "outputs": [
        {
          "output_type": "stream",
          "name": "stdout",
          "text": [
            "[5 2 1 0 4 3]\n"
          ]
        }
      ]
    },
    {
      "cell_type": "markdown",
      "source": [
        "**73) Round the values of this array to three decimal places and print result to the console.**"
      ],
      "metadata": {
        "id": "EfrzVkMLaBK6"
      }
    },
    {
      "cell_type": "code",
      "source": [
        "A = np.random.randn(10, 8)"
      ],
      "metadata": {
        "id": "Rd9vD5jvaBXk"
      },
      "execution_count": 143,
      "outputs": []
    },
    {
      "cell_type": "code",
      "source": [
        "print(np.round(A,3))"
      ],
      "metadata": {
        "id": "nAGOS4dQaBhn",
        "colab": {
          "base_uri": "https://localhost:8080/"
        },
        "outputId": "684c616e-d3a0-436b-fbaf-5a3bf2ba4055"
      },
      "execution_count": 144,
      "outputs": [
        {
          "output_type": "stream",
          "name": "stdout",
          "text": [
            "[[ 0.474  1.368 -0.917 -0.124 -2.011 -0.493  0.393 -0.929]\n",
            " [ 0.08  -0.16   0.022 -0.428 -0.532 -0.117  0.222 -0.768]\n",
            " [ 0.142 -0.035  1.134 -0.105 -0.525  1.913 -2.027  1.119]\n",
            " [ 0.779 -1.101  1.13   0.373 -0.386 -1.159  0.566 -0.704]\n",
            " [-1.378 -0.353 -0.461  0.067 -0.176  1.201  0.698 -0.172]\n",
            " [-0.907  1.189  0.786  2.656  0.263  1.642  0.461  0.086]\n",
            " [-1.51   0.722 -0.843 -0.513 -0.044 -0.275 -1.563 -0.796]\n",
            " [ 0.931  0.678  0.698  0.174  0.662  0.241 -0.168  1.165]\n",
            " [-0.246 -0.77   1.212  1.233 -1.574  0.638 -2.044  1.069]\n",
            " [-0.934  0.784 -0.615  0.333 -1.381 -0.281 -0.06   0.961]]\n"
          ]
        }
      ]
    },
    {
      "cell_type": "markdown",
      "source": [
        "**74) Calculate  the roots of the following polynomial:\n",
        "![image.png](data:image/png;base64,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)\n",
        "In response, print these roots to the console.**"
      ],
      "metadata": {
        "id": "Tc5M8_k3aBsa"
      }
    },
    {
      "cell_type": "code",
      "source": [
        "W=np.array([4,5,1])"
      ],
      "metadata": {
        "id": "3FXW6AgKaB5N"
      },
      "execution_count": 145,
      "outputs": []
    },
    {
      "cell_type": "code",
      "source": [
        "print(np.roots(W))"
      ],
      "metadata": {
        "id": "l3q4rNySaCEK",
        "colab": {
          "base_uri": "https://localhost:8080/"
        },
        "outputId": "de2a805c-4c41-44c1-ebb6-30caeb4ab922"
      },
      "execution_count": 146,
      "outputs": [
        {
          "output_type": "stream",
          "name": "stdout",
          "text": [
            "[-1.   -0.25]\n"
          ]
        }
      ]
    },
    {
      "cell_type": "markdown",
      "source": [
        "**75) Calculate the roots of the following polynomials: ![image.png](data:image/png;base64,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) \n",
        "In response print these roots to the console as shown below.**"
      ],
      "metadata": {
        "id": "CnKSqyPkaCN-"
      }
    },
    {
      "cell_type": "code",
      "source": [
        "Q=np.array([2,4,-5,1])\n",
        "W=np.array([2,0,-5,1])"
      ],
      "metadata": {
        "id": "0X22Mox2aCZt"
      },
      "execution_count": 147,
      "outputs": []
    },
    {
      "cell_type": "code",
      "source": [
        "print(np.roots(Q))\n",
        "print(np.roots(W))"
      ],
      "metadata": {
        "id": "hDatVEpfaCj1",
        "colab": {
          "base_uri": "https://localhost:8080/"
        },
        "outputId": "fe09e0c7-1c9b-4ec1-9818-c78fb2de12cd"
      },
      "execution_count": 148,
      "outputs": [
        {
          "output_type": "stream",
          "name": "stdout",
          "text": [
            "[-2.91610583  0.65388685  0.26221898]\n",
            "[-1.67298165  1.46961743  0.20336421]\n"
          ]
        }
      ]
    },
    {
      "cell_type": "markdown",
      "source": [
        "**76) The following polynomials are given: ![image.png](data:image/png;base64,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)\n",
        "  Perform the following operations and print results to the console as shown below:\n",
        "![image.png](data:image/png;base64,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)\n",
        ")**"
      ],
      "metadata": {
        "id": "JSZjrXYTaCuW"
      }
    },
    {
      "cell_type": "code",
      "source": [
        "W=np.array([4,5,1])\n",
        "Q=np.array([2,4,-5,1])"
      ],
      "metadata": {
        "id": "kXFYOyNIaC51"
      },
      "execution_count": 149,
      "outputs": []
    },
    {
      "cell_type": "code",
      "source": [
        "print(np.polyadd(W,Q))\n",
        "print(np.polysub(W,Q))\n",
        "print(np.polymul(W,Q))\n",
        "print(np.polyadd(W,2*Q))"
      ],
      "metadata": {
        "id": "CoFREUHdaDES",
        "colab": {
          "base_uri": "https://localhost:8080/"
        },
        "outputId": "4dbaa1b8-4d4c-4ebb-af00-1fb894c90203"
      },
      "execution_count": 150,
      "outputs": [
        {
          "output_type": "stream",
          "name": "stdout",
          "text": [
            "[2 8 0 2]\n",
            "[-2  0 10  0]\n",
            "[  8  26   2 -17   0   1]\n",
            "[ 4 12 -5  3]\n"
          ]
        }
      ]
    },
    {
      "cell_type": "markdown",
      "source": [
        "**77) Use the sign function for this array. Reminder: The sign function works as follows: returns -1 for negative values, zero for zero, and 1 for positive values.**\n"
      ],
      "metadata": {
        "id": "jeYwLpxaldZ1"
      }
    },
    {
      "cell_type": "code",
      "source": [
        "A = np.array([[-4, 3, 0, 1, -5],\n",
        "              [6, -4, -2, 1, 3]])"
      ],
      "metadata": {
        "id": "cS9ffk4faDeA"
      },
      "execution_count": 151,
      "outputs": []
    },
    {
      "cell_type": "code",
      "source": [
        "print(np.sign(A))"
      ],
      "metadata": {
        "id": "xx9LfSkzaDpy",
        "colab": {
          "base_uri": "https://localhost:8080/"
        },
        "outputId": "28c83164-d635-4f59-ea3b-077da10174de"
      },
      "execution_count": 152,
      "outputs": [
        {
          "output_type": "stream",
          "name": "stdout",
          "text": [
            "[[-1  1  0  1 -1]\n",
            " [ 1 -1 -1  1  1]]\n"
          ]
        }
      ]
    },
    {
      "cell_type": "markdown",
      "source": [
        "**78) Using the np.arange() function, generate the following array:**\n",
        "\n",
        "['2021-01-01' '2021-01-02' '2021-01-03' '2021-01-04' '2021-01-05'\n",
        " '2021-01-06' '2021-01-07' '2021-01-08' '2021-01-09' '2021-01-10'\n",
        " '2021-01-11' '2021-01-12' '2021-01-13' '2021-01-14' '2021-01-15'\n",
        " '2021-01-16' '2021-01-17' '2021-01-18' '2021-01-19' '2021-01-20'\n",
        " '2021-01-21' '2021-01-22' '2021-01-23' '2021-01-24' '2021-01-25'\n",
        " '2021-01-26' '2021-01-27' '2021-01-28' '2021-01-29' '2021-01-30'\n",
        " '2021-01-31']"
      ],
      "metadata": {
        "id": "RiAUBK71aDy_"
      }
    },
    {
      "cell_type": "code",
      "source": [
        "print(np.arange('2021-01-01','2021-02-01',dtype='datetime64[D]'))"
      ],
      "metadata": {
        "id": "0rNruaMmaD-t",
        "colab": {
          "base_uri": "https://localhost:8080/"
        },
        "outputId": "ee069655-9e09-44eb-f64e-cb837799ead8"
      },
      "execution_count": 153,
      "outputs": [
        {
          "output_type": "stream",
          "name": "stdout",
          "text": [
            "['2021-01-01' '2021-01-02' '2021-01-03' '2021-01-04' '2021-01-05'\n",
            " '2021-01-06' '2021-01-07' '2021-01-08' '2021-01-09' '2021-01-10'\n",
            " '2021-01-11' '2021-01-12' '2021-01-13' '2021-01-14' '2021-01-15'\n",
            " '2021-01-16' '2021-01-17' '2021-01-18' '2021-01-19' '2021-01-20'\n",
            " '2021-01-21' '2021-01-22' '2021-01-23' '2021-01-24' '2021-01-25'\n",
            " '2021-01-26' '2021-01-27' '2021-01-28' '2021-01-29' '2021-01-30'\n",
            " '2021-01-31']\n"
          ]
        }
      ]
    },
    {
      "cell_type": "markdown",
      "source": [
        "**79) Using the np.arange() function, generate the following array:**\n",
        "\n",
        "[['2021-01' '2021-02' '2021-03']\n",
        " ['2021-04' '2021-05' '2021-06']\n",
        " ['2021-07' '2021-08' '2021-09']\n",
        " ['2021-10' '2021-11' '2021-12']]"
      ],
      "metadata": {
        "id": "_pzc5dfgaEST"
      }
    },
    {
      "cell_type": "code",
      "source": [
        "from numpy.core.memmap import dtype\n",
        "print(np.arange('2021-01','2022-01',dtype='datetime64[M]').reshape((4,3)))"
      ],
      "metadata": {
        "id": "vZO7UZNsaEdy",
        "colab": {
          "base_uri": "https://localhost:8080/"
        },
        "outputId": "f9aed3f7-680b-42df-c7b4-12fe7ba4183e"
      },
      "execution_count": 154,
      "outputs": [
        {
          "output_type": "stream",
          "name": "stdout",
          "text": [
            "[['2021-01' '2021-02' '2021-03']\n",
            " ['2021-04' '2021-05' '2021-06']\n",
            " ['2021-07' '2021-08' '2021-09']\n",
            " ['2021-10' '2021-11' '2021-12']]\n"
          ]
        }
      ]
    },
    {
      "cell_type": "markdown",
      "source": [
        "**80)Using the np.datetime64() function, generate today's date and print result to the console.**"
      ],
      "metadata": {
        "id": "7-Dk2JQIaEyP"
      }
    },
    {
      "cell_type": "code",
      "source": [
        "print(np.datetime64('today'))"
      ],
      "metadata": {
        "id": "n5i2QnARaE-G",
        "colab": {
          "base_uri": "https://localhost:8080/"
        },
        "outputId": "b8bf74c3-a8aa-47b1-ccb6-88e424339c3c"
      },
      "execution_count": 155,
      "outputs": [
        {
          "output_type": "stream",
          "name": "stdout",
          "text": [
            "2022-11-14\n"
          ]
        }
      ]
    },
    {
      "cell_type": "markdown",
      "source": [
        "**81) Using Numpy generate all dates for mondays from January and February 2020 as an array and print result to the console.**"
      ],
      "metadata": {
        "id": "uQ9ISXwXaFUV"
      }
    },
    {
      "cell_type": "code",
      "source": [
        "print(np.arange('2020-01-06','2020-03',dtype='datetime64[D]')[::7])"
      ],
      "metadata": {
        "id": "yUgk-OMIaFgx",
        "colab": {
          "base_uri": "https://localhost:8080/"
        },
        "outputId": "522354e3-132a-413a-8447-4ead32561556"
      },
      "execution_count": 156,
      "outputs": [
        {
          "output_type": "stream",
          "name": "stdout",
          "text": [
            "['2020-01-06' '2020-01-13' '2020-01-20' '2020-01-27' '2020-02-03'\n",
            " '2020-02-10' '2020-02-17' '2020-02-24']\n"
          ]
        }
      ]
    },
    {
      "cell_type": "markdown",
      "source": [
        "**82) Merge them together as shown below and print result to the console.**"
      ],
      "metadata": {
        "id": "XuixbSgHaF09"
      }
    },
    {
      "cell_type": "code",
      "source": [
        "A = np.array(['001', '002', '003'], dtype=np.str)\n",
        "B = np.array(['XC', 'YC', 'ZC'], dtype=np.str)"
      ],
      "metadata": {
        "id": "anVc-QPOaGBh",
        "colab": {
          "base_uri": "https://localhost:8080/"
        },
        "outputId": "2cb667f7-518c-44bb-bbf5-4d82d996f641"
      },
      "execution_count": 157,
      "outputs": [
        {
          "output_type": "stream",
          "name": "stderr",
          "text": [
            "/usr/local/lib/python3.7/dist-packages/ipykernel_launcher.py:1: DeprecationWarning: `np.str` is a deprecated alias for the builtin `str`. To silence this warning, use `str` by itself. Doing this will not modify any behavior and is safe. If you specifically wanted the numpy scalar type, use `np.str_` here.\n",
            "Deprecated in NumPy 1.20; for more details and guidance: https://numpy.org/devdocs/release/1.20.0-notes.html#deprecations\n",
            "  \"\"\"Entry point for launching an IPython kernel.\n",
            "/usr/local/lib/python3.7/dist-packages/ipykernel_launcher.py:2: DeprecationWarning: `np.str` is a deprecated alias for the builtin `str`. To silence this warning, use `str` by itself. Doing this will not modify any behavior and is safe. If you specifically wanted the numpy scalar type, use `np.str_` here.\n",
            "Deprecated in NumPy 1.20; for more details and guidance: https://numpy.org/devdocs/release/1.20.0-notes.html#deprecations\n",
            "  \n"
          ]
        }
      ]
    },
    {
      "cell_type": "code",
      "source": [
        "print(np.char.add(A,B))"
      ],
      "metadata": {
        "id": "TRWEtyyoaGLy",
        "colab": {
          "base_uri": "https://localhost:8080/"
        },
        "outputId": "7efc0ed2-73a7-4194-d024-0a0f75284acc"
      },
      "execution_count": 158,
      "outputs": [
        {
          "output_type": "stream",
          "name": "stdout",
          "text": [
            "['001XC' '002YC' '003ZC']\n"
          ]
        }
      ]
    },
    {
      "cell_type": "markdown",
      "source": [
        "**83) Add '000' (3 zeros) at the beginning of each element of this array as shown below and print result to the console.**"
      ],
      "metadata": {
        "id": "X8EXgcrmaGVA"
      }
    },
    {
      "cell_type": "code",
      "source": [
        "A = np.array(['1', '2', '3'], dtype=np.str)\n",
        "B=np.array('000')"
      ],
      "metadata": {
        "id": "04rf9PpPaGlz",
        "colab": {
          "base_uri": "https://localhost:8080/"
        },
        "outputId": "456a3666-9cd4-45ff-fa9e-490221403d4f"
      },
      "execution_count": 159,
      "outputs": [
        {
          "output_type": "stream",
          "name": "stderr",
          "text": [
            "/usr/local/lib/python3.7/dist-packages/ipykernel_launcher.py:1: DeprecationWarning: `np.str` is a deprecated alias for the builtin `str`. To silence this warning, use `str` by itself. Doing this will not modify any behavior and is safe. If you specifically wanted the numpy scalar type, use `np.str_` here.\n",
            "Deprecated in NumPy 1.20; for more details and guidance: https://numpy.org/devdocs/release/1.20.0-notes.html#deprecations\n",
            "  \"\"\"Entry point for launching an IPython kernel.\n"
          ]
        }
      ]
    },
    {
      "cell_type": "code",
      "source": [
        "print(np.char.add(B,A))"
      ],
      "metadata": {
        "id": "qtpM-OvNaGv-",
        "colab": {
          "base_uri": "https://localhost:8080/"
        },
        "outputId": "ddeb1e88-a8a4-4c3d-e15a-97c6b4bc6ff8"
      },
      "execution_count": 160,
      "outputs": [
        {
          "output_type": "stream",
          "name": "stdout",
          "text": [
            "['0001' '0002' '0003']\n"
          ]
        }
      ]
    },
    {
      "cell_type": "code",
      "source": [
        "print(np.char.rjust(A,4,'0'))"
      ],
      "metadata": {
        "colab": {
          "base_uri": "https://localhost:8080/"
        },
        "id": "VKsozGvhpWTa",
        "outputId": "840ce377-3ff8-469e-a3c8-acee0f7fa177"
      },
      "execution_count": 161,
      "outputs": [
        {
          "output_type": "stream",
          "name": "stdout",
          "text": [
            "['0001' '0002' '0003']\n"
          ]
        }
      ]
    },
    {
      "cell_type": "code",
      "source": [
        "print(np.char.zfill(A,4))"
      ],
      "metadata": {
        "colab": {
          "base_uri": "https://localhost:8080/"
        },
        "id": "5QRHPx6GpWhM",
        "outputId": "bc28b1c9-b953-40a6-feb4-edcab3e370c9"
      },
      "execution_count": 162,
      "outputs": [
        {
          "output_type": "stream",
          "name": "stdout",
          "text": [
            "['0001' '0002' '0003']\n"
          ]
        }
      ]
    },
    {
      "cell_type": "markdown",
      "source": [
        "**84) Split each element of this array by space character as shown below.**"
      ],
      "metadata": {
        "id": "5SRBCdk5aG65"
      }
    },
    {
      "cell_type": "code",
      "source": [
        "A = np.array([['PLW CDR 11B TEN', 'AMC LPP'],\n",
        "              ['CDR PKO KGH', 'CCC QMK']], dtype=np.str)"
      ],
      "metadata": {
        "id": "lmVAvYqFaHKD",
        "colab": {
          "base_uri": "https://localhost:8080/"
        },
        "outputId": "0de0c7cb-1d79-4e04-e926-a08732351a75"
      },
      "execution_count": 163,
      "outputs": [
        {
          "output_type": "stream",
          "name": "stderr",
          "text": [
            "/usr/local/lib/python3.7/dist-packages/ipykernel_launcher.py:2: DeprecationWarning: `np.str` is a deprecated alias for the builtin `str`. To silence this warning, use `str` by itself. Doing this will not modify any behavior and is safe. If you specifically wanted the numpy scalar type, use `np.str_` here.\n",
            "Deprecated in NumPy 1.20; for more details and guidance: https://numpy.org/devdocs/release/1.20.0-notes.html#deprecations\n",
            "  \n"
          ]
        }
      ]
    },
    {
      "cell_type": "code",
      "source": [
        "print(np.char.split(A))"
      ],
      "metadata": {
        "id": "9SwlsCgqaHUA",
        "colab": {
          "base_uri": "https://localhost:8080/"
        },
        "outputId": "d6e34072-c168-466c-ad36-f3ee58fa456d"
      },
      "execution_count": 164,
      "outputs": [
        {
          "output_type": "stream",
          "name": "stdout",
          "text": [
            "[[list(['PLW', 'CDR', '11B', 'TEN']) list(['AMC', 'LPP'])]\n",
            " [list(['CDR', 'PKO', 'KGH']) list(['CCC', 'QMK'])]]\n"
          ]
        }
      ]
    },
    {
      "cell_type": "markdown",
      "source": [
        "**85) Replace all # characters with spaces and then strip all unnecessary white characters around the text as shown below. In response, print this array to the console.**"
      ],
      "metadata": {
        "id": "jjznfWIjaHfT"
      }
    },
    {
      "cell_type": "code",
      "source": [
        "A = np.array([['#summer#time#mood'],\n",
        "              ['#sport#time']])"
      ],
      "metadata": {
        "id": "_XPukEsFaHs2"
      },
      "execution_count": 165,
      "outputs": []
    },
    {
      "cell_type": "code",
      "source": [
        "A=np.char.replace(A,'#',' ')\n",
        "print(np.char.strip(A))"
      ],
      "metadata": {
        "id": "qzNPEjbtaH2_",
        "colab": {
          "base_uri": "https://localhost:8080/"
        },
        "outputId": "abdb87b2-1509-461b-9e51-a5b6740836d4"
      },
      "execution_count": 166,
      "outputs": [
        {
          "output_type": "stream",
          "name": "stdout",
          "text": [
            "[['summer time mood']\n",
            " ['sport time']]\n"
          ]
        }
      ]
    },
    {
      "cell_type": "markdown",
      "source": [
        "**86) Count the number of occurrences of the word 'time' in each element of this array.**"
      ],
      "metadata": {
        "id": "Z8RJt2ZgaIB3"
      }
    },
    {
      "cell_type": "code",
      "source": [
        "A = np.array([['#summer#time#mood', '#vibe'],\n",
        "              ['#sport#time', '#good#time'],\n",
        "              ['#event#summer', '#fast#move']])"
      ],
      "metadata": {
        "id": "l9csc-lkaIQC"
      },
      "execution_count": 167,
      "outputs": []
    },
    {
      "cell_type": "code",
      "source": [
        "print(np.char.count(A,'time'))"
      ],
      "metadata": {
        "id": "yG7oWAmmaIa3",
        "colab": {
          "base_uri": "https://localhost:8080/"
        },
        "outputId": "ab397c8f-08de-4a53-dffe-aa82c1a09815"
      },
      "execution_count": 168,
      "outputs": [
        {
          "output_type": "stream",
          "name": "stdout",
          "text": [
            "[[1 0]\n",
            " [1 1]\n",
            " [0 0]]\n"
          ]
        }
      ]
    },
    {
      "cell_type": "markdown",
      "source": [
        "**87) Instrument | ISIN code | Package | Package (PLN) | Share in portfolio (%) | Share in trading shares and PDAs per session (%) | Average spread per session Split text into lines. Then split each line by the tab character \\t and create an array (without headers) containing the following data as shown below. Assign this array to the result variable and print it to the console.**\n"
      ],
      "metadata": {
        "id": "JiO2wBNsaIrU"
      }
    },
    {
      "cell_type": "code",
      "source": [
        "text = \"\"\"ALIOR    PLALIOR00045    88 860 000    1 386 216 000    0,891    2,16    14\n",
        "CCC    PLCCC0000016    27 918 000    1 292 603 400    0,831    5,28    42\n",
        "CDPROJEKT    PLOPTTC00011    67 348 000    22 864 646 000    14,702    7,39    7\n",
        "CYFRPLSAT    PLCFRPT00013    275 301 000    6 854 994 900    4,408    1,17    14\n",
        "DINOPL    PLDINPL00011    47 937 000    8 916 282 000    5,733    9,13    12\n",
        "JSW    PLJSW0000015    52 636 000    716 902 320    0,461    1,51    24\n",
        "KGHM    PLKGHM000017    136 410 000    9 881 540 400    6,354    4,78    8\n",
        "LOTOS    PLLOTOS00025    86 543 000    5 609 717 260    3,607    2,91    16\n",
        "LPP    PLLPP0000011    1 306 000    7 444 200 000    4,787    1,43    19\n",
        "MBANK    PLBRE0000012    12 997 000    2 830 746 600    1,820    0,42    24\n",
        "ORANGEPL    PLTLKPL00017    647 357 000    4 285 503 340    2,756    1,16    13\n",
        "PEKAO    PLPEKAO00016    176 379 000    9 619 710 660    6,185    5,27    9\n",
        "PGE    PLPGER000010    796 776 000    3 561 588 720    2,290    2,88    18\n",
        "PGNIG    PLPGNIG00014    1 624 608 000    6 072 784 704    3,905    1,56    12\n",
        "PKNORLEN    PLPKN0000018    289 049 000    17 701 360 760    11,382    12,44    8\n",
        "PKOBP    PLPKO0000016    857 593 000    18 807 014 490    12,093    10,49    9\n",
        "PLAY    LU1642887738    114 151 000    3 696 209 380    2,377    1,47    16\n",
        "PZU    PLPZU0000011    568 305 000    17 515 160 100    11,262    6,64    6\n",
        "SANPL    PLBZ00000044    33 207 000    5 213 499 000    3,352    1,91    18\n",
        "TAURONPE    PLTAURN00011    1 043 590 000    1 252 308 000    0,805    1,21    33\"\"\""
      ],
      "metadata": {
        "id": "c9NyWMCeaI3x"
      },
      "execution_count": 169,
      "outputs": []
    },
    {
      "cell_type": "code",
      "source": [
        "lines=text.splitlines()\n",
        "lines=[line.split('\\t') for line in lines]\n",
        "result=np.array(lines,dtype=np.str)\n",
        "print(result)"
      ],
      "metadata": {
        "id": "t-Dnhd-baJCd",
        "colab": {
          "base_uri": "https://localhost:8080/"
        },
        "outputId": "d60b47a6-61fa-4b2e-ff2b-bcf42ca7c612"
      },
      "execution_count": 170,
      "outputs": [
        {
          "output_type": "stream",
          "name": "stdout",
          "text": [
            "[['ALIOR    PLALIOR00045    88 860 000    1 386 216 000    0,891    2,16    14']\n",
            " ['CCC    PLCCC0000016    27 918 000    1 292 603 400    0,831    5,28    42']\n",
            " ['CDPROJEKT    PLOPTTC00011    67 348 000    22 864 646 000    14,702    7,39    7']\n",
            " ['CYFRPLSAT    PLCFRPT00013    275 301 000    6 854 994 900    4,408    1,17    14']\n",
            " ['DINOPL    PLDINPL00011    47 937 000    8 916 282 000    5,733    9,13    12']\n",
            " ['JSW    PLJSW0000015    52 636 000    716 902 320    0,461    1,51    24']\n",
            " ['KGHM    PLKGHM000017    136 410 000    9 881 540 400    6,354    4,78    8']\n",
            " ['LOTOS    PLLOTOS00025    86 543 000    5 609 717 260    3,607    2,91    16']\n",
            " ['LPP    PLLPP0000011    1 306 000    7 444 200 000    4,787    1,43    19']\n",
            " ['MBANK    PLBRE0000012    12 997 000    2 830 746 600    1,820    0,42    24']\n",
            " ['ORANGEPL    PLTLKPL00017    647 357 000    4 285 503 340    2,756    1,16    13']\n",
            " ['PEKAO    PLPEKAO00016    176 379 000    9 619 710 660    6,185    5,27    9']\n",
            " ['PGE    PLPGER000010    796 776 000    3 561 588 720    2,290    2,88    18']\n",
            " ['PGNIG    PLPGNIG00014    1 624 608 000    6 072 784 704    3,905    1,56    12']\n",
            " ['PKNORLEN    PLPKN0000018    289 049 000    17 701 360 760    11,382    12,44    8']\n",
            " ['PKOBP    PLPKO0000016    857 593 000    18 807 014 490    12,093    10,49    9']\n",
            " ['PLAY    LU1642887738    114 151 000    3 696 209 380    2,377    1,47    16']\n",
            " ['PZU    PLPZU0000011    568 305 000    17 515 160 100    11,262    6,64    6']\n",
            " ['SANPL    PLBZ00000044    33 207 000    5 213 499 000    3,352    1,91    18']\n",
            " ['TAURONPE    PLTAURN00011    1 043 590 000    1 252 308 000    0,805    1,21    33']]\n"
          ]
        },
        {
          "output_type": "stream",
          "name": "stderr",
          "text": [
            "/usr/local/lib/python3.7/dist-packages/ipykernel_launcher.py:3: DeprecationWarning: `np.str` is a deprecated alias for the builtin `str`. To silence this warning, use `str` by itself. Doing this will not modify any behavior and is safe. If you specifically wanted the numpy scalar type, use `np.str_` here.\n",
            "Deprecated in NumPy 1.20; for more details and guidance: https://numpy.org/devdocs/release/1.20.0-notes.html#deprecations\n",
            "  This is separate from the ipykernel package so we can avoid doing imports until\n"
          ]
        }
      ]
    },
    {
      "cell_type": "markdown",
      "source": [
        "**88) Remove all spaces in the text and replace all commas with periods. In response, print this array to the console.**"
      ],
      "metadata": {
        "id": "8dv3x7L5aJSZ"
      }
    },
    {
      "cell_type": "code",
      "source": [
        "result = np.array([['ALIOR', 'PLALIOR00045', '88 860 000', '1 386 216 000', '0,891', '2,16', '14'],\n",
        "       ['CCC', 'PLCCC0000016', '27 918 000', '1 292 603 400', '0,831', '5,28', '42'],\n",
        "       ['CDPROJEKT', 'PLOPTTC00011', '67 348 000', '22 864 646 000', '14,702', '7,39', '7'],\n",
        "       ['CYFRPLSAT', 'PLCFRPT00013', '275 301 000', '6 854 994 900', '4,408', '1,17', '14'],\n",
        "       ['DINOPL', 'PLDINPL00011', '47 937 000', '8 916 282 000', '5,733', '9,13', '12'],\n",
        "       ['JSW', 'PLJSW0000015', '52 636 000', '716 902 320', '0,461', '1,51', '24'],\n",
        "       ['KGHM', 'PLKGHM000017', '136 410 000', '9 881 540 400', '6,354', '4,78', '8'],\n",
        "       ['LOTOS', 'PLLOTOS00025', '86 543 000', '5 609 717 260', '3,607', '2,91', '16'],\n",
        "       ['LPP', 'PLLPP0000011', '1 306 000', '7 444 200 000', '4,787', '1,43', '19'],\n",
        "       ['MBANK', 'PLBRE0000012', '12 997 000', '2 830 746 600', '1,820', '0,42', '24'],\n",
        "       ['ORANGEPL', 'PLTLKPL00017', '647 357 000', '4 285 503 340', '2,756', '1,16', '13'],\n",
        "       ['PEKAO', 'PLPEKAO00016', '176 379 000', '9 619 710 660', '6,185', '5,27', '9'],\n",
        "       ['PGE', 'PLPGER000010', '796 776 000', '3 561 588 720', '2,290', '2,88', '18'],\n",
        "       ['PGNIG', 'PLPGNIG00014', '1 624 608 000', '6 072 784 704', '3,905', '1,56', '12'],\n",
        "       ['PKNORLEN', 'PLPKN0000018', '289 049 000', '17 701 360 760', '11,382', '12,44', '8'],\n",
        "       ['PKOBP', 'PLPKO0000016', '857 593 000', '18 807 014 490', '12,093', '10,49', '9'],\n",
        "       ['PLAY', 'LU1642887738', '114 151 000', '3 696 209 380', '2,377', '1,47', '16'],\n",
        "       ['PZU', 'PLPZU0000011', '568 305 000', '17 515 160 100', '11,262', '6,64', '6'],\n",
        "       ['SANPL', 'PLBZ00000044', '33 207 000', '5 213 499 000', '3,352', '1,91', '18'],\n",
        "       ['TAURONPE', 'PLTAURN00011', '1 043 590 000', '1 252 308 000', '0,805', '1,21', '33']], dtype='<U14')"
      ],
      "metadata": {
        "id": "9Iq6yTC9aJls"
      },
      "execution_count": 171,
      "outputs": []
    },
    {
      "cell_type": "code",
      "source": [
        "print(np.char.replace(np.char.strip(result),',','.'))"
      ],
      "metadata": {
        "id": "fJ01kaUlaJwn",
        "colab": {
          "base_uri": "https://localhost:8080/"
        },
        "outputId": "b898b0af-3c05-4eea-955c-ebefebf54005"
      },
      "execution_count": 172,
      "outputs": [
        {
          "output_type": "stream",
          "name": "stdout",
          "text": [
            "[['ALIOR' 'PLALIOR00045' '88 860 000' '1 386 216 000' '0.891' '2.16' '14']\n",
            " ['CCC' 'PLCCC0000016' '27 918 000' '1 292 603 400' '0.831' '5.28' '42']\n",
            " ['CDPROJEKT' 'PLOPTTC00011' '67 348 000' '22 864 646 000' '14.702'\n",
            "  '7.39' '7']\n",
            " ['CYFRPLSAT' 'PLCFRPT00013' '275 301 000' '6 854 994 900' '4.408' '1.17'\n",
            "  '14']\n",
            " ['DINOPL' 'PLDINPL00011' '47 937 000' '8 916 282 000' '5.733' '9.13'\n",
            "  '12']\n",
            " ['JSW' 'PLJSW0000015' '52 636 000' '716 902 320' '0.461' '1.51' '24']\n",
            " ['KGHM' 'PLKGHM000017' '136 410 000' '9 881 540 400' '6.354' '4.78' '8']\n",
            " ['LOTOS' 'PLLOTOS00025' '86 543 000' '5 609 717 260' '3.607' '2.91' '16']\n",
            " ['LPP' 'PLLPP0000011' '1 306 000' '7 444 200 000' '4.787' '1.43' '19']\n",
            " ['MBANK' 'PLBRE0000012' '12 997 000' '2 830 746 600' '1.820' '0.42' '24']\n",
            " ['ORANGEPL' 'PLTLKPL00017' '647 357 000' '4 285 503 340' '2.756' '1.16'\n",
            "  '13']\n",
            " ['PEKAO' 'PLPEKAO00016' '176 379 000' '9 619 710 660' '6.185' '5.27' '9']\n",
            " ['PGE' 'PLPGER000010' '796 776 000' '3 561 588 720' '2.290' '2.88' '18']\n",
            " ['PGNIG' 'PLPGNIG00014' '1 624 608 000' '6 072 784 704' '3.905' '1.56'\n",
            "  '12']\n",
            " ['PKNORLEN' 'PLPKN0000018' '289 049 000' '17 701 360 760' '11.382'\n",
            "  '12.44' '8']\n",
            " ['PKOBP' 'PLPKO0000016' '857 593 000' '18 807 014 490' '12.093' '10.49'\n",
            "  '9']\n",
            " ['PLAY' 'LU1642887738' '114 151 000' '3 696 209 380' '2.377' '1.47' '16']\n",
            " ['PZU' 'PLPZU0000011' '568 305 000' '17 515 160 100' '11.262' '6.64' '6']\n",
            " ['SANPL' 'PLBZ00000044' '33 207 000' '5 213 499 000' '3.352' '1.91' '18']\n",
            " ['TAURONPE' 'PLTAURN00011' '1 043 590 000' '1 252 308 000' '0.805'\n",
            "  '1.21' '33']]\n"
          ]
        }
      ]
    },
    {
      "cell_type": "markdown",
      "source": [
        "**89) Extract all rows with the company name starting with the letter 'P' and assign to the stocks_startswith_P variable. In response, print stocks_startswith_P variable to the console.**\n"
      ],
      "metadata": {
        "id": "F2FM3vLZaJ-c"
      }
    },
    {
      "cell_type": "code",
      "source": [
        "result = np.array([['ALIOR', 'PLALIOR00045', '88860000', '1386216000', '0.891', '2.16', '14'],\n",
        "       ['CCC', 'PLCCC0000016', '27918000', '1292603400', '0.831', '5.28', '42'],\n",
        "       ['CDPROJEKT', 'PLOPTTC00011', '67348000', '22864646000', '14.702', '7.39', '7'],\n",
        "       ['CYFRPLSAT', 'PLCFRPT00013', '275301000', '6854994900', '4.408', '1.17', '14'],\n",
        "       ['DINOPL', 'PLDINPL00011', '47937000', '8916282000', '5.733', '9.13', '12'],\n",
        "       ['JSW', 'PLJSW0000015', '52636000', '716902320', '0.461', '1.51', '24'],\n",
        "       ['KGHM', 'PLKGHM000017', '136410000', '9881540400', '6.354', '4.78', '8'],\n",
        "       ['LOTOS', 'PLLOTOS00025', '86543000', '5609717260', '3.607', '2.91', '16'],\n",
        "       ['LPP', 'PLLPP0000011', '1306000', '7444200000', '4.787', '1.43', '19'],\n",
        "       ['MBANK', 'PLBRE0000012', '12997000', '2830746600', '1.820', '0.42', '24'],\n",
        "       ['ORANGEPL', 'PLTLKPL00017', '647357000', '4285503340', '2.756', '1.16', '13'],\n",
        "       ['PEKAO', 'PLPEKAO00016', '176379000', '9619710660', '6.185', '5.27', '9'],\n",
        "       ['PGE', 'PLPGER000010', '796776000', '3561588720', '2.290', '2.88', '18'],\n",
        "       ['PGNIG', 'PLPGNIG00014', '1624608000', '6072784704', '3.905', '1.56', '12'],\n",
        "       ['PKNORLEN', 'PLPKN0000018', '289049000', '17701360760', '11.382', '12.44', '8'],\n",
        "       ['PKOBP', 'PLPKO0000016', '857593000', '18807014490', '12.093', '10.49', '9'],\n",
        "       ['PLAY', 'LU1642887738', '114151000', '3696209380', '2.377', '1.47', '16'],\n",
        "       ['PZU', 'PLPZU0000011', '568305000', '17515160100', '11.262', '6.64', '6'],\n",
        "       ['SANPL', 'PLBZ00000044', '33207000', '5213499000', '3.352', '1.91', '18'],\n",
        "       ['TAURONPE', 'PLTAURN00011', '1043590000', '1252308000', '0.805', '1.21', '33']], dtype='<U12')"
      ],
      "metadata": {
        "id": "GotI-8O7aKM3"
      },
      "execution_count": 173,
      "outputs": []
    },
    {
      "cell_type": "code",
      "source": [
        "stocks_startswith_P=result[np.char.startswith(result[:,0],'P')]\n",
        "print(stocks_startswith_P)"
      ],
      "metadata": {
        "id": "-y1fZxbJaKYC",
        "colab": {
          "base_uri": "https://localhost:8080/"
        },
        "outputId": "8487f226-181e-45de-e441-2796ddc75d16"
      },
      "execution_count": 174,
      "outputs": [
        {
          "output_type": "stream",
          "name": "stdout",
          "text": [
            "[['PEKAO' 'PLPEKAO00016' '176379000' '9619710660' '6.185' '5.27' '9']\n",
            " ['PGE' 'PLPGER000010' '796776000' '3561588720' '2.290' '2.88' '18']\n",
            " ['PGNIG' 'PLPGNIG00014' '1624608000' '6072784704' '3.905' '1.56' '12']\n",
            " ['PKNORLEN' 'PLPKN0000018' '289049000' '17701360760' '11.382' '12.44'\n",
            "  '8']\n",
            " ['PKOBP' 'PLPKO0000016' '857593000' '18807014490' '12.093' '10.49' '9']\n",
            " ['PLAY' 'LU1642887738' '114151000' '3696209380' '2.377' '1.47' '16']\n",
            " ['PZU' 'PLPZU0000011' '568305000' '17515160100' '11.262' '6.64' '6']]\n"
          ]
        }
      ]
    },
    {
      "cell_type": "markdown",
      "source": [
        "**90) Calculate the total share of companies whose name starts with the letter 'P'. Round the result to two decimal places and print it to the console.**"
      ],
      "metadata": {
        "id": "UbA2pN5GaKna"
      }
    },
    {
      "cell_type": "code",
      "source": [
        "stocks_startswith_P = np.array([['PEKAO', 'PLPEKAO00016', '176379000', '9619710660', '6.185', '5.27', '9'],\n",
        "       ['PGE', 'PLPGER000010', '796776000', '3561588720', '2.290', '2.88', '18'],\n",
        "       ['PGNIG', 'PLPGNIG00014', '1624608000', '6072784704', '3.905', '1.56', '12'],\n",
        "       ['PKNORLEN', 'PLPKN0000018', '289049000', '17701360760', '11.382', '12.44', '8'],\n",
        "       ['PKOBP', 'PLPKO0000016', '857593000', '18807014490', '12.093', '10.49', '9'],\n",
        "       ['PLAY', 'LU1642887738', '114151000', '3696209380', '2.377', '1.47', '16'],\n",
        "       ['PZU', 'PLPZU0000011', '568305000', '17515160100', '11.262', '6.64', '6']], dtype='<U12')"
      ],
      "metadata": {
        "id": "YqSuhAS0aK1J"
      },
      "execution_count": 175,
      "outputs": []
    },
    {
      "cell_type": "code",
      "source": [
        "print(np.round(stocks_startswith_P[:,4].astype(float).sum(),2))"
      ],
      "metadata": {
        "id": "jbdku1nNaK_I",
        "colab": {
          "base_uri": "https://localhost:8080/"
        },
        "outputId": "89354856-9d91-459f-e792-46993c10f564"
      },
      "execution_count": 176,
      "outputs": [
        {
          "output_type": "stream",
          "name": "stdout",
          "text": [
            "49.49\n"
          ]
        }
      ]
    },
    {
      "cell_type": "markdown",
      "source": [
        "**91) Create an array from this string as shown below and assign to the wig_games variable. In response, print this array to the console.**\n",
        "\n",
        "[['Profile' 'Time' 'Course' 'Change' 'Change%' 'Ref.' 'Open' 'Low' 'High' 'Volume' 'Turn' 'Share']\n",
        " ['11B(11BIT)' '17kwi17:01' '391.00' '+8.00' '(+2.09%)' '383.00' '383.50' '383.00' '394.00' '12784' '4994874' '19.034%']\n",
        " ['CDR(CDPROJEKT)' '17kwi17:01' '339.50' '+5.30' '(+1.59%)' '334.20' '338.30' '337.00' '344.20' '233059' '79245368' '39.618%']\n",
        " ['CIG(CIGAMES)' '17kwi17:03' '0.742' '-0.012' '(-1.59%)' '0.754' '0.772' '0.730' '0.772' '1311078' '971459' '1.855%']\n",
        " ['PLW(PLAYWAY)' '17kwi17:03' '387.50' '+18.00' '(+4.87%)' '369.50' '374.00' '373.00' '388.00' '33206' '12661786' '10.638%']\n",
        " ['TEN(TSGAMES)' '17kwi17:02' '349.50' '+22.50' '(+6.88%)' '327.00' '332.00' '330.00' '353.50' '39793' '13697060' '28.855%']]"
      ],
      "metadata": {
        "id": "OoCDz5qWaLLa"
      }
    },
    {
      "cell_type": "code",
      "source": [
        "wig_games_raw = \"\"\"Profile    Time    Course    Change    Change%    Ref.    Open    Low    High    Volume    Turn    Share\n",
        "11B (11BIT)    17 kwi 17:01    391.00    +8.00    (+2.09%)    383.00    383.50    383.00    394.00    12 784    4 994 874    19.034%\n",
        "CDR (CDPROJEKT)    17 kwi 17:01    339.50    +5.30    (+1.59%)    334.20    338.30    337.00    344.20    233 059    79 245 368    39.618%\n",
        "CIG (CIGAMES)    17 kwi 17:03    0.742    -0.012    (-1.59%)    0.754    0.772    0.730    0.772    1 311 078    971 459    1.855%\n",
        "PLW (PLAYWAY)    17 kwi 17:03    387.50    +18.00    (+4.87%)    369.50    374.00    373.00    388.00    33 206    12 661 786    10.638%\n",
        "TEN (TSGAMES)    17 kwi 17:02    349.50    +22.50    (+6.88%)    327.00    332.00    330.00    353.50    39 793    13 697 060    28.855%\"\"\""
      ],
      "metadata": {
        "id": "MPqsYbMNaLbR"
      },
      "execution_count": 177,
      "outputs": []
    },
    {
      "cell_type": "code",
      "source": [
        "lines=wig_games_raw.splitlines()\n",
        "lines=[line.split('\\t') for line in lines]\n",
        "wig_games=np.array(lines,dtype=np.str)\n",
        "wig_games=np.char.replace(wig_games,' ','')\n",
        "print(wig_games)"
      ],
      "metadata": {
        "id": "t3JJe5XxaLpw",
        "colab": {
          "base_uri": "https://localhost:8080/"
        },
        "outputId": "460d6b9f-e33e-4127-b049-9da8a747002a"
      },
      "execution_count": 178,
      "outputs": [
        {
          "output_type": "stream",
          "name": "stdout",
          "text": [
            "[['ProfileTimeCourseChangeChange%Ref.OpenLowHighVolumeTurnShare']\n",
            " ['11B(11BIT)17kwi17:01391.00+8.00(+2.09%)383.00383.50383.00394.0012784499487419.034%']\n",
            " ['CDR(CDPROJEKT)17kwi17:01339.50+5.30(+1.59%)334.20338.30337.00344.202330597924536839.618%']\n",
            " ['CIG(CIGAMES)17kwi17:030.742-0.012(-1.59%)0.7540.7720.7300.77213110789714591.855%']\n",
            " ['PLW(PLAYWAY)17kwi17:03387.50+18.00(+4.87%)369.50374.00373.00388.00332061266178610.638%']\n",
            " ['TEN(TSGAMES)17kwi17:02349.50+22.50(+6.88%)327.00332.00330.00353.50397931369706028.855%']]\n"
          ]
        },
        {
          "output_type": "stream",
          "name": "stderr",
          "text": [
            "/usr/local/lib/python3.7/dist-packages/ipykernel_launcher.py:3: DeprecationWarning: `np.str` is a deprecated alias for the builtin `str`. To silence this warning, use `str` by itself. Doing this will not modify any behavior and is safe. If you specifically wanted the numpy scalar type, use `np.str_` here.\n",
            "Deprecated in NumPy 1.20; for more details and guidance: https://numpy.org/devdocs/release/1.20.0-notes.html#deprecations\n",
            "  This is separate from the ipykernel package so we can avoid doing imports until\n"
          ]
        }
      ]
    },
    {
      "cell_type": "markdown",
      "source": [
        "**92) Remove the following columns:**\n",
        "\n",
        "'Change'\n",
        "\n",
        "'Change%'\n",
        "\n",
        "'Ref.'\n",
        "\n",
        "'Volume'"
      ],
      "metadata": {
        "id": "B07csSpeaL_L"
      }
    },
    {
      "cell_type": "code",
      "source": [
        "wig_games = np.array([['Profile', 'Time', 'Course', 'Change', 'Change%', 'Ref.', 'Open', 'Low', 'High', 'Volume', 'Turn', 'Share'],\n",
        "       ['11B(11BIT)', '17kwi17:01', '391.00', '+8.00', '(+2.09%)', '383.00', '383.50', '383.00', '394.00', '12784', '4994874', '19.034%'],\n",
        "       ['CDR(CDPROJEKT)', '17kwi17:01', '339.50', '+5.30', '(+1.59%)', '334.20', '338.30', '337.00', '344.20', '233059', '79245368', '39.618%'],\n",
        "       ['CIG(CIGAMES)', '17kwi17:03', '0.742', '-0.012', '(-1.59%)', '0.754', '0.772', '0.730', '0.772', '1311078', '971459', '1.855%'],\n",
        "       ['PLW(PLAYWAY)', '17kwi17:03', '387.50', '+18.00', '(+4.87%)', '369.50', '374.00', '373.00', '388.00', '33206', '12661786', '10.638%'],\n",
        "       ['TEN(TSGAMES)', '17kwi17:02', '349.50', '+22.50', '(+6.88%)', '327.00', '332.00', '330.00', '353.50', '39793', '13697060', '28.855%']], dtype='<U14')"
      ],
      "metadata": {
        "id": "aj10u4mBaMK-"
      },
      "execution_count": 179,
      "outputs": []
    },
    {
      "cell_type": "code",
      "source": [
        "wig_games=np.delete(wig_games,[3,4,5,9],axis=1)\n",
        "print(wig_games)"
      ],
      "metadata": {
        "id": "7BzTT2SFaMUA",
        "colab": {
          "base_uri": "https://localhost:8080/"
        },
        "outputId": "1f9eff07-3cea-4aaa-b0a5-3ba3a618c8be"
      },
      "execution_count": 180,
      "outputs": [
        {
          "output_type": "stream",
          "name": "stdout",
          "text": [
            "[['Profile' 'Time' 'Course' 'Open' 'Low' 'High' 'Turn' 'Share']\n",
            " ['11B(11BIT)' '17kwi17:01' '391.00' '383.50' '383.00' '394.00' '4994874'\n",
            "  '19.034%']\n",
            " ['CDR(CDPROJEKT)' '17kwi17:01' '339.50' '338.30' '337.00' '344.20'\n",
            "  '79245368' '39.618%']\n",
            " ['CIG(CIGAMES)' '17kwi17:03' '0.742' '0.772' '0.730' '0.772' '971459'\n",
            "  '1.855%']\n",
            " ['PLW(PLAYWAY)' '17kwi17:03' '387.50' '374.00' '373.00' '388.00'\n",
            "  '12661786' '10.638%']\n",
            " ['TEN(TSGAMES)' '17kwi17:02' '349.50' '332.00' '330.00' '353.50'\n",
            "  '13697060' '28.855%']]\n"
          ]
        }
      ]
    },
    {
      "cell_type": "markdown",
      "source": [
        "**93) Save this array to the 'wig_games.csv' file. Then load the content of this file into the wig_games_new variable and print it to the console.**"
      ],
      "metadata": {
        "id": "ADGq1lO2aMv5"
      }
    },
    {
      "cell_type": "code",
      "source": [
        "wig_games = np.array([['Profile', 'Time', 'Course', 'Open', 'Low', 'High', 'Turn', 'Share'],\n",
        "       ['11B(11BIT)', '17kwi17:01', '391.00', '383.50', '383.00', '394.00', '4994874', '19.034%'],\n",
        "       ['CDR(CDPROJEKT)', '17kwi17:01', '339.50', '338.30', '337.00', '344.20', '79245368', '39.618%'],\n",
        "       ['CIG(CIGAMES)', '17kwi17:03', '0.742', '0.772', '0.730', '0.772', '971459', '1.855%'],\n",
        "       ['PLW(PLAYWAY)', '17kwi17:03', '387.50', '374.00', '373.00', '388.00', '12661786', '10.638%'],\n",
        "       ['TEN(TSGAMES)', '17kwi17:02', '349.50', '332.00', '330.00', '353.50', '13697060', '28.855%']], dtype='<U14')"
      ],
      "metadata": {
        "id": "O0a-tM_5aPoI"
      },
      "execution_count": 181,
      "outputs": []
    },
    {
      "cell_type": "code",
      "source": [
        "np.savetxt(fname='wig_games.csv', X=wig_games, fmt='%s', delimiter=',')\n",
        "wig_games_new = np.loadtxt(\n",
        "    fname='wig_games.csv', \n",
        "    delimiter=',', \n",
        "    dtype=str)\n",
        "print(wig_games_new)"
      ],
      "metadata": {
        "id": "rQsiicvvaPx6",
        "colab": {
          "base_uri": "https://localhost:8080/"
        },
        "outputId": "a80b1ff0-83a5-48be-c197-3cb78a181b40"
      },
      "execution_count": 182,
      "outputs": [
        {
          "output_type": "stream",
          "name": "stdout",
          "text": [
            "[['Profile' 'Time' 'Course' 'Open' 'Low' 'High' 'Turn' 'Share']\n",
            " ['11B(11BIT)' '17kwi17:01' '391.00' '383.50' '383.00' '394.00' '4994874'\n",
            "  '19.034%']\n",
            " ['CDR(CDPROJEKT)' '17kwi17:01' '339.50' '338.30' '337.00' '344.20'\n",
            "  '79245368' '39.618%']\n",
            " ['CIG(CIGAMES)' '17kwi17:03' '0.742' '0.772' '0.730' '0.772' '971459'\n",
            "  '1.855%']\n",
            " ['PLW(PLAYWAY)' '17kwi17:03' '387.50' '374.00' '373.00' '388.00'\n",
            "  '12661786' '10.638%']\n",
            " ['TEN(TSGAMES)' '17kwi17:02' '349.50' '332.00' '330.00' '353.50'\n",
            "  '13697060' '28.855%']]\n"
          ]
        }
      ]
    },
    {
      "cell_type": "markdown",
      "source": [
        "**94) Create an array from this string as shown below and assign to the playway variable. In response, print this array to the console.**"
      ],
      "metadata": {
        "id": "yCH5gwwcaQFe"
      }
    },
    {
      "cell_type": "code",
      "source": [
        "playway_raw = \"\"\"Date,Open,High,Low,Close,Volume\n",
        "2020-03-02,305,324.5,283.5,310,64081\n",
        "2020-03-03,325.5,340.5,320,340.5,55496\n",
        "2020-03-04,324,340.5,315,330,36152\n",
        "2020-03-05,344,344,310,315,35992\n",
        "2020-03-06,306.5,307,291,305,32539\n",
        "2020-03-09,274,291,250,258,79402\n",
        "2020-03-10,278,284.5,256,264,35700\n",
        "2020-03-11,270,270,238.5,245,60445\n",
        "2020-03-12,218,228,196,197,94031\n",
        "2020-03-13,210,229,198.8,211,100412\n",
        "2020-03-16,205,248,197.8,240.5,50659\n",
        "2020-03-17,245,269,232.5,264,99480\n",
        "2020-03-18,264,280,251,270,70136\n",
        "2020-03-19,267,280,267,279.5,30732\n",
        "2020-03-20,297.5,307,280,280.5,43426\n",
        "2020-03-23,274,289,258,285,37098\n",
        "2020-03-24,305,309,296.5,309,31939\n",
        "2020-03-25,313,330,295,304,46724\n",
        "2020-03-26,300,309,295.5,300,27213\n",
        "2020-03-27,302,306.5,290,296,13466\n",
        "2020-03-30,299,300,287,300,10316\n",
        "2020-03-31,302.5,309,302,306.5,15698\"\"\""
      ],
      "metadata": {
        "id": "wela4ophaQZc"
      },
      "execution_count": 183,
      "outputs": []
    },
    {
      "cell_type": "code",
      "source": [
        "lines=playway_raw.splitlines()\n",
        "lines=[line.split(',') for line in lines]\n",
        "playway=np.array(lines,dtype=np.str)\n",
        "print(playway)"
      ],
      "metadata": {
        "id": "oBUZRThKaQjk",
        "colab": {
          "base_uri": "https://localhost:8080/"
        },
        "outputId": "5f266299-967a-42f1-e5ed-ed5e34b2d745"
      },
      "execution_count": 184,
      "outputs": [
        {
          "output_type": "stream",
          "name": "stdout",
          "text": [
            "[['Date' 'Open' 'High' 'Low' 'Close' 'Volume']\n",
            " ['2020-03-02' '305' '324.5' '283.5' '310' '64081']\n",
            " ['2020-03-03' '325.5' '340.5' '320' '340.5' '55496']\n",
            " ['2020-03-04' '324' '340.5' '315' '330' '36152']\n",
            " ['2020-03-05' '344' '344' '310' '315' '35992']\n",
            " ['2020-03-06' '306.5' '307' '291' '305' '32539']\n",
            " ['2020-03-09' '274' '291' '250' '258' '79402']\n",
            " ['2020-03-10' '278' '284.5' '256' '264' '35700']\n",
            " ['2020-03-11' '270' '270' '238.5' '245' '60445']\n",
            " ['2020-03-12' '218' '228' '196' '197' '94031']\n",
            " ['2020-03-13' '210' '229' '198.8' '211' '100412']\n",
            " ['2020-03-16' '205' '248' '197.8' '240.5' '50659']\n",
            " ['2020-03-17' '245' '269' '232.5' '264' '99480']\n",
            " ['2020-03-18' '264' '280' '251' '270' '70136']\n",
            " ['2020-03-19' '267' '280' '267' '279.5' '30732']\n",
            " ['2020-03-20' '297.5' '307' '280' '280.5' '43426']\n",
            " ['2020-03-23' '274' '289' '258' '285' '37098']\n",
            " ['2020-03-24' '305' '309' '296.5' '309' '31939']\n",
            " ['2020-03-25' '313' '330' '295' '304' '46724']\n",
            " ['2020-03-26' '300' '309' '295.5' '300' '27213']\n",
            " ['2020-03-27' '302' '306.5' '290' '296' '13466']\n",
            " ['2020-03-30' '299' '300' '287' '300' '10316']\n",
            " ['2020-03-31' '302.5' '309' '302' '306.5' '15698']]\n"
          ]
        },
        {
          "output_type": "stream",
          "name": "stderr",
          "text": [
            "/usr/local/lib/python3.7/dist-packages/ipykernel_launcher.py:3: DeprecationWarning: `np.str` is a deprecated alias for the builtin `str`. To silence this warning, use `str` by itself. Doing this will not modify any behavior and is safe. If you specifically wanted the numpy scalar type, use `np.str_` here.\n",
            "Deprecated in NumPy 1.20; for more details and guidance: https://numpy.org/devdocs/release/1.20.0-notes.html#deprecations\n",
            "  This is separate from the ipykernel package so we can avoid doing imports until\n"
          ]
        }
      ]
    },
    {
      "cell_type": "markdown",
      "source": [
        "**95) Delete the 'Date' column. Then remove the headers and assign result to the playway_values variable. Convert this array to the float data type and print result to the console.**\n"
      ],
      "metadata": {
        "id": "i49gjSFeaQzu"
      }
    },
    {
      "cell_type": "code",
      "source": [
        "playway = np.array([['Date', 'Open', 'High', 'Low', 'Close', 'Volume'],\n",
        "       ['2020-03-02', '305', '324.5', '283.5', '310', '64081'],\n",
        "       ['2020-03-03', '325.5', '340.5', '320', '340.5', '55496'],\n",
        "       ['2020-03-04', '324', '340.5', '315', '330', '36152'],\n",
        "       ['2020-03-05', '344', '344', '310', '315', '35992'],\n",
        "       ['2020-03-06', '306.5', '307', '291', '305', '32539'],\n",
        "       ['2020-03-09', '274', '291', '250', '258', '79402'],\n",
        "       ['2020-03-10', '278', '284.5', '256', '264', '35700'],\n",
        "       ['2020-03-11', '270', '270', '238.5', '245', '60445'],\n",
        "       ['2020-03-12', '218', '228', '196', '197', '94031'],\n",
        "       ['2020-03-13', '210', '229', '198.8', '211', '100412'],\n",
        "       ['2020-03-16', '205', '248', '197.8', '240.5', '50659'],\n",
        "       ['2020-03-17', '245', '269', '232.5', '264', '99480'],\n",
        "       ['2020-03-18', '264', '280', '251', '270', '70136'],\n",
        "       ['2020-03-19', '267', '280', '267', '279.5', '30732'],\n",
        "       ['2020-03-20', '297.5', '307', '280', '280.5', '43426'],\n",
        "       ['2020-03-23', '274', '289', '258', '285', '37098'],\n",
        "       ['2020-03-24', '305', '309', '296.5', '309', '31939'],\n",
        "       ['2020-03-25', '313', '330', '295', '304', '46724'],\n",
        "       ['2020-03-26', '300', '309', '295.5', '300', '27213'],\n",
        "       ['2020-03-27', '302', '306.5', '290', '296', '13466'],\n",
        "       ['2020-03-30', '299', '300', '287', '300', '10316'],\n",
        "       ['2020-03-31', '302.5', '309', '302', '306.5', '15698']],\n",
        "      dtype='<U10')"
      ],
      "metadata": {
        "id": "p0yEnel5aRAX"
      },
      "execution_count": 185,
      "outputs": []
    },
    {
      "cell_type": "code",
      "source": [
        "playway_values=np.delete(playway[1:,:],0,axis=1).astype(float)\n",
        "print(playway_values)"
      ],
      "metadata": {
        "id": "4IcGeePKaRIp",
        "colab": {
          "base_uri": "https://localhost:8080/"
        },
        "outputId": "d5c868f8-28b7-4375-cc27-b90cc499e811"
      },
      "execution_count": 186,
      "outputs": [
        {
          "output_type": "stream",
          "name": "stdout",
          "text": [
            "[[   305.     324.5    283.5    310.   64081. ]\n",
            " [   325.5    340.5    320.     340.5  55496. ]\n",
            " [   324.     340.5    315.     330.   36152. ]\n",
            " [   344.     344.     310.     315.   35992. ]\n",
            " [   306.5    307.     291.     305.   32539. ]\n",
            " [   274.     291.     250.     258.   79402. ]\n",
            " [   278.     284.5    256.     264.   35700. ]\n",
            " [   270.     270.     238.5    245.   60445. ]\n",
            " [   218.     228.     196.     197.   94031. ]\n",
            " [   210.     229.     198.8    211.  100412. ]\n",
            " [   205.     248.     197.8    240.5  50659. ]\n",
            " [   245.     269.     232.5    264.   99480. ]\n",
            " [   264.     280.     251.     270.   70136. ]\n",
            " [   267.     280.     267.     279.5  30732. ]\n",
            " [   297.5    307.     280.     280.5  43426. ]\n",
            " [   274.     289.     258.     285.   37098. ]\n",
            " [   305.     309.     296.5    309.   31939. ]\n",
            " [   313.     330.     295.     304.   46724. ]\n",
            " [   300.     309.     295.5    300.   27213. ]\n",
            " [   302.     306.5    290.     296.   13466. ]\n",
            " [   299.     300.     287.     300.   10316. ]\n",
            " [   302.5    309.     302.     306.5  15698. ]]\n"
          ]
        }
      ]
    },
    {
      "cell_type": "markdown",
      "source": [
        "**96) Calculate the average value for each column. Round the result to two decimal places and print it to the console.**\n"
      ],
      "metadata": {
        "id": "mNJPyJYeaRWg"
      }
    },
    {
      "cell_type": "code",
      "source": [
        "playway_values = np.array([[   305. ,    324.5,    283.5,    310. ,  64081. ],\n",
        "       [   325.5,    340.5,    320. ,    340.5,  55496. ],\n",
        "       [   324. ,    340.5,    315. ,    330. ,  36152. ],\n",
        "       [   344. ,    344. ,    310. ,    315. ,  35992. ],\n",
        "       [   306.5,    307. ,    291. ,    305. ,  32539. ],\n",
        "       [   274. ,    291. ,    250. ,    258. ,  79402. ],\n",
        "       [   278. ,    284.5,    256. ,    264. ,  35700. ],\n",
        "       [   270. ,    270. ,    238.5,    245. ,  60445. ],\n",
        "       [   218. ,    228. ,    196. ,    197. ,  94031. ],\n",
        "       [   210. ,    229. ,    198.8,    211. , 100412. ],\n",
        "       [   205. ,    248. ,    197.8,    240.5,  50659. ],\n",
        "       [   245. ,    269. ,    232.5,    264. ,  99480. ],\n",
        "       [   264. ,    280. ,    251. ,    270. ,  70136. ],\n",
        "       [   267. ,    280. ,    267. ,    279.5,  30732. ],\n",
        "       [   297.5,    307. ,    280. ,    280.5,  43426. ],\n",
        "       [   274. ,    289. ,    258. ,    285. ,  37098. ],\n",
        "       [   305. ,    309. ,    296.5,    309. ,  31939. ],\n",
        "       [   313. ,    330. ,    295. ,    304. ,  46724. ],\n",
        "       [   300. ,    309. ,    295.5,    300. ,  27213. ],\n",
        "       [   302. ,    306.5,    290. ,    296. ,  13466. ],\n",
        "       [   299. ,    300. ,    287. ,    300. ,  10316. ],\n",
        "       [   302.5,    309. ,    302. ,    306.5,  15698. ]])"
      ],
      "metadata": {
        "id": "QOHY45SVaRjF"
      },
      "execution_count": 187,
      "outputs": []
    },
    {
      "cell_type": "code",
      "source": [
        "print(np.round(np.average(playway_values,axis=0),2))"
      ],
      "metadata": {
        "id": "8JYD_7kHaRr8",
        "colab": {
          "base_uri": "https://localhost:8080/"
        },
        "outputId": "3ef1d81f-0de2-48d5-dfb0-881859bd5660"
      },
      "execution_count": 188,
      "outputs": [
        {
          "output_type": "stream",
          "name": "stdout",
          "text": [
            "[  283.14   295.25   268.69   282.3  48688.05]\n"
          ]
        }
      ]
    },
    {
      "cell_type": "code",
      "source": [
        "print(np.round(playway_values.mean(axis=0), 2))"
      ],
      "metadata": {
        "colab": {
          "base_uri": "https://localhost:8080/"
        },
        "id": "hiEBqFVr4Fgf",
        "outputId": "26a9a8e7-f291-49a0-8cfb-afa9a2725b3b"
      },
      "execution_count": 189,
      "outputs": [
        {
          "output_type": "stream",
          "name": "stdout",
          "text": [
            "[  283.14   295.25   268.69   282.3  48688.05]\n"
          ]
        }
      ]
    },
    {
      "cell_type": "markdown",
      "source": [
        "**97) Calculate the new column: the difference between the highest and lowest price.**"
      ],
      "metadata": {
        "id": "zpgrZFq6aR7V"
      }
    },
    {
      "cell_type": "code",
      "source": [
        "playway_values = np.array([[   305. ,    324.5,    283.5,    310. ,  64081. ],\n",
        "       [   325.5,    340.5,    320. ,    340.5,  55496. ],\n",
        "       [   324. ,    340.5,    315. ,    330. ,  36152. ],\n",
        "       [   344. ,    344. ,    310. ,    315. ,  35992. ],\n",
        "       [   306.5,    307. ,    291. ,    305. ,  32539. ],\n",
        "       [   274. ,    291. ,    250. ,    258. ,  79402. ],\n",
        "       [   278. ,    284.5,    256. ,    264. ,  35700. ],\n",
        "       [   270. ,    270. ,    238.5,    245. ,  60445. ],\n",
        "       [   218. ,    228. ,    196. ,    197. ,  94031. ],\n",
        "       [   210. ,    229. ,    198.8,    211. , 100412. ],\n",
        "       [   205. ,    248. ,    197.8,    240.5,  50659. ],\n",
        "       [   245. ,    269. ,    232.5,    264. ,  99480. ],\n",
        "       [   264. ,    280. ,    251. ,    270. ,  70136. ],\n",
        "       [   267. ,    280. ,    267. ,    279.5,  30732. ],\n",
        "       [   297.5,    307. ,    280. ,    280.5,  43426. ],\n",
        "       [   274. ,    289. ,    258. ,    285. ,  37098. ],\n",
        "       [   305. ,    309. ,    296.5,    309. ,  31939. ],\n",
        "       [   313. ,    330. ,    295. ,    304. ,  46724. ],\n",
        "       [   300. ,    309. ,    295.5,    300. ,  27213. ],\n",
        "       [   302. ,    306.5,    290. ,    296. ,  13466. ],\n",
        "       [   299. ,    300. ,    287. ,    300. ,  10316. ],\n",
        "       [   302.5,    309. ,    302. ,    306.5,  15698. ]])\n"
      ],
      "metadata": {
        "id": "XKo1GkBgaSNN"
      },
      "execution_count": 190,
      "outputs": []
    },
    {
      "cell_type": "code",
      "source": [
        "max_min_diff=playway_values[:,[1]]-playway_values[:,[2]]\n",
        "playway_values=np.concatenate((playway_values,max_min_diff),axis=1)\n",
        "print(playway_values)"
      ],
      "metadata": {
        "colab": {
          "base_uri": "https://localhost:8080/"
        },
        "id": "TPrFGGGd7sy6",
        "outputId": "134389e0-683a-44b7-d943-c0aff7a507fa"
      },
      "execution_count": 191,
      "outputs": [
        {
          "output_type": "stream",
          "name": "stdout",
          "text": [
            "[[   305.     324.5    283.5    310.   64081.      41. ]\n",
            " [   325.5    340.5    320.     340.5  55496.      20.5]\n",
            " [   324.     340.5    315.     330.   36152.      25.5]\n",
            " [   344.     344.     310.     315.   35992.      34. ]\n",
            " [   306.5    307.     291.     305.   32539.      16. ]\n",
            " [   274.     291.     250.     258.   79402.      41. ]\n",
            " [   278.     284.5    256.     264.   35700.      28.5]\n",
            " [   270.     270.     238.5    245.   60445.      31.5]\n",
            " [   218.     228.     196.     197.   94031.      32. ]\n",
            " [   210.     229.     198.8    211.  100412.      30.2]\n",
            " [   205.     248.     197.8    240.5  50659.      50.2]\n",
            " [   245.     269.     232.5    264.   99480.      36.5]\n",
            " [   264.     280.     251.     270.   70136.      29. ]\n",
            " [   267.     280.     267.     279.5  30732.      13. ]\n",
            " [   297.5    307.     280.     280.5  43426.      27. ]\n",
            " [   274.     289.     258.     285.   37098.      31. ]\n",
            " [   305.     309.     296.5    309.   31939.      12.5]\n",
            " [   313.     330.     295.     304.   46724.      35. ]\n",
            " [   300.     309.     295.5    300.   27213.      13.5]\n",
            " [   302.     306.5    290.     296.   13466.      16.5]\n",
            " [   299.     300.     287.     300.   10316.      13. ]\n",
            " [   302.5    309.     302.     306.5  15698.       7. ]]\n"
          ]
        }
      ]
    },
    {
      "cell_type": "markdown",
      "source": [
        "**98) Extract rows from this array where closing price (column with index 3) is greater than 300.0. In response, print result to the console.**"
      ],
      "metadata": {
        "id": "I91hMOE2aSmv"
      }
    },
    {
      "cell_type": "code",
      "source": [
        "playway_values = np.array([[   305. ,    324.5,    283.5,    310. ,  64081. ],\n",
        "       [   325.5,    340.5,    320. ,    340.5,  55496. ],\n",
        "       [   324. ,    340.5,    315. ,    330. ,  36152. ],\n",
        "       [   344. ,    344. ,    310. ,    315. ,  35992. ],\n",
        "       [   306.5,    307. ,    291. ,    305. ,  32539. ],\n",
        "       [   274. ,    291. ,    250. ,    258. ,  79402. ],\n",
        "       [   278. ,    284.5,    256. ,    264. ,  35700. ],\n",
        "       [   270. ,    270. ,    238.5,    245. ,  60445. ],\n",
        "       [   218. ,    228. ,    196. ,    197. ,  94031. ],\n",
        "       [   210. ,    229. ,    198.8,    211. , 100412. ],\n",
        "       [   205. ,    248. ,    197.8,    240.5,  50659. ],\n",
        "       [   245. ,    269. ,    232.5,    264. ,  99480. ],\n",
        "       [   264. ,    280. ,    251. ,    270. ,  70136. ],\n",
        "       [   267. ,    280. ,    267. ,    279.5,  30732. ],\n",
        "       [   297.5,    307. ,    280. ,    280.5,  43426. ],\n",
        "       [   274. ,    289. ,    258. ,    285. ,  37098. ],\n",
        "       [   305. ,    309. ,    296.5,    309. ,  31939. ],\n",
        "       [   313. ,    330. ,    295. ,    304. ,  46724. ],\n",
        "       [   300. ,    309. ,    295.5,    300. ,  27213. ],\n",
        "       [   302. ,    306.5,    290. ,    296. ,  13466. ],\n",
        "       [   299. ,    300. ,    287. ,    300. ,  10316. ],\n",
        "       [   302.5,    309. ,    302. ,    306.5,  15698. ]])"
      ],
      "metadata": {
        "id": "8CfznXFIaSzb"
      },
      "execution_count": 192,
      "outputs": []
    },
    {
      "cell_type": "code",
      "source": [
        "print(playway_values[playway_values[:,3]>300.0])"
      ],
      "metadata": {
        "id": "f2CTUDstaS8i",
        "colab": {
          "base_uri": "https://localhost:8080/"
        },
        "outputId": "44ff486c-998b-4ab5-f1a6-8fa040f48a04"
      },
      "execution_count": 193,
      "outputs": [
        {
          "output_type": "stream",
          "name": "stdout",
          "text": [
            "[[  305.    324.5   283.5   310.  64081. ]\n",
            " [  325.5   340.5   320.    340.5 55496. ]\n",
            " [  324.    340.5   315.    330.  36152. ]\n",
            " [  344.    344.    310.    315.  35992. ]\n",
            " [  306.5   307.    291.    305.  32539. ]\n",
            " [  305.    309.    296.5   309.  31939. ]\n",
            " [  313.    330.    295.    304.  46724. ]\n",
            " [  302.5   309.    302.    306.5 15698. ]]\n"
          ]
        }
      ]
    },
    {
      "cell_type": "markdown",
      "source": [
        "**99) From this array extract the first 10 rows with the highest volume sorted in descending order.**\n"
      ],
      "metadata": {
        "id": "jLjfMcC2aTRV"
      }
    },
    {
      "cell_type": "code",
      "source": [
        "playway_values = np.array([[   305. ,    324.5,    283.5,    310. ,  64081. ,     41. ],\n",
        "       [   325.5,    340.5,    320. ,    340.5,  55496. ,     20.5],\n",
        "       [   324. ,    340.5,    315. ,    330. ,  36152. ,     25.5],\n",
        "       [   344. ,    344. ,    310. ,    315. ,  35992. ,     34. ],\n",
        "       [   306.5,    307. ,    291. ,    305. ,  32539. ,     16. ],\n",
        "       [   274. ,    291. ,    250. ,    258. ,  79402. ,     41. ],\n",
        "       [   278. ,    284.5,    256. ,    264. ,  35700. ,     28.5],\n",
        "       [   270. ,    270. ,    238.5,    245. ,  60445. ,     31.5],\n",
        "       [   218. ,    228. ,    196. ,    197. ,  94031. ,     32. ],\n",
        "       [   210. ,    229. ,    198.8,    211. , 100412. ,     30.2],\n",
        "       [   205. ,    248. ,    197.8,    240.5,  50659. ,     50.2],\n",
        "       [   245. ,    269. ,    232.5,    264. ,  99480. ,     36.5],\n",
        "       [   264. ,    280. ,    251. ,    270. ,  70136. ,     29. ],\n",
        "       [   267. ,    280. ,    267. ,    279.5,  30732. ,     13. ],\n",
        "       [   297.5,    307. ,    280. ,    280.5,  43426. ,     27. ],\n",
        "       [   274. ,    289. ,    258. ,    285. ,  37098. ,     31. ],\n",
        "       [   305. ,    309. ,    296.5,    309. ,  31939. ,     12.5],\n",
        "       [   313. ,    330. ,    295. ,    304. ,  46724. ,     35. ],\n",
        "       [   300. ,    309. ,    295.5,    300. ,  27213. ,     13.5],\n",
        "       [   302. ,    306.5,    290. ,    296. ,  13466. ,     16.5],\n",
        "       [   299. ,    300. ,    287. ,    300. ,  10316. ,     13. ],\n",
        "       [   302.5,    309. ,    302. ,    306.5,  15698. ,      7. ]])"
      ],
      "metadata": {
        "id": "sr3EVBUvaTeN"
      },
      "execution_count": 194,
      "outputs": []
    },
    {
      "cell_type": "code",
      "source": [
        "print(playway_values[playway_values[:,4].argsort()[::-1]][:10])"
      ],
      "metadata": {
        "id": "7uu4YIl5aTmE",
        "colab": {
          "base_uri": "https://localhost:8080/"
        },
        "outputId": "ac69db85-144a-476e-caea-e100d844d6e2"
      },
      "execution_count": 195,
      "outputs": [
        {
          "output_type": "stream",
          "name": "stdout",
          "text": [
            "[[   210.     229.     198.8    211.  100412.      30.2]\n",
            " [   245.     269.     232.5    264.   99480.      36.5]\n",
            " [   218.     228.     196.     197.   94031.      32. ]\n",
            " [   274.     291.     250.     258.   79402.      41. ]\n",
            " [   264.     280.     251.     270.   70136.      29. ]\n",
            " [   305.     324.5    283.5    310.   64081.      41. ]\n",
            " [   270.     270.     238.5    245.   60445.      31.5]\n",
            " [   325.5    340.5    320.     340.5  55496.      20.5]\n",
            " [   205.     248.     197.8    240.5  50659.      50.2]\n",
            " [   313.     330.     295.     304.   46724.      35. ]]\n"
          ]
        }
      ]
    },
    {
      "cell_type": "markdown",
      "source": [
        "**100) Add to this array column that returns 1 in case the close price is higher than the open price, otherwise 0.**\n"
      ],
      "metadata": {
        "id": "CO3EkyHIaT4s"
      }
    },
    {
      "cell_type": "code",
      "source": [
        "playway_values = np.array([[   305. ,    324.5,    283.5,    310. ,  64081. ,     41. ],\n",
        "       [   325.5,    340.5,    320. ,    340.5,  55496. ,     20.5],\n",
        "       [   324. ,    340.5,    315. ,    330. ,  36152. ,     25.5],\n",
        "       [   344. ,    344. ,    310. ,    315. ,  35992. ,     34. ],\n",
        "       [   306.5,    307. ,    291. ,    305. ,  32539. ,     16. ],\n",
        "       [   274. ,    291. ,    250. ,    258. ,  79402. ,     41. ],\n",
        "       [   278. ,    284.5,    256. ,    264. ,  35700. ,     28.5],\n",
        "       [   270. ,    270. ,    238.5,    245. ,  60445. ,     31.5],\n",
        "       [   218. ,    228. ,    196. ,    197. ,  94031. ,     32. ],\n",
        "       [   210. ,    229. ,    198.8,    211. , 100412. ,     30.2],\n",
        "       [   205. ,    248. ,    197.8,    240.5,  50659. ,     50.2],\n",
        "       [   245. ,    269. ,    232.5,    264. ,  99480. ,     36.5],\n",
        "       [   264. ,    280. ,    251. ,    270. ,  70136. ,     29. ],\n",
        "       [   267. ,    280. ,    267. ,    279.5,  30732. ,     13. ],\n",
        "       [   297.5,    307. ,    280. ,    280.5,  43426. ,     27. ],\n",
        "       [   274. ,    289. ,    258. ,    285. ,  37098. ,     31. ],\n",
        "       [   305. ,    309. ,    296.5,    309. ,  31939. ,     12.5],\n",
        "       [   313. ,    330. ,    295. ,    304. ,  46724. ,     35. ],\n",
        "       [   300. ,    309. ,    295.5,    300. ,  27213. ,     13.5],\n",
        "       [   302. ,    306.5,    290. ,    296. ,  13466. ,     16.5],\n",
        "       [   299. ,    300. ,    287. ,    300. ,  10316. ,     13. ],\n",
        "       [   302.5,    309. ,    302. ,    306.5,  15698. ,      7. ]])\n"
      ],
      "metadata": {
        "id": "jn-mBnXpaUGI"
      },
      "execution_count": 196,
      "outputs": []
    },
    {
      "cell_type": "code",
      "source": [
        "from sys import float_info\n",
        "flag=playway_values[:,[0]]<playway_values[:,[3]]\n",
        "flag=flag.astype(int)\n",
        "playway_values=np.concatenate((playway_values,flag),axis=1)\n",
        "print(playway_values)"
      ],
      "metadata": {
        "id": "0_scHKVoaUQI",
        "colab": {
          "base_uri": "https://localhost:8080/"
        },
        "outputId": "71e3a388-1992-4624-e38d-a439e80df9d0"
      },
      "execution_count": 197,
      "outputs": [
        {
          "output_type": "stream",
          "name": "stdout",
          "text": [
            "[[   305.     324.5    283.5    310.   64081.      41.       1. ]\n",
            " [   325.5    340.5    320.     340.5  55496.      20.5      1. ]\n",
            " [   324.     340.5    315.     330.   36152.      25.5      1. ]\n",
            " [   344.     344.     310.     315.   35992.      34.       0. ]\n",
            " [   306.5    307.     291.     305.   32539.      16.       0. ]\n",
            " [   274.     291.     250.     258.   79402.      41.       0. ]\n",
            " [   278.     284.5    256.     264.   35700.      28.5      0. ]\n",
            " [   270.     270.     238.5    245.   60445.      31.5      0. ]\n",
            " [   218.     228.     196.     197.   94031.      32.       0. ]\n",
            " [   210.     229.     198.8    211.  100412.      30.2      1. ]\n",
            " [   205.     248.     197.8    240.5  50659.      50.2      1. ]\n",
            " [   245.     269.     232.5    264.   99480.      36.5      1. ]\n",
            " [   264.     280.     251.     270.   70136.      29.       1. ]\n",
            " [   267.     280.     267.     279.5  30732.      13.       1. ]\n",
            " [   297.5    307.     280.     280.5  43426.      27.       0. ]\n",
            " [   274.     289.     258.     285.   37098.      31.       1. ]\n",
            " [   305.     309.     296.5    309.   31939.      12.5      1. ]\n",
            " [   313.     330.     295.     304.   46724.      35.       0. ]\n",
            " [   300.     309.     295.5    300.   27213.      13.5      0. ]\n",
            " [   302.     306.5    290.     296.   13466.      16.5      0. ]\n",
            " [   299.     300.     287.     300.   10316.      13.       1. ]\n",
            " [   302.5    309.     302.     306.5  15698.       7.       1. ]]\n"
          ]
        }
      ]
    },
    {
      "cell_type": "markdown",
      "source": [
        "**101) Solve the following system of equations using the Numpy package:**\n",
        "\n",
        "![image.png](data:image/png;base64,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)"
      ],
      "metadata": {
        "id": "q_HdUi-saUk5"
      }
    },
    {
      "cell_type": "code",
      "source": [
        "A=np.array([[5,-3],[1,-2]])\n",
        "B=np.array([[21],[7]])"
      ],
      "metadata": {
        "id": "5eRVvTs7aUxr"
      },
      "execution_count": 198,
      "outputs": []
    },
    {
      "cell_type": "code",
      "source": [
        "X=np.dot(np.linalg.inv(A),B)\n",
        "x=X[0][0]\n",
        "y=X[1][0]\n",
        "print(f'x={x:.2f}\\ny={y:.2f}')"
      ],
      "metadata": {
        "id": "avLZIRi5aU8I",
        "colab": {
          "base_uri": "https://localhost:8080/"
        },
        "outputId": "6fb5af86-9ff5-4d40-86d6-83e41ea5d3fd"
      },
      "execution_count": 199,
      "outputs": [
        {
          "output_type": "stream",
          "name": "stdout",
          "text": [
            "x=3.00\n",
            "y=-2.00\n"
          ]
        }
      ]
    },
    {
      "cell_type": "markdown",
      "source": [
        "**102) Solve the following system of equations using the Numpy package:**\n",
        "\n",
        "![image.png](data:image/png;base64,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)"
      ],
      "metadata": {
        "id": "pv7O5w9xaVUH"
      }
    },
    {
      "cell_type": "code",
      "source": [
        "A=np.array([[1,1,1],[2,1,5],[1,-1,-1]])\n",
        "B=np.array([[1],[0],[0]])"
      ],
      "metadata": {
        "id": "kfN6ReRnaVhE"
      },
      "execution_count": 200,
      "outputs": []
    },
    {
      "cell_type": "code",
      "source": [
        "X=np.dot(np.linalg.inv(A),B)\n",
        "x=X[0][0]\n",
        "y=X[1][0]\n",
        "z=X[2][0]\n",
        "print(f'x={x:.2f}\\ny={y:.2f}\\nz={z:.2f}')"
      ],
      "metadata": {
        "id": "dHKya5rJaVqg",
        "colab": {
          "base_uri": "https://localhost:8080/"
        },
        "outputId": "67aca55d-faad-46e7-bfa4-0b5529408520"
      },
      "execution_count": 201,
      "outputs": [
        {
          "output_type": "stream",
          "name": "stdout",
          "text": [
            "x=0.50\n",
            "y=0.88\n",
            "z=-0.38\n"
          ]
        }
      ]
    }
  ]
}